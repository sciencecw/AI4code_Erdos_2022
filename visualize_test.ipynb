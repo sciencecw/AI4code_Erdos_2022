{
    "cells": [
        {
            "cell_type": "markdown",
            "id": "12345",
            "metadata": {},
            "source": []
        },
        {
            "cell_type": "code",
            "execution_count": 1,
            "id": "12345",
            "metadata": {},
            "outputs": [],
            "source": []
        },
        {
            "cell_type": "code",
            "execution_count": 1,
            "id": "5460dfe1",
            "metadata": {},
            "outputs": [],
            "source": [
                "!nvidia-smi"
            ]
        },
        {
            "cell_type": "code",
            "execution_count": 1,
            "id": "0c6056d2",
            "metadata": {},
            "outputs": [],
            "source": [
                "# try:\n",
                "#     import resnest,timm\n",
                "# except ModuleNotFoundError:\n",
                "#     !pip install -q \"../input/resnest50-fast-package/resnest-0.0.6b20200701/resnest\" timm\n",
                "import sys\n",
                "sys.path.append('../input/timm-pytorch-image-models/pytorch-image-models-master')"
            ]
        },
        {
            "cell_type": "code",
            "execution_count": 1,
            "id": "17d509b0",
            "metadata": {},
            "outputs": [],
            "source": [
                "import numpy as np\n",
                "import librosa as lb\n",
                "import soundfile as sf\n",
                "import pandas as pd\n",
                "import cv2\n",
                "from pathlib import Path\n",
                "import re\n",
                "import timm\n",
                "import torch\n",
                "from torch import nn\n",
                "from  torch.utils.data import Dataset, DataLoader\n",
                "\n",
                "from tqdm.notebook import tqdm\n",
                "import time\n",
                "# from resnest.torch import resnest50"
            ]
        },
        {
            "cell_type": "code",
            "execution_count": 1,
            "id": "12345",
            "metadata": {},
            "outputs": [],
            "source": [
                "\"\""
            ]
        },
        {
            "cell_type": "code",
            "execution_count": 1,
            "id": "12345",
            "metadata": {},
            "outputs": [],
            "source": []
        },
        {
            "cell_type": "code",
            "execution_count": 1,
            "id": "12345",
            "metadata": {},
            "outputs": [],
            "source": []
        },
        {
            "cell_type": "markdown",
            "id": "7fb5a659",
            "metadata": {},
            "source": [
                "# Notes"
            ]
        }
    ],
    "metadata": {
        "kernelspec": {
            "display_name": "Python 3 (ipykernel)",
            "language": "python",
            "name": "python3"
        },
        "language_info": {
            "codemirror_mode": {
                "name": "ipython",
                "version": 3
            },
            "file_extension": ".py",
            "mimetype": "text/x-python",
            "name": "python",
            "nbconvert_exporter": "python",
            "pygments_lexer": "ipython3",
            "version": "3.9.9"
        }
    },
    "nbformat": 4,
    "nbformat_minor": 5
}
