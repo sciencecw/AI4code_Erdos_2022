{
 "cells": [
  {
   "cell_type": "markdown",
   "metadata": {},
   "source": [
    "# Preprocessing pipeline\n",
    "\n",
    "Even though Kaggle has worked to collect and ordered the data, the JSON files need some work before becoming trainable dataset\n",
    "\n",
    "This will be organized in a three step process\n",
    "\n",
    "\n",
    "P1 ==>\n",
    "-  We will reduce the number of JSON files we will run on (1 in 100). This is to produce a more managable dataset as we are only testing the waters with our model. The full data can be reprocessed if the model is found to be good.\n",
    "-  The info in CSVs will be brought in to become columns in panda dataset\n",
    "\n",
    "P2 ==>\n",
    "- Tokens will be created from the markdowns and codes, with slightly different process\n",
    "- features will be added (length of text, num of lines of code vs comments, dummy variables to replace left values - which should be encoded differently when it's a right value)\n",
    "\n",
    "P3 ==>\n",
    "-  We will split the dataset into two. One for each type of cell. As it would be easier to build a model predicting just code and just MarkDown. We could then use their output to train our full model\n",
    "\n",
    "P4 ==>\n",
    "- replace order of cells with comparison relations `{ <, =, > }`, creating n(n-1)/2 combinations\n",
    "\n",
    "P5 ==>\n",
    "- Dataframes/ CSVs will be concatenated\n",
    "\n",
    "\n",
    "Timing will be mandatory for long steps and recorded for purpose of optimizing re-running strategies\n",
    "\n",
    "\n"
   ]
  },
  {
   "cell_type": "code",
   "execution_count": 70,
   "metadata": {},
   "outputs": [],
   "source": [
    "df1 = pd.read_json(\"data/train/00001756c60be8.json\")"
   ]
  },
  {
   "cell_type": "code",
   "execution_count": 48,
   "metadata": {},
   "outputs": [
    {
     "data": {
      "text/html": [
       "<div>\n",
       "<style scoped>\n",
       "    .dataframe tbody tr th:only-of-type {\n",
       "        vertical-align: middle;\n",
       "    }\n",
       "\n",
       "    .dataframe tbody tr th {\n",
       "        vertical-align: top;\n",
       "    }\n",
       "\n",
       "    .dataframe thead th {\n",
       "        text-align: right;\n",
       "    }\n",
       "</style>\n",
       "<table border=\"1\" class=\"dataframe\">\n",
       "  <thead>\n",
       "    <tr style=\"text-align: right;\">\n",
       "      <th></th>\n",
       "      <th>id</th>\n",
       "      <th>cell_order</th>\n",
       "    </tr>\n",
       "  </thead>\n",
       "  <tbody>\n",
       "    <tr>\n",
       "      <th>101544</th>\n",
       "      <td>ba8ec0edee076c</td>\n",
       "      <td>[b60583e5, f410fa1b, 710020c5, 667d777e, b3f52...</td>\n",
       "    </tr>\n",
       "    <tr>\n",
       "      <th>121325</th>\n",
       "      <td>df2df37e4c6910</td>\n",
       "      <td>[5c08e7c6, 7d256d36, 338b13e6, d31ca04d, 09d9d...</td>\n",
       "    </tr>\n",
       "    <tr>\n",
       "      <th>16508</th>\n",
       "      <td>1e18a15c453f3e</td>\n",
       "      <td>[248c3be9, fb743e4c, 29a3b7c6, 76d33b56, 05423...</td>\n",
       "    </tr>\n",
       "    <tr>\n",
       "      <th>98435</th>\n",
       "      <td>b4d7d0c828d1c1</td>\n",
       "      <td>[fe995b22, 591cd7c0, df5f3d91, 0b4de330, 2b461...</td>\n",
       "    </tr>\n",
       "    <tr>\n",
       "      <th>10369</th>\n",
       "      <td>1305ae8cd924b0</td>\n",
       "      <td>[e0afd782, ff4b7e44, 75ae29d3, cd435475, a089f...</td>\n",
       "    </tr>\n",
       "  </tbody>\n",
       "</table>\n",
       "</div>"
      ],
      "text/plain": [
       "                    id                                         cell_order\n",
       "101544  ba8ec0edee076c  [b60583e5, f410fa1b, 710020c5, 667d777e, b3f52...\n",
       "121325  df2df37e4c6910  [5c08e7c6, 7d256d36, 338b13e6, d31ca04d, 09d9d...\n",
       "16508   1e18a15c453f3e  [248c3be9, fb743e4c, 29a3b7c6, 76d33b56, 05423...\n",
       "98435   b4d7d0c828d1c1  [fe995b22, 591cd7c0, df5f3d91, 0b4de330, 2b461...\n",
       "10369   1305ae8cd924b0  [e0afd782, ff4b7e44, 75ae29d3, cd435475, a089f..."
      ]
     },
     "execution_count": 48,
     "metadata": {},
     "output_type": "execute_result"
    }
   ],
   "source": [
    "train_order = pd.read_csv(\"data/train_orders.csv\")\n",
    "train_order.cell_order=train_order.cell_order.str.split()\n",
    "train_order.sample(5)"
   ]
  },
  {
   "cell_type": "markdown",
   "metadata": {},
   "source": [
    "## Step P1: Skim dataset and add order information"
   ]
  },
  {
   "cell_type": "code",
   "execution_count": 62,
   "metadata": {},
   "outputs": [
    {
     "name": "stdout",
     "output_type": "stream",
     "text": [
      "CPU times: user 4.62 s, sys: 278 ms, total: 4.9 s\n",
      "Wall time: 5.85 s\n"
     ]
    }
   ],
   "source": [
    "%%time\n",
    "# 6 secs/ 2MB for 1 in 1000 skim rate\n",
    "for index, row in train_order.iterrows():\n",
    "    if index%1000==0:\n",
    "        true_order = { h: i for i, h in enumerate(row[\"cell_order\"])}\n",
    "\n",
    "        # get dataframe\n",
    "        df = pd.read_json(f\"data/train/{row['id']}.json\")\n",
    "        df[\"true_order\"] = df.index.map(true_order)\n",
    "        #df[\"true_order_code\"] = df[df.cell_type==\"code\"].rank()\n",
    "        df.to_csv(f\"data/train_P1/{row['id']}.csv\")\n",
    "        "
   ]
  },
  {
   "cell_type": "code",
   "execution_count": 55,
   "metadata": {},
   "outputs": [],
   "source": [
    "df[\"true_order\"] = df.index.map(true_order)"
   ]
  },
  {
   "cell_type": "code",
   "execution_count": 59,
   "metadata": {},
   "outputs": [],
   "source": [
    "df[\"true_order_by_type\"] = df.groupby(\"cell_type\")[\"true_order\"].rank()"
   ]
  },
  {
   "cell_type": "code",
   "execution_count": 85,
   "metadata": {},
   "outputs": [
    {
     "ename": "NameError",
     "evalue": "name 'stopwords' is not defined",
     "output_type": "error",
     "traceback": [
      "\u001b[0;31m---------------------------------------------------------------------------\u001b[0m",
      "\u001b[0;31mNameError\u001b[0m                                 Traceback (most recent call last)",
      "\u001b[1;32m/Users/kakw/git_repos/AI4code_Erdos_2022/N4_preprocess_pipeline.ipynb Cell 8'\u001b[0m in \u001b[0;36m<cell line: 2>\u001b[0;34m()\u001b[0m\n\u001b[1;32m      <a href='vscode-notebook-cell:/Users/kakw/git_repos/AI4code_Erdos_2022/N4_preprocess_pipeline.ipynb#ch0000044?line=0'>1</a>\u001b[0m \u001b[39m#df\u001b[39;00m\n\u001b[0;32m----> <a href='vscode-notebook-cell:/Users/kakw/git_repos/AI4code_Erdos_2022/N4_preprocess_pipeline.ipynb#ch0000044?line=1'>2</a>\u001b[0m preprocessing_unit(df1\u001b[39m.\u001b[39;49miloc[\u001b[39m-\u001b[39;49m\u001b[39m2\u001b[39;49m][\u001b[39m\"\u001b[39;49m\u001b[39msource\u001b[39;49m\u001b[39m\"\u001b[39;49m])\n",
      "\u001b[1;32m/Users/kakw/git_repos/AI4code_Erdos_2022/N4_preprocess_pipeline.ipynb Cell 10'\u001b[0m in \u001b[0;36mpreprocessing_unit\u001b[0;34m(testtext)\u001b[0m\n\u001b[1;32m      <a href='vscode-notebook-cell:/Users/kakw/git_repos/AI4code_Erdos_2022/N4_preprocess_pipeline.ipynb#ch0000045?line=2'>3</a>\u001b[0m words \u001b[39m=\u001b[39m re\u001b[39m.\u001b[39msub(\u001b[39mr\u001b[39m\u001b[39m\"\u001b[39m\u001b[39m[^a-zA-Z0-9]\u001b[39m\u001b[39m\"\u001b[39m, \u001b[39m\"\u001b[39m\u001b[39m \u001b[39m\u001b[39m\"\u001b[39m, testtext\u001b[39m.\u001b[39mlower())\n\u001b[1;32m      <a href='vscode-notebook-cell:/Users/kakw/git_repos/AI4code_Erdos_2022/N4_preprocess_pipeline.ipynb#ch0000045?line=3'>4</a>\u001b[0m words\u001b[39m=\u001b[39mnltk\u001b[39m.\u001b[39mword_tokenize(words)\n\u001b[0;32m----> <a href='vscode-notebook-cell:/Users/kakw/git_repos/AI4code_Erdos_2022/N4_preprocess_pipeline.ipynb#ch0000045?line=4'>5</a>\u001b[0m words\u001b[39m=\u001b[39m[w \u001b[39mfor\u001b[39;00m w \u001b[39min\u001b[39;00m words \u001b[39mif\u001b[39;00m w \u001b[39mnot\u001b[39;00m \u001b[39min\u001b[39;00m stopwords\u001b[39m.\u001b[39mwords(\u001b[39m\"\u001b[39m\u001b[39menglish\u001b[39m\u001b[39m\"\u001b[39m)]\n\u001b[1;32m      <a href='vscode-notebook-cell:/Users/kakw/git_repos/AI4code_Erdos_2022/N4_preprocess_pipeline.ipynb#ch0000045?line=5'>6</a>\u001b[0m \u001b[39m#print([w for w in words if w not in stopwords.words(\"english\")])\u001b[39;00m\n\u001b[1;32m      <a href='vscode-notebook-cell:/Users/kakw/git_repos/AI4code_Erdos_2022/N4_preprocess_pipeline.ipynb#ch0000045?line=6'>7</a>\u001b[0m words \u001b[39m=\u001b[39m [words \u001b[39mfor\u001b[39;00m words \u001b[39min\u001b[39;00m words \u001b[39mif\u001b[39;00m \u001b[39mnot\u001b[39;00m words\u001b[39m.\u001b[39misdigit()]\n",
      "\u001b[1;32m/Users/kakw/git_repos/AI4code_Erdos_2022/N4_preprocess_pipeline.ipynb Cell 10'\u001b[0m in \u001b[0;36m<listcomp>\u001b[0;34m(.0)\u001b[0m\n\u001b[1;32m      <a href='vscode-notebook-cell:/Users/kakw/git_repos/AI4code_Erdos_2022/N4_preprocess_pipeline.ipynb#ch0000045?line=2'>3</a>\u001b[0m words \u001b[39m=\u001b[39m re\u001b[39m.\u001b[39msub(\u001b[39mr\u001b[39m\u001b[39m\"\u001b[39m\u001b[39m[^a-zA-Z0-9]\u001b[39m\u001b[39m\"\u001b[39m, \u001b[39m\"\u001b[39m\u001b[39m \u001b[39m\u001b[39m\"\u001b[39m, testtext\u001b[39m.\u001b[39mlower())\n\u001b[1;32m      <a href='vscode-notebook-cell:/Users/kakw/git_repos/AI4code_Erdos_2022/N4_preprocess_pipeline.ipynb#ch0000045?line=3'>4</a>\u001b[0m words\u001b[39m=\u001b[39mnltk\u001b[39m.\u001b[39mword_tokenize(words)\n\u001b[0;32m----> <a href='vscode-notebook-cell:/Users/kakw/git_repos/AI4code_Erdos_2022/N4_preprocess_pipeline.ipynb#ch0000045?line=4'>5</a>\u001b[0m words\u001b[39m=\u001b[39m[w \u001b[39mfor\u001b[39;00m w \u001b[39min\u001b[39;00m words \u001b[39mif\u001b[39;00m w \u001b[39mnot\u001b[39;00m \u001b[39min\u001b[39;00m stopwords\u001b[39m.\u001b[39mwords(\u001b[39m\"\u001b[39m\u001b[39menglish\u001b[39m\u001b[39m\"\u001b[39m)]\n\u001b[1;32m      <a href='vscode-notebook-cell:/Users/kakw/git_repos/AI4code_Erdos_2022/N4_preprocess_pipeline.ipynb#ch0000045?line=5'>6</a>\u001b[0m \u001b[39m#print([w for w in words if w not in stopwords.words(\"english\")])\u001b[39;00m\n\u001b[1;32m      <a href='vscode-notebook-cell:/Users/kakw/git_repos/AI4code_Erdos_2022/N4_preprocess_pipeline.ipynb#ch0000045?line=6'>7</a>\u001b[0m words \u001b[39m=\u001b[39m [words \u001b[39mfor\u001b[39;00m words \u001b[39min\u001b[39;00m words \u001b[39mif\u001b[39;00m \u001b[39mnot\u001b[39;00m words\u001b[39m.\u001b[39misdigit()]\n",
      "\u001b[0;31mNameError\u001b[0m: name 'stopwords' is not defined"
     ]
    }
   ],
   "source": [
    "#df\n",
    "preprocessing_unit(df1.iloc[-2][\"source\"])"
   ]
  },
  {
   "cell_type": "markdown",
   "metadata": {},
   "source": [
    "## Step P2: NLP preprocessing"
   ]
  },
  {
   "cell_type": "code",
   "execution_count": 66,
   "metadata": {},
   "outputs": [],
   "source": [
    "import re\n",
    "def preprocessing_unit(testtext: str):\n",
    "    words = re.sub(r\"[^a-zA-Z0-9]\", \" \", testtext.lower())\n",
    "    words=nltk.word_tokenize(words)\n",
    "    words=[w for w in words if w not in stopwords.words(\"english\")]\n",
    "    #print([w for w in words if w not in stopwords.words(\"english\")])\n",
    "    words = [words for words in words if not words.isdigit()]\n",
    "    return words"
   ]
  },
  {
   "cell_type": "code",
   "execution_count": 67,
   "metadata": {},
   "outputs": [
    {
     "ename": "AttributeError",
     "evalue": "'int' object has no attribute 'lower'",
     "output_type": "error",
     "traceback": [
      "\u001b[0;31m---------------------------------------------------------------------------\u001b[0m",
      "\u001b[0;31mAttributeError\u001b[0m                            Traceback (most recent call last)",
      "\u001b[1;32m/Users/kakw/git_repos/AI4code_Erdos_2022/N4_preprocess_pipeline.ipynb Cell 12'\u001b[0m in \u001b[0;36m<cell line: 1>\u001b[0;34m()\u001b[0m\n\u001b[0;32m----> <a href='vscode-notebook-cell:/Users/kakw/git_repos/AI4code_Erdos_2022/N4_preprocess_pipeline.ipynb#ch0000049?line=0'>1</a>\u001b[0m preprocessing_unit(\u001b[39m1\u001b[39;49m)\n",
      "\u001b[1;32m/Users/kakw/git_repos/AI4code_Erdos_2022/N4_preprocess_pipeline.ipynb Cell 11'\u001b[0m in \u001b[0;36mpreprocessing_unit\u001b[0;34m(testtext)\u001b[0m\n\u001b[1;32m      <a href='vscode-notebook-cell:/Users/kakw/git_repos/AI4code_Erdos_2022/N4_preprocess_pipeline.ipynb#ch0000045?line=1'>2</a>\u001b[0m \u001b[39mdef\u001b[39;00m \u001b[39mpreprocessing_unit\u001b[39m(testtext: \u001b[39mstr\u001b[39m):\n\u001b[0;32m----> <a href='vscode-notebook-cell:/Users/kakw/git_repos/AI4code_Erdos_2022/N4_preprocess_pipeline.ipynb#ch0000045?line=2'>3</a>\u001b[0m     words \u001b[39m=\u001b[39m re\u001b[39m.\u001b[39msub(\u001b[39mr\u001b[39m\u001b[39m\"\u001b[39m\u001b[39m[^a-zA-Z0-9]\u001b[39m\u001b[39m\"\u001b[39m, \u001b[39m\"\u001b[39m\u001b[39m \u001b[39m\u001b[39m\"\u001b[39m, testtext\u001b[39m.\u001b[39;49mlower())\n\u001b[1;32m      <a href='vscode-notebook-cell:/Users/kakw/git_repos/AI4code_Erdos_2022/N4_preprocess_pipeline.ipynb#ch0000045?line=3'>4</a>\u001b[0m     words\u001b[39m=\u001b[39mnltk\u001b[39m.\u001b[39mword_tokenize(words)\n\u001b[1;32m      <a href='vscode-notebook-cell:/Users/kakw/git_repos/AI4code_Erdos_2022/N4_preprocess_pipeline.ipynb#ch0000045?line=4'>5</a>\u001b[0m     words\u001b[39m=\u001b[39m[w \u001b[39mfor\u001b[39;00m w \u001b[39min\u001b[39;00m words \u001b[39mif\u001b[39;00m w \u001b[39mnot\u001b[39;00m \u001b[39min\u001b[39;00m stopwords\u001b[39m.\u001b[39mwords(\u001b[39m\"\u001b[39m\u001b[39menglish\u001b[39m\u001b[39m\"\u001b[39m)]\n",
      "\u001b[0;31mAttributeError\u001b[0m: 'int' object has no attribute 'lower'"
     ]
    }
   ],
   "source": [
    "preprocessing_unit()"
   ]
  },
  {
   "cell_type": "code",
   "execution_count": null,
   "metadata": {},
   "outputs": [],
   "source": []
  }
 ],
 "metadata": {
  "interpreter": {
   "hash": "4976e0179d97dd6d59b1329a76e601e17b789c2571b41c8b57f5fd69821c0dd3"
  },
  "kernelspec": {
   "display_name": "Python 3.8.13 ('mlp')",
   "language": "python",
   "name": "python3"
  },
  "language_info": {
   "codemirror_mode": {
    "name": "ipython",
    "version": 3
   },
   "file_extension": ".py",
   "mimetype": "text/x-python",
   "name": "python",
   "nbconvert_exporter": "python",
   "pygments_lexer": "ipython3",
   "version": "3.8.13"
  }
 },
 "nbformat": 4,
 "nbformat_minor": 2
}
