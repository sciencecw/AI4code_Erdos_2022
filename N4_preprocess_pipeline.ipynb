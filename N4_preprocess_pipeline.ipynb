{
 "cells": [
  {
   "cell_type": "markdown",
   "metadata": {},
   "source": [
    "# Preprocessing pipeline\n",
    "\n",
    "Even though Kaggle has worked to collect and ordered the data, the JSON files need some work before becoming trainable dataset\n",
    "\n",
    "This will be organized in a three step process\n",
    "\n",
    "\n",
    "P1 ==>\n",
    "-  We will reduce the number of JSON files we will run on (1 in 100). This is to produce a more managable dataset as we are only testing the waters with our model. The full data can be reprocessed if the model is found to be good.\n",
    "-  The info in CSVs will be brought in to become columns in panda dataset\n",
    "-  We will split the dataset into two. One for each type of cell. As it would be easier to build a model predicting just code and just MarkDown. We could then use their output to train our full model\n",
    "\n",
    "P2 ==>\n",
    "- Tokens will be created from the markdowns and codes, with slightly different process\n",
    "- features will be added (length of text, num of lines of code vs comments, dummy variables to replace left values - which should be encoded differently when it's a right value)\n",
    "\n",
    "P3 ==>\n",
    "- Vectorize the entry using `skikit-learn`\n",
    "\n",
    "P4 ==>\n",
    "- replace order of cells with comparison relations `{ <, =, > }`, creating n(n-1)/2 combinations\n",
    "- Dataframes/ CSVs will be concatenated\n",
    "\n",
    "\n",
    "Timing will be mandatory for long steps and recorded for purpose of optimizing re-running strategies\n",
    "\n",
    "\n"
   ]
  },
  {
   "cell_type": "code",
   "execution_count": 1,
   "metadata": {},
   "outputs": [],
   "source": [
    "import numpy as np\n",
    "import pandas as pd\n",
    "import matplotlib.pyplot as plt"
   ]
  },
  {
   "cell_type": "code",
   "execution_count": 2,
   "metadata": {},
   "outputs": [
    {
     "data": {
      "text/html": [
       "<div>\n",
       "<style scoped>\n",
       "    .dataframe tbody tr th:only-of-type {\n",
       "        vertical-align: middle;\n",
       "    }\n",
       "\n",
       "    .dataframe tbody tr th {\n",
       "        vertical-align: top;\n",
       "    }\n",
       "\n",
       "    .dataframe thead th {\n",
       "        text-align: right;\n",
       "    }\n",
       "</style>\n",
       "<table border=\"1\" class=\"dataframe\">\n",
       "  <thead>\n",
       "    <tr style=\"text-align: right;\">\n",
       "      <th></th>\n",
       "      <th>id</th>\n",
       "      <th>cell_order</th>\n",
       "    </tr>\n",
       "  </thead>\n",
       "  <tbody>\n",
       "    <tr>\n",
       "      <th>0</th>\n",
       "      <td>00001756c60be8</td>\n",
       "      <td>[1862f0a6, 448eb224, 2a9e43d6, 7e2f170a, 038b7...</td>\n",
       "    </tr>\n",
       "    <tr>\n",
       "      <th>1</th>\n",
       "      <td>00015c83e2717b</td>\n",
       "      <td>[2e94bd7a, 3e99dee9, b5e286ea, da4f7550, c4172...</td>\n",
       "    </tr>\n",
       "    <tr>\n",
       "      <th>2</th>\n",
       "      <td>0001bdd4021779</td>\n",
       "      <td>[3fdc37be, 073782ca, 8ea7263c, 80543cd8, 38310...</td>\n",
       "    </tr>\n",
       "    <tr>\n",
       "      <th>3</th>\n",
       "      <td>0001daf4c2c76d</td>\n",
       "      <td>[97266564, a898e555, 86605076, 76cc2642, ef279...</td>\n",
       "    </tr>\n",
       "    <tr>\n",
       "      <th>4</th>\n",
       "      <td>0002115f48f982</td>\n",
       "      <td>[9ec225f0, 18281c6c, e3b6b115, 4a044c54, 365fe...</td>\n",
       "    </tr>\n",
       "  </tbody>\n",
       "</table>\n",
       "</div>"
      ],
      "text/plain": [
       "               id                                         cell_order\n",
       "0  00001756c60be8  [1862f0a6, 448eb224, 2a9e43d6, 7e2f170a, 038b7...\n",
       "1  00015c83e2717b  [2e94bd7a, 3e99dee9, b5e286ea, da4f7550, c4172...\n",
       "2  0001bdd4021779  [3fdc37be, 073782ca, 8ea7263c, 80543cd8, 38310...\n",
       "3  0001daf4c2c76d  [97266564, a898e555, 86605076, 76cc2642, ef279...\n",
       "4  0002115f48f982  [9ec225f0, 18281c6c, e3b6b115, 4a044c54, 365fe..."
      ]
     },
     "execution_count": 2,
     "metadata": {},
     "output_type": "execute_result"
    }
   ],
   "source": [
    "train_order = pd.read_csv(\"data/train_orders.csv\")\n",
    "train_order.cell_order=train_order.cell_order.str.split()\n",
    "train_order.head(5)"
   ]
  },
  {
   "cell_type": "code",
   "execution_count": 3,
   "metadata": {},
   "outputs": [],
   "source": [
    "df1 = pd.read_json(\"data/train/00001756c60be8.json\")"
   ]
  },
  {
   "cell_type": "code",
   "execution_count": 4,
   "metadata": {},
   "outputs": [],
   "source": [
    "vort = \"train\" # validation or training"
   ]
  },
  {
   "cell_type": "markdown",
   "metadata": {},
   "source": [
    "## Step P1: Skim dataset and add order information\n",
    "\n",
    "At this stage, only one in 1000 notebooks is processed. After all notebooks are finished, this is re-run at a higher skim rate (currently at 1 in 30). We also need a manual validation set, as we don't want the same document to be feeding into both training and validation"
   ]
  },
  {
   "cell_type": "code",
   "execution_count": 5,
   "metadata": {},
   "outputs": [
    {
     "name": "stdout",
     "output_type": "stream",
     "text": [
      "CPU times: user 15.9 s, sys: 1.63 s, total: 17.5 s\n",
      "Wall time: 19.1 s\n"
     ]
    },
    {
     "data": {
      "text/html": [
       "<div>\n",
       "<style scoped>\n",
       "    .dataframe tbody tr th:only-of-type {\n",
       "        vertical-align: middle;\n",
       "    }\n",
       "\n",
       "    .dataframe tbody tr th {\n",
       "        vertical-align: top;\n",
       "    }\n",
       "\n",
       "    .dataframe thead th {\n",
       "        text-align: right;\n",
       "    }\n",
       "</style>\n",
       "<table border=\"1\" class=\"dataframe\">\n",
       "  <thead>\n",
       "    <tr style=\"text-align: right;\">\n",
       "      <th></th>\n",
       "      <th>cell_type</th>\n",
       "      <th>source</th>\n",
       "      <th>true_order</th>\n",
       "    </tr>\n",
       "  </thead>\n",
       "  <tbody>\n",
       "    <tr>\n",
       "      <th>7c61467b</th>\n",
       "      <td>code</td>\n",
       "      <td>train_df = data[['Weight', 'Balance']].dropna(...</td>\n",
       "      <td>49</td>\n",
       "    </tr>\n",
       "    <tr>\n",
       "      <th>7effe576</th>\n",
       "      <td>code</td>\n",
       "      <td>fig = plt.figure(figsize=(5,5))\\nsns.distplot(...</td>\n",
       "      <td>37</td>\n",
       "    </tr>\n",
       "    <tr>\n",
       "      <th>b099b3a5</th>\n",
       "      <td>code</td>\n",
       "      <td>df[numerical_features].describe().T</td>\n",
       "      <td>18</td>\n",
       "    </tr>\n",
       "    <tr>\n",
       "      <th>ca61ed24</th>\n",
       "      <td>code</td>\n",
       "      <td>import numpy as np \\nimport pandas as pd\\nimpo...</td>\n",
       "      <td>3</td>\n",
       "    </tr>\n",
       "    <tr>\n",
       "      <th>9b9d3eab</th>\n",
       "      <td>markdown</td>\n",
       "      <td>## As all the Numerical features are been impu...</td>\n",
       "      <td>61</td>\n",
       "    </tr>\n",
       "  </tbody>\n",
       "</table>\n",
       "</div>"
      ],
      "text/plain": [
       "         cell_type                                             source  \\\n",
       "7c61467b      code  train_df = data[['Weight', 'Balance']].dropna(...   \n",
       "7effe576      code  fig = plt.figure(figsize=(5,5))\\nsns.distplot(...   \n",
       "b099b3a5      code                df[numerical_features].describe().T   \n",
       "ca61ed24      code  import numpy as np \\nimport pandas as pd\\nimpo...   \n",
       "9b9d3eab  markdown  ## As all the Numerical features are been impu...   \n",
       "\n",
       "          true_order  \n",
       "7c61467b          49  \n",
       "7effe576          37  \n",
       "b099b3a5          18  \n",
       "ca61ed24           3  \n",
       "9b9d3eab          61  "
      ]
     },
     "execution_count": 5,
     "metadata": {},
     "output_type": "execute_result"
    }
   ],
   "source": [
    "%%time\n",
    "#  time: 5sec / memory: 4MB\n",
    "for index, row in train_order.iterrows():\n",
    "    validationindex = index%5000 == 137\n",
    "    if index%30==0 or validationindex:\n",
    "        true_order = { h: i for i, h in enumerate(row[\"cell_order\"])}\n",
    "\n",
    "        # get dataframe\n",
    "        df = pd.read_json(f\"data/train/{row['id']}.json\")\n",
    "        df.loc[:,\"true_order\"] = df.index.map(true_order)\n",
    "        df_code = df[df.cell_type==\"code\"].copy()\n",
    "        df_md = df[df.cell_type==\"markdown\"].copy()\n",
    "        df_code.loc[:,\"true_order_code\"] = df_code[\"true_order\"].rank(method=\"min\").map(int)\n",
    "        df_md.loc[:,\"true_order_md\"] = df_md[\"true_order\"].rank(method=\"min\").map(int)\n",
    "        df_code = df_code.sample(frac=1).reset_index(drop=True)\n",
    "        #df.to_csv(f\"data/train_P1/{row['id']}.csv\")\n",
    "        #df.to_json(f\"data/train_P1/{row['id']}.json\")\n",
    "        if validationindex:\n",
    "            df_code.to_csv(f\"data/valid_P1_code/{row['id']}.csv\")\n",
    "            df_code.to_json(f\"data/valid_P1_code/{row['id']}.json\")\n",
    "            df_md.to_csv(f\"data/valid_P1_md/{row['id']}.csv\")\n",
    "            df_md.to_json(f\"data/valid_P1_md/{row['id']}.json\")\n",
    "        else:\n",
    "            df_code.to_csv(f\"data/train_P1_code/{row['id']}.csv\")\n",
    "            df_code.to_json(f\"data/train_P1_code/{row['id']}.json\")\n",
    "            df_md.to_csv(f\"data/train_P1_md/{row['id']}.csv\")\n",
    "            df_md.to_json(f\"data/train_P1_md/{row['id']}.json\")\n",
    "df.sample(5)\n",
    "        "
   ]
  },
  {
   "cell_type": "markdown",
   "metadata": {},
   "source": [
    "## Pipeline decorator\n",
    "\n",
    "Write a decorator that encapsulates the process of opening files, performing transformations and saving them\n",
    "This is less efficient in terms of storage, but since I am running on my laptop, this helps save CPU time - You don't need to re-run everything everytime you make a change"
   ]
  },
  {
   "cell_type": "code",
   "execution_count": 6,
   "metadata": {},
   "outputs": [],
   "source": [
    "import os\n",
    "from random import shuffle\n",
    "# this configures and returns the decorator\n",
    "def pipeline(indir, outdir=None, breakafterone = False):\n",
    "\n",
    "    # the decorator only receives the function and nothing else\n",
    "    def pipelinedecor(funct):\n",
    "\n",
    "        ## this will take the function and run it\n",
    "        def pipelineinner(df, *args, **kwargs):\n",
    "            df_ = df\n",
    "            infiles = os.listdir(indir)\n",
    "\n",
    "            for f in infiles:\n",
    "\n",
    "                if os.path.isfile(indir+f):\n",
    "                    fn_ = f.split(\".\")\n",
    "\n",
    "                    \n",
    "                    if fn_[1]==\"json\":\n",
    "                        # df is just a dummy variable \n",
    "                        # as we will give it our own input and output\n",
    "                        \n",
    "                        df = pd.read_json(indir+ f\"{fn_[0]}.json\")\n",
    "                        # main function\n",
    "  \n",
    "                        df =  funct(df, *args, **kwargs)\n",
    "\n",
    "                        if outdir and df is not None:\n",
    "                            #df.to_csv(outdir+ f\"{fn_[0]}.csv\")  # at this point csv is used for human verification\n",
    "                            df.to_json(outdir+ f\"{fn_[0]}.json\")\n",
    "\n",
    "                        if breakafterone:\n",
    "                            break\n",
    "\n",
    "            return df_ # return the dummy variable unchanged\n",
    "        return pipelineinner  \n",
    "    return pipelinedecor\n",
    "    "
   ]
  },
  {
   "cell_type": "markdown",
   "metadata": {},
   "source": [
    "## Step P2: NLP preprocessing\n",
    "\n",
    "Markdown is transformed with common NLP preprocessing techniques\n",
    "\n",
    "lower case, remove html tags (as markdown is html compatible), remove non-alphabetical characters,\n",
    "remove digits\n",
    "\n",
    "The markdown is then tokenized and further words are dropped if they are stop words, is digit number (unfortunately this sometimes remove chapter number which would be useful - opportunity for feature engineering), having length more than 20 characters (usually these are hashes)\n",
    "\n",
    "Lastly the words pass through a stemmer to remove grammatical conjugations which confuses the computer"
   ]
  },
  {
   "cell_type": "code",
   "execution_count": 7,
   "metadata": {},
   "outputs": [],
   "source": [
    "import re\n",
    "import nltk\n",
    "from nltk.stem.porter import PorterStemmer\n",
    "from nltk.corpus import stopwords\n",
    "from nltk import ngrams, FreqDist\n",
    "\n",
    "extra_stopwords = [\"li\", \"br\", \"http\", \"https\", \"www\", \"com\", \"class\", \"alert\"]\n",
    "re_html = re.compile(r'<[^>]+>')\n",
    "re_char = re.compile(r\"[^a-zA-Z0-9]\")\n",
    "\n",
    "def preprocessing_unit(sourcetext: str):\n",
    "    words = sourcetext.lower()\n",
    "    words = re_html.sub('', words)\n",
    "    words = re_char.sub(' ', words)\n",
    "    words=nltk.word_tokenize(words)\n",
    "    words=[w for w in words if w not in stopwords.words(\"english\") + extra_stopwords]\n",
    "    words = [w for w in words if not w.isdigit()]\n",
    "    words = [w for w in words if len(w)<20]\n",
    "    words = [PorterStemmer().stem(w) for w in words]\n",
    "    \n",
    "    \n",
    "    return words"
   ]
  },
  {
   "cell_type": "markdown",
   "metadata": {},
   "source": [
    "### AST Unit\n",
    "\n",
    "The AST unit generates left and right values, which is used in different ways\n",
    "\n",
    "1. we get a list of variables, which might be replaced by dummy variable for training\n",
    "2. we may build a directed graph which could help establish inheritance. These are strong features even as some authors of these notebooks are error-prone"
   ]
  },
  {
   "cell_type": "code",
   "execution_count": 8,
   "metadata": {},
   "outputs": [
    {
     "data": {
      "text/plain": [
       "(['x', 'smote', 'randomoversampler', 'pd', 'matplotlib'], ['train_df', 'seed'])"
      ]
     },
     "execution_count": 8,
     "metadata": {},
     "output_type": "execute_result"
    }
   ],
   "source": [
    "import ast\n",
    "re_nomagic = re.compile(r\"^[!%].*\\n?\", flags=re.MULTILINE) # remove ipython magic (syntax error)\n",
    "\n",
    "def ast_unit(sourcetext):\n",
    "\n",
    "    sourcetext =  re_nomagic.sub(\" \", sourcetext.lower())\n",
    "    \n",
    "    try:\n",
    "        root = ast.parse(sourcetext)\n",
    "    except SyntaxError as e: \n",
    "        # This is unavoidable as we cannot control what \n",
    "        # authors of notebook put into their coding cells\n",
    "        # and at this point AST dosn't have a good way to \n",
    "        # recover from an error\n",
    "        return ([],[])\n",
    "\n",
    "    # all use of variables\n",
    "    all_vars = {node.id for node in ast.walk(root) if isinstance(node, ast.Name)}\n",
    "    \n",
    "    # left values\n",
    "    # currently only direct assignment of simple variables are \n",
    "    assignment = {n.id                      for node in ast.walk(root) \\\n",
    "                                            if isinstance(node, ast.Assign) \\\n",
    "                                            for n in node.targets\\\n",
    "                                            if isinstance(n, ast.Name) }\n",
    "\n",
    "\n",
    "    all_imports =  {n.asname or n.name  for node in ast.walk(root) \\\n",
    "                                    if isinstance(node, (ast.Import, ast.ImportFrom)) \\\n",
    "                                    for n in node.names} \n",
    " \n",
    "    right_values = all_vars-assignment-all_imports\n",
    "    left_values = assignment | all_imports\n",
    "    return list(left_values), list(right_values)\n",
    "\n",
    "source = \"import pandas as pd \\nfrom imblearn.over_sampling import \"\\\n",
    "         \"RandomOverSampler, SMOTE \\nimport matplotlib; x = \"\\\n",
    "         \"train_df.drop(columns = \\\"target\\\", random_seed=seed)\"\n",
    " \n",
    "ast_unit(source)"
   ]
  },
  {
   "cell_type": "code",
   "execution_count": 9,
   "metadata": {},
   "outputs": [
    {
     "name": "stdout",
     "output_type": "stream",
     "text": [
      "Инициализация класса Data  ==>  ['data']\n",
      "The club has no relation with the other features and imputing it wiht any club names will be bias. So i am imputing it with the 'no Club'. We can also see there is an line showing missing values in rows of different features both categorical and numerical. So let's view categorical and numerical variable seperately  ==>  ['club', 'relat', 'featur', 'imput', 'wiht', 'club', 'name', 'bia', 'imput', 'club', 'also', 'see', 'line', 'show', 'miss', 'valu', 'row', 'differ', 'featur', 'categor', 'numer', 'let', 'view', 'categor', 'numer', 'variabl', 'seper']\n"
     ]
    }
   ],
   "source": [
    "testphrase = df1.iloc[-2][\"source\"]\n",
    "print(testphrase, \" ==> \", preprocessing_unit(testphrase))\n",
    "testphrase = df.iloc[-2][\"source\"]\n",
    "print(testphrase, \" ==> \", preprocessing_unit(testphrase))"
   ]
  },
  {
   "cell_type": "markdown",
   "metadata": {},
   "source": [
    "### Applying transformation\n",
    "This applies the preprocessing and AST units above"
   ]
  },
  {
   "cell_type": "code",
   "execution_count": 10,
   "metadata": {},
   "outputs": [
    {
     "name": "stdout",
     "output_type": "stream",
     "text": [
      "CPU times: user 7min 5s, sys: 52 s, total: 7min 57s\n",
      "Wall time: 8min 2s\n"
     ]
    }
   ],
   "source": [
    "%%time\n",
    "\n",
    "all_codetokens_in_all_nbs = []\n",
    "#@pipeline(\"data/train_P1_code/\",\"data/train_P2_code/\", breakafterone=False)\n",
    "@pipeline(f\"data/{vort}_P1_code/\",f\"data/{vort}_P2_code/\")\n",
    "def P2_code(df, all_codetokens_in_all_nbs):\n",
    "\n",
    "    ## AST TREE\n",
    "    df[\"codetokens\"] = df[\"source\"].apply(ast_unit)\n",
    "\n",
    "    all_codetokens_in_nb = df[\"codetokens\"].apply(lambda x: x[0]+x[1]).sum()\n",
    "    df.loc[:, \"L-codetokens\"] = df.apply(lambda x: x.codetokens[0], axis =1)\n",
    "    df.loc[:, \"R-codetokens\"] = df.apply(lambda x: x.codetokens[1], axis =1)\n",
    "\n",
    "\n",
    "    ## Ordinary text analysis\n",
    "    df[\"tokens\"] = df[\"source\"] .apply(preprocessing_unit)\n",
    "    \n",
    "    all_tokens_in_nb = df[\"tokens\"].apply(lambda x: \" \".join(x))\n",
    "    all_codetokens_in_all_nbs += all_codetokens_in_nb\n",
    "\n",
    "    return df\n",
    "\n",
    "\n",
    "# 23sec/8MB for 0.1% data\n",
    "# input/ output is just dummy variable\n",
    "_ = P2_code( _,      all_codetokens_in_all_nbs)"
   ]
  },
  {
   "cell_type": "code",
   "execution_count": 11,
   "metadata": {},
   "outputs": [
    {
     "name": "stdout",
     "output_type": "stream",
     "text": [
      "CPU times: user 2min 27s, sys: 19.6 s, total: 2min 46s\n",
      "Wall time: 2min 48s\n"
     ]
    }
   ],
   "source": [
    "%%time\n",
    "all_tokens_in_all_nbs = []\n",
    "#@pipeline(\"data/train_P1_md/\",\"data/train_P2_md/\", breakafterone=False)\n",
    "@pipeline(f\"data/{vort}_P1_md/\",f\"data/{vort}_P2_md/\")\n",
    "def P2_md(df, all_tokens_in_all_nbs):\n",
    "    df[\"tokens\"] = df[\"source\"].apply(preprocessing_unit)\n",
    "    \n",
    "    all_tokens_in_nb = df.tokens.apply(lambda x: \" \".join(x))\n",
    "    all_tokens_in_all_nbs += all_tokens_in_nb.tolist()\n",
    "    return df\n",
    "\n",
    "#8sec/8MB for 0.1% data\n",
    "# input/ output is just dummy variable\n",
    "_ = P2_md(\"dummy\",  all_tokens_in_all_nbs) "
   ]
  },
  {
   "cell_type": "code",
   "execution_count": 12,
   "metadata": {},
   "outputs": [
    {
     "name": "stdout",
     "output_type": "stream",
     "text": [
      "[('', 1942), ('model', 371), ('import librari', 284), ('load data', 218), ('exploratori data analysi', 199), ('train', 186), ('featur engin', 173), ('logist regress', 168), ('eda', 164), ('predict', 163), ('train model', 149), ('submiss', 140), ('data preprocess', 137), ('import', 125), ('random forest', 118), ('read data', 113), ('imag png attach imag png', 112), ('conclus', 111), ('preprocess', 99), ('load dataset', 99), ('visual', 96), ('data clean', 93), ('decis tree', 90), ('train test split', 88), ('dataset', 84), ('import data', 83), ('data visual', 83), ('xgboost', 81), ('introduct', 79), ('data', 77)]\n"
     ]
    }
   ],
   "source": [
    "print(FreqDist(all_tokens_in_all_nbs).most_common(30))"
   ]
  },
  {
   "cell_type": "code",
   "execution_count": 13,
   "metadata": {},
   "outputs": [],
   "source": [
    "all_counts = dict()\n",
    "for size in 1, 2, 3, 4, 5:\n",
    "    all_counts[size] = FreqDist(ngrams(all_tokens_in_all_nbs, size))\n",
    "# No Ngrams for code\n",
    "all_code_counts = FreqDist(all_codetokens_in_all_nbs)"
   ]
  },
  {
   "cell_type": "markdown",
   "metadata": {},
   "source": [
    "## P2A: Plotting\n",
    "\n",
    "Now checking the overall frequecy of words"
   ]
  },
  {
   "cell_type": "code",
   "execution_count": 14,
   "metadata": {},
   "outputs": [
    {
     "data": {
      "image/png": "[encoded data removed]",
      "text/plain": [
       "<Figure size 432x288 with 1 Axes>"
      ]
     },
     "metadata": {
      "needs_background": "light"
     },
     "output_type": "display_data"
    }
   ],
   "source": [
    "ax = all_counts[1].plot(30)"
   ]
  },
  {
   "cell_type": "code",
   "execution_count": 15,
   "metadata": {},
   "outputs": [
    {
     "data": {
      "text/plain": [
       "[(('',), 1942),\n",
       " (('model',), 371),\n",
       " (('import librari',), 284),\n",
       " (('load data',), 218),\n",
       " (('exploratori data analysi',), 199),\n",
       " (('train',), 186),\n",
       " (('featur engin',), 173),\n",
       " (('logist regress',), 168),\n",
       " (('eda',), 164),\n",
       " (('predict',), 163)]"
      ]
     },
     "execution_count": 15,
     "metadata": {},
     "output_type": "execute_result"
    }
   ],
   "source": [
    "all_counts[1].most_common(10)"
   ]
  },
  {
   "cell_type": "code",
   "execution_count": 16,
   "metadata": {},
   "outputs": [
    {
     "data": {
      "image/png": "[encoded data removed]",
      "text/plain": [
       "<Figure size 432x288 with 1 Axes>"
      ]
     },
     "metadata": {
      "needs_background": "light"
     },
     "output_type": "display_data"
    }
   ],
   "source": [
    "#print( all_counts[1].most_common(30))\n",
    "log_rvsNr = [(key,value) for((key,), value) in all_counts[1].most_common(200) ]\n",
    "log_rvsNr = list(zip(*log_rvsNr))\n",
    "\n",
    "# plot the graph of log(r) vs log(Nr)\n",
    "plt.semilogy(range(len(log_rvsNr[0])), log_rvsNr[1], 'r.')\n",
    "plt.xlabel('r')\n",
    "plt.ylabel('log(Nr)')\n",
    "#plt.set_xticks(range(len(log_rvsNr[0])))\n",
    "#plt.set_xticklabels(log_rvsNr[0])\n",
    "plt.title('Semilog distribution of word frequency')\n",
    "plt.show()"
   ]
  },
  {
   "cell_type": "code",
   "execution_count": 17,
   "metadata": {},
   "outputs": [
    {
     "name": "stdout",
     "output_type": "stream",
     "text": [
      " 1942\n",
      "model 371\n",
      "import librari 284\n",
      "load data 218\n",
      "exploratori data analysi 199\n",
      "train 186\n",
      "featur engin 173\n",
      "logist regress 168\n",
      "eda 164\n",
      "predict 163\n",
      "train model 149\n",
      "submiss 140\n",
      "data preprocess 137\n",
      "import 125\n",
      "random forest 118\n",
      "read data 113\n",
      "imag png attach imag png 112\n",
      "conclus 111\n",
      "preprocess 99\n",
      "load dataset 99\n",
      "visual 96\n",
      "data clean 93\n",
      "decis tree 90\n",
      "train test split 88\n",
      "dataset 84\n"
     ]
    }
   ],
   "source": [
    "for ng, ngcount in all_counts[1].most_common(25):\n",
    "    print(\" \".join(ng), ngcount)"
   ]
  },
  {
   "cell_type": "code",
   "execution_count": 18,
   "metadata": {},
   "outputs": [
    {
     "data": {
      "image/png": "[encoded data removed]",
      "text/plain": [
       "<Figure size 432x288 with 1 Axes>"
      ]
     },
     "metadata": {
      "needs_background": "light"
     },
     "output_type": "display_data"
    },
    {
     "data": {
      "text/plain": [
       "<AxesSubplot:xlabel='Samples', ylabel='Counts'>"
      ]
     },
     "execution_count": 18,
     "metadata": {},
     "output_type": "execute_result"
    }
   ],
   "source": [
    "all_counts[2].plot(30)"
   ]
  },
  {
   "cell_type": "code",
   "execution_count": 19,
   "metadata": {},
   "outputs": [
    {
     "name": "stdout",
     "output_type": "stream",
     "text": [
      "  723\n",
      "imag png attach imag png imag png attach imag png 18\n",
      "tabl content tabl content 16\n",
      "drop drop 14\n",
      "exploratori analysi begin exploratori analysi first use matplotlib import librari defin function plot data depend data plot made hey kernel bot kaggl competit grandmast introduct greet kaggl bot automat gener kernel starter code demonstr read data begin explor click blue edit notebook fork notebook button top kernel begin edit 13\n",
      "distribut graph histogram bar graph sampl column let take quick look data look like 10\n",
      " eda 10\n",
      "exploratori analysi begin exploratori analysi first use matplotlib import librari defin function plot data depend data plot made hey kernel bot kaggl competit grandmast csv file current version dataset 8\n",
      "let take quick look data look like distribut graph histogram bar graph sampl column 8\n",
      "model model 8\n",
      "   392\n",
      "drop drop drop 13\n",
      "imag png attach imag png imag png attach imag png imag png attach imag png 8\n",
      "  data 5\n",
      "  eda 4\n",
      "submiss   4\n",
      "data   4\n",
      "dcgan   4\n",
      "tabl content tabl content tabl content 4\n",
      "readi read data use plot function visual data let take quick look data look like next hidden code cell defin function plot data click code button publish kernel reveal hidden code 4\n"
     ]
    }
   ],
   "source": [
    "for size in 2,3:\n",
    "    for ng, ngcount in all_counts[size].most_common(10):\n",
    "        print(\" \".join(ng), ngcount)"
   ]
  },
  {
   "cell_type": "code",
   "execution_count": 20,
   "metadata": {},
   "outputs": [
    {
     "data": {
      "image/png": "[encoded data removed]",
      "text/plain": [
       "<Figure size 432x288 with 1 Axes>"
      ]
     },
     "metadata": {
      "needs_background": "light"
     },
     "output_type": "display_data"
    },
    {
     "data": {
      "text/plain": [
       "<AxesSubplot:xlabel='Samples', ylabel='Counts'>"
      ]
     },
     "execution_count": 20,
     "metadata": {},
     "output_type": "execute_result"
    }
   ],
   "source": [
    "all_code_counts.plot(30)"
   ]
  },
  {
   "cell_type": "code",
   "execution_count": 21,
   "metadata": {},
   "outputs": [
    {
     "name": "stdout",
     "output_type": "stream",
     "text": [
      "print 25046\n",
      "plt 24163\n",
      "pd 23057\n",
      "df 22604\n",
      "np 18659\n",
      "true 18027\n",
      "sns 15889\n",
      "x 12438\n",
      "false 11625\n",
      "data 10864\n",
      "train 9745\n",
      "x_train 9652\n",
      "len 9527\n",
      "y_train 8991\n",
      "model 8182\n",
      "i 8133\n",
      "fig 7674\n",
      "x_test 7624\n",
      "y_test 7374\n",
      "range 6675\n",
      "y 6641\n",
      "os 5028\n",
      "test 4923\n",
      "ax 4896\n",
      "train_test_split 3891\n",
      "list 3837\n",
      "train_df 3803\n",
      "str 3674\n",
      "none 3326\n",
      "_ 3088\n",
      "y_pred 2988\n",
      "int 2787\n",
      "df_train 2696\n",
      "tf 2629\n",
      "enumerate 2407\n",
      "dataset 2378\n",
      "torch 2254\n",
      "dict 2204\n",
      "f 2176\n",
      "train_data 2108\n",
      "accuracy_score 2092\n",
      "px 2071\n",
      "filename 2031\n",
      "confusion_matrix 2013\n",
      "col 1943\n",
      "image 1927\n",
      "go 1807\n",
      "filenames 1799\n",
      "test_df 1752\n",
      "round 1716\n",
      "dirname 1690\n",
      "labels 1633\n",
      "batch_size 1588\n",
      "classification_report 1581\n",
      "df_test 1520\n",
      "zip 1464\n",
      "history 1460\n",
      "randomforestclassifier 1446\n",
      "logisticregression 1440\n",
      "standardscaler 1407\n",
      "self 1358\n",
      "k 1348\n",
      "dense 1345\n",
      "predictions 1274\n",
      "tqdm 1256\n",
      "gridsearchcv 1229\n",
      "features 1208\n",
      "a 1201\n",
      "img 1199\n",
      "path 1180\n",
      "cross_val_score 1177\n",
      "mean_squared_error 1169\n",
      "c 1164\n",
      "metrics 1149\n",
      "n 1142\n",
      "j 1123\n",
      "sequential 1109\n",
      "warnings 1106\n",
      "clf 1104\n",
      "cv2 1101\n",
      "test_data 1093\n",
      "p 1079\n",
      "re 1064\n",
      "epochs 1057\n",
      "label 1042\n",
      "time 1038\n",
      "float 1026\n",
      "pred 1025\n",
      "df1 1023\n",
      "target 986\n",
      "set 946\n",
      "g 944\n",
      "text 934\n",
      "display 924\n",
      "kneighborsclassifier 922\n",
      "nn 916\n",
      "decisiontreeclassifier 913\n",
      "random 906\n",
      "submission 906\n",
      "device 902\n",
      "x_val 896\n",
      "models 885\n",
      "dropout 874\n",
      "labelencoder 867\n",
      "y_val 866\n",
      "preds 857\n",
      "gc 846\n",
      "linearregression 813\n",
      "row 806\n",
      "svc 799\n",
      "lr 794\n",
      "score 790\n",
      "kfold 790\n",
      "idx 777\n",
      "b 775\n",
      "open 771\n",
      "scaler 764\n",
      "roc_auc_score 759\n",
      "cols 757\n",
      "train_y 750\n",
      "sum 741\n",
      "s 739\n",
      "f1_score 739\n",
      "index 727\n",
      "keras 719\n",
      "tokenizer 717\n",
      "t 713\n",
      "result 712\n",
      "d 703\n",
      "results 703\n",
      "max 700\n",
      "ax1 695\n",
      "train_x 689\n",
      "name 686\n",
      "optimizer 685\n",
      "flatten 685\n",
      "df2 679\n",
      "loss 674\n",
      "m 671\n",
      "scores 670\n",
      "cm 664\n",
      "axes 663\n",
      "iplot 662\n",
      "randomforestregressor 644\n",
      "xgb 643\n",
      "w 633\n",
      "y_valid 633\n",
      "seed 632\n",
      "sorted 625\n",
      "word 621\n",
      "params 621\n",
      "stats 621\n",
      "pipeline 617\n",
      "datetime 612\n",
      "x_valid 608\n",
      "math 605\n",
      "colors 599\n",
      "super 598\n",
      "title 587\n",
      "output 567\n",
      "v 557\n",
      "stopwords 557\n",
      "counter 557\n",
      "ax2 547\n",
      "layout 543\n",
      "images 538\n",
      "stratifiedkfold 533\n",
      "kmeans 533\n",
      "lgb 526\n",
      "conv2d 522\n",
      "minmaxscaler 519\n",
      "classes 513\n",
      "dataloader 512\n",
      "imagedatagenerator 508\n",
      "r2_score 507\n",
      "wordcloud 505\n",
      "feature 504\n",
      "input 501\n",
      "type 501\n",
      "mask 496\n",
      "rf 495\n",
      "test_x 491\n",
      "accuracy 490\n",
      "min 485\n",
      "r 483\n",
      "pca 479\n",
      "layers 475\n",
      "adam 474\n",
      "mean_absolute_error 471\n",
      "xgbclassifier 470\n",
      "sm 466\n",
      "roc_curve 465\n",
      "val 463\n",
      "all_data 463\n",
      "glob 461\n",
      "dataframe 460\n",
      "recall_score 458\n",
      "sub 458\n",
      "temp 454\n",
      "corr 451\n"
     ]
    }
   ],
   "source": [
    "for ng, ngcount in all_code_counts.most_common(200):\n",
    "    print(ng, ngcount)"
   ]
  },
  {
   "cell_type": "markdown",
   "metadata": {},
   "source": [
    "## Step P3: Vectorizing\n",
    "\n",
    "Several options: one-hot encoding, TF-IDF (document defined as cells, as that is the unit we want to measure the )"
   ]
  },
  {
   "cell_type": "markdown",
   "metadata": {},
   "source": [
    "### An array of all sentences/ lines of code"
   ]
  },
  {
   "cell_type": "code",
   "execution_count": 22,
   "metadata": {},
   "outputs": [
    {
     "name": "stderr",
     "output_type": "stream",
     "text": [
      "<timed exec>:4: FutureWarning: The default dtype for empty Series will be 'object' instead of 'float64' in a future version. Specify a dtype explicitly to silence this warning.\n"
     ]
    },
    {
     "name": "stdout",
     "output_type": "stream",
     "text": [
      "CPU times: user 12.2 s, sys: 548 ms, total: 12.8 s\n",
      "Wall time: 13 s\n"
     ]
    }
   ],
   "source": [
    "%%time\n",
    "## This creates list of sentences for all notebooks so as to be fed into scikit vectorizers\n",
    "\n",
    "#just a trick to make sure the pipeline produce side-effects\n",
    "sentences_in_all_nbs = [pd.Series([])]\n",
    "\n",
    "@pipeline(\"data/train_P2_md/\", None) # NOTE: validation set should still take encoding of \n",
    "def P3A_md(df, sentences_in_all_nbs):\n",
    "\n",
    "    sentences = df.loc[:, \"tokens\"].map(lambda x: \" \".join(x))\n",
    "    sentences_in_all_nbs[0] = pd.concat([sentences_in_all_nbs[0], sentences])\n",
    "    return df\n",
    "\n",
    "# 0.5 sec for 0.1% data\n",
    "_ = P3A_md(\"dummy\", sentences_in_all_nbs) \n",
    "# input/ output is just dummy variable\n",
    "sentences_in_all_nbs=sentences_in_all_nbs[0]"
   ]
  },
  {
   "cell_type": "code",
   "execution_count": 23,
   "metadata": {},
   "outputs": [
    {
     "name": "stderr",
     "output_type": "stream",
     "text": [
      "<timed exec>:1: FutureWarning: The default dtype for empty Series will be 'object' instead of 'float64' in a future version. Specify a dtype explicitly to silence this warning.\n"
     ]
    },
    {
     "name": "stdout",
     "output_type": "stream",
     "text": [
      "CPU times: user 12.9 s, sys: 453 ms, total: 13.3 s\n",
      "Wall time: 13.8 s\n"
     ]
    }
   ],
   "source": [
    "%%time\n",
    "codesentences_in_all_nbs = [pd.Series([])]\n",
    "\n",
    "@pipeline(\"data/train_P2_code/\", None)\n",
    "def P3A_code(df, codesentences_in_all_nbs):\n",
    "    codesentences = df.loc[df.codetokens.values != None, \"codetokens\"]\\\n",
    "                                .map(lambda x: \" \".join(x[0]+x[1]))\n",
    "    codesentences_in_all_nbs[0] = pd.concat([codesentences_in_all_nbs[0], codesentences])\n",
    "    return df\n",
    "\n",
    "# 1 sec for 0.1% data\n",
    "_ = P3A_code(\"dummy\", codesentences_in_all_nbs) \n",
    "# input/ output is just dummy variable\n",
    "codesentences_in_all_nbs = codesentences_in_all_nbs[0]"
   ]
  },
  {
   "cell_type": "code",
   "execution_count": 24,
   "metadata": {},
   "outputs": [
    {
     "data": {
      "text/plain": [
       "d822de37                                verifi year sinc join\n",
       "c63e2a26    final task want know year sinc join field accu...\n",
       "c6fc6d48                                pleas upvot find help\n",
       "134bc533    want keep aveng introduc filter aveng introduc...\n",
       "d0ed365b                                       consolid death\n",
       "                                  ...                        \n",
       "4752a503                         exploratori data analysi eda\n",
       "daa462c3                                             get data\n",
       "7f6dad67                                           train data\n",
       "35800b91    encrypt tbn0 gstatic imag q tbn y6tww usqp cau...\n",
       "7d1724a1                                    spoiler miss valu\n",
       "Length: 87498, dtype: object"
      ]
     },
     "execution_count": 24,
     "metadata": {},
     "output_type": "execute_result"
    }
   ],
   "source": [
    "sentences_in_all_nbs"
   ]
  },
  {
   "cell_type": "markdown",
   "metadata": {},
   "source": [
    "## TF-IDF Vectorizer\n",
    "\n",
    "Two different vectorizers are used for code and markdown respectively. As code tokens are more repetitive, one-hot coding is used. On the other hand TF-IDF is used for markdown. Note that the unit of document is each markdown cell, as that is the unit we need to measure against."
   ]
  },
  {
   "cell_type": "code",
   "execution_count": 25,
   "metadata": {},
   "outputs": [
    {
     "name": "stdout",
     "output_type": "stream",
     "text": [
      "length of TF-IDF vector 229\n"
     ]
    }
   ],
   "source": [
    "from sklearn.feature_extraction.text import TfidfVectorizer, CountVectorizer, TfidfVectorizer\n",
    "\n",
    "# Now setup TF-IDF vectorizor \n",
    "\n",
    "tfidf_vectorizer = TfidfVectorizer(min_df=0.01)\n",
    "tfidf_vectorizer.fit(sentences_in_all_nbs)\n",
    "\n",
    "print(\"length of TF-IDF vector\", len(tfidf_vectorizer.get_feature_names_out()))\n",
    "df_idf = pd.DataFrame(tfidf_vectorizer.idf_, index=tfidf_vectorizer.get_feature_names_out(),columns=[\"idf_weights\"]) \n",
    "#df_idf.sort_values(by=['idf_weights'])\n",
    "#print(df_idf.sort_values(by=['idf_weights']))\n",
    "\n",
    "# try transforming one line\n",
    "vectors_tfidf = tfidf_vectorizer.transform(sentences_in_all_nbs)\n"
   ]
  },
  {
   "cell_type": "code",
   "execution_count": 26,
   "metadata": {},
   "outputs": [
    {
     "name": "stdout",
     "output_type": "stream",
     "text": [
      "length of code one-hot vector 250\n"
     ]
    }
   ],
   "source": [
    "# One hot vectorizor for code (as they are much more repetitive)\n",
    "vectorizer_code = CountVectorizer(max_features = 250)\n",
    "vectors_code = vectorizer_code.fit_transform(codesentences_in_all_nbs)\n",
    "print(\"length of code one-hot vector\", len(vectorizer_code.get_feature_names_out()))"
   ]
  },
  {
   "cell_type": "code",
   "execution_count": 27,
   "metadata": {},
   "outputs": [
    {
     "data": {
      "text/html": [
       "<div>\n",
       "<style scoped>\n",
       "    .dataframe tbody tr th:only-of-type {\n",
       "        vertical-align: middle;\n",
       "    }\n",
       "\n",
       "    .dataframe tbody tr th {\n",
       "        vertical-align: top;\n",
       "    }\n",
       "\n",
       "    .dataframe thead th {\n",
       "        text-align: right;\n",
       "    }\n",
       "</style>\n",
       "<table border=\"1\" class=\"dataframe\">\n",
       "  <thead>\n",
       "    <tr style=\"text-align: right;\">\n",
       "      <th></th>\n",
       "      <th>TF-IDF</th>\n",
       "    </tr>\n",
       "  </thead>\n",
       "  <tbody>\n",
       "    <tr>\n",
       "      <th>sinc</th>\n",
       "      <td>0.715380</td>\n",
       "    </tr>\n",
       "    <tr>\n",
       "      <th>year</th>\n",
       "      <td>0.698736</td>\n",
       "    </tr>\n",
       "    <tr>\n",
       "      <th>origin</th>\n",
       "      <td>0.000000</td>\n",
       "    </tr>\n",
       "    <tr>\n",
       "      <th>output</th>\n",
       "      <td>0.000000</td>\n",
       "    </tr>\n",
       "    <tr>\n",
       "      <th>paramet</th>\n",
       "      <td>0.000000</td>\n",
       "    </tr>\n",
       "    <tr>\n",
       "      <th>...</th>\n",
       "      <td>...</td>\n",
       "    </tr>\n",
       "    <tr>\n",
       "      <th>group</th>\n",
       "      <td>0.000000</td>\n",
       "    </tr>\n",
       "    <tr>\n",
       "      <th>help</th>\n",
       "      <td>0.000000</td>\n",
       "    </tr>\n",
       "    <tr>\n",
       "      <th>high</th>\n",
       "      <td>0.000000</td>\n",
       "    </tr>\n",
       "    <tr>\n",
       "      <th>higher</th>\n",
       "      <td>0.000000</td>\n",
       "    </tr>\n",
       "    <tr>\n",
       "      <th>machin</th>\n",
       "      <td>0.000000</td>\n",
       "    </tr>\n",
       "  </tbody>\n",
       "</table>\n",
       "<p>229 rows × 1 columns</p>\n",
       "</div>"
      ],
      "text/plain": [
       "           TF-IDF\n",
       "sinc     0.715380\n",
       "year     0.698736\n",
       "origin   0.000000\n",
       "output   0.000000\n",
       "paramet  0.000000\n",
       "...           ...\n",
       "group    0.000000\n",
       "help     0.000000\n",
       "high     0.000000\n",
       "higher   0.000000\n",
       "machin   0.000000\n",
       "\n",
       "[229 rows x 1 columns]"
      ]
     },
     "execution_count": 27,
     "metadata": {},
     "output_type": "execute_result"
    }
   ],
   "source": [
    "df = pd.DataFrame(vectors_tfidf[0].T.todense(),\n",
    "                    index=tfidf_vectorizer.get_feature_names_out(),\n",
    "                    columns=[\"TF-IDF\"]) \n",
    "df.sort_values(by=[\"TF-IDF\"],ascending=False)"
   ]
  },
  {
   "cell_type": "code",
   "execution_count": 28,
   "metadata": {},
   "outputs": [
    {
     "name": "stdout",
     "output_type": "stream",
     "text": [
      "How full is the sparse array? 0.010809631193996016\n"
     ]
    }
   ],
   "source": [
    "print(\"How full is the sparse array?\",\n",
    "      np.count_nonzero(vectors_code.toarray())/vectors_code.shape[0]/vectors_code.shape[1])"
   ]
  },
  {
   "cell_type": "code",
   "execution_count": 29,
   "metadata": {},
   "outputs": [
    {
     "data": {
      "text/plain": [
       "<167622x250 sparse matrix of type '<class 'numpy.int64'>'\n",
       "\twith 452983 stored elements in Compressed Sparse Row format>"
      ]
     },
     "execution_count": 29,
     "metadata": {},
     "output_type": "execute_result"
    }
   ],
   "source": [
    "vectors_code "
   ]
  },
  {
   "cell_type": "code",
   "execution_count": 30,
   "metadata": {},
   "outputs": [
    {
     "data": {
      "text/plain": [
       "<87498x229 sparse matrix of type '<class 'numpy.float64'>'\n",
       "\twith 451386 stored elements in Compressed Sparse Row format>"
      ]
     },
     "execution_count": 30,
     "metadata": {},
     "output_type": "execute_result"
    }
   ],
   "source": [
    "vectors_tfidf"
   ]
  },
  {
   "cell_type": "markdown",
   "metadata": {},
   "source": [
    "### processing"
   ]
  },
  {
   "cell_type": "code",
   "execution_count": 31,
   "metadata": {},
   "outputs": [
    {
     "data": {
      "text/plain": [
       "(167622, 500)"
      ]
     },
     "execution_count": 31,
     "metadata": {},
     "output_type": "execute_result"
    }
   ],
   "source": [
    "# apped two arrays, we now have double the features\n",
    "np.append(vectors_code.toarray(),vectors_code.toarray(),axis=1).shape"
   ]
  },
  {
   "cell_type": "code",
   "execution_count": 32,
   "metadata": {},
   "outputs": [],
   "source": [
    "df = pd.read_json(\"data/train_P2_code/0b1de3720f4773.json\")\n",
    "#df"
   ]
  },
  {
   "cell_type": "code",
   "execution_count": 33,
   "metadata": {},
   "outputs": [],
   "source": [
    "def add_features(df):\n",
    "    length = df.tokens.map(len)\n",
    "    df[\"length\"] = length\n",
    "add_features(df)\n",
    "#df"
   ]
  },
  {
   "cell_type": "code",
   "execution_count": 34,
   "metadata": {},
   "outputs": [
    {
     "name": "stdout",
     "output_type": "stream",
     "text": [
      "CPU times: user 14.3 s, sys: 754 ms, total: 15.1 s\n",
      "Wall time: 15.6 s\n"
     ]
    }
   ],
   "source": [
    "%%time\n",
    "\n",
    "@pipeline(f\"data/{vort}_P2_code/\", f\"data/{vort}_P3_code/\", breakafterone=False)\n",
    "def P3_code(df):\n",
    "\n",
    "    # for adding features\n",
    "    #additional_features = add_features(df)\n",
    "\n",
    "    vector_code = vectorizer_code.transform(df.tokens.apply(lambda l: \" \".join(l)))\n",
    "    array_code = vector_code.toarray()\n",
    "    df[\"encoding\"] = array_code.tolist() #+ additional_features\n",
    "    return df\n",
    "\n",
    "#df = pd.read_json(\"data/train_P2_code/0b1de3720f4773.json\")\n",
    "#df = P3_code(df) #FIXME test\n",
    "\n",
    "# 0.9 sec for 0.1% data\n",
    "_ = P3_code(\"dummy\") "
   ]
  },
  {
   "cell_type": "code",
   "execution_count": 35,
   "metadata": {},
   "outputs": [
    {
     "name": "stdout",
     "output_type": "stream",
     "text": [
      "CPU times: user 12.4 s, sys: 625 ms, total: 13 s\n",
      "Wall time: 13.4 s\n"
     ]
    }
   ],
   "source": [
    "%%time\n",
    "\n",
    "@pipeline(f\"data/{vort}_P2_md/\", f\"data/{vort}_P3_md/\", breakafterone=False)\n",
    "def P3_md(df):\n",
    "\n",
    "    # for adding features\n",
    "    #additional_features = add_features(df)\n",
    "\n",
    "    vector_md = tfidf_vectorizer.transform(df.tokens.apply(lambda l: \" \".join(l)))\n",
    "    array_md = vector_md.toarray()\n",
    "    df[\"encoding\"] = array_md.tolist() #+ additional_features\n",
    "    return df\n",
    "\n",
    "#df = pd.read_json(\"data/train_P2_md/0b1de3720f4773.json\")\n",
    "#df = P3_md(df) #FIXME test\n",
    "\n",
    "# 0.9 sec for 0.1% data\n",
    "_ = P3_md(\"dummy\") \n",
    "#df"
   ]
  },
  {
   "cell_type": "markdown",
   "metadata": {},
   "source": [
    " ## Step P4: create pairings\n",
    "\n",
    "We must now pair entries from the same notebook, and add all possible combinations\n",
    "\n",
    "We also add final set of features that comes out of comparison of any two entries\n",
    "\n",
    "Ancestry of python variables are now determined solely by comparing L- and R- values\n",
    "\n",
    "Earlier, this step outputs csv and json like any other, but it turns out this is very\n"
   ]
  },
  {
   "cell_type": "code",
   "execution_count": 36,
   "metadata": {},
   "outputs": [],
   "source": [
    "from scipy.sparse import csr_matrix, coo_matrix, hstack, vstack, save_npz\n",
    "from functools import reduce\n",
    "from itertools import combinations\n",
    "from array import array"
   ]
  },
  {
   "cell_type": "code",
   "execution_count": 37,
   "metadata": {},
   "outputs": [],
   "source": [
    "def ancestry(x):\n",
    "    ## determine ancestry\n",
    "    # a variable must first appear as an L value before R value\n",
    "    # therefore L value should have precedence\n",
    "    # so if the L value in A appears in B, it suggests A is first \n",
    "    # (although there is a chance that this is a typo)\n",
    "    # This implementation counts the number of times this occur\n",
    "    x[\"A_first\"] = sum([tok in x[\"R-codeB\"] for tok in x[\"L-codeA\"]])\n",
    "    x[\"B_first\"] = sum([tok in x[\"R-codeA\"] for tok in x[\"L-codeB\"]])\n",
    "    return array('f',[x[\"A_first\"], x[\"B_first\"]])"
   ]
  },
  {
   "cell_type": "code",
   "execution_count": 38,
   "metadata": {},
   "outputs": [],
   "source": [
    "%%time\n",
    "dataset_code = {\"x\":[], \"y\": []}\n",
    "#df = pd.read_json(\"data/train_P3_code/cbf92bdb8acdb1.json\")\n",
    "#@pipeline(\"data/train_P3_code/\", \"data/train_P4_code/\", breakafterone=False)\n",
    "@pipeline(f\"data/{vort}_P3_code/\", None, breakafterone=False)\n",
    "def P4_code(df):\n",
    "    if df.shape[0]==1: \n",
    "        return None\n",
    "\n",
    "   \n",
    "    a, b = map(list, zip(*combinations(df.index, 2)))\n",
    "\n",
    "    df_new = pd.DataFrame(data={\"encodingA\":df.loc[a,\"encoding\"].reset_index(drop=True),\n",
    "                                \"encodingB\":df.loc[b,\"encoding\"].reset_index(drop=True),\n",
    "                                \"L-codeA\":df.loc[a,\"L-codetokens\"].reset_index(drop=True),\n",
    "                                \"R-codeA\":df.loc[a,\"R-codetokens\"].reset_index(drop=True),\n",
    "                                \"L-codeB\":df.loc[b,\"L-codetokens\"].reset_index(drop=True),\n",
    "                                \"R-codeB\":df.loc[b,\"R-codetokens\"].reset_index(drop=True),\n",
    "                                \"true_order_codeA\":df.loc[a,\"true_order_code\"].reset_index(drop=True),\n",
    "                                \"true_order_codeB\":df.loc[b,\"true_order_code\"].reset_index(drop=True),})\n",
    "\n",
    "    df_new.loc[:,\"combined_encoding\"] = df_new.apply(lambda x: np.append(x.encodingA, x.encodingB), axis=1)\n",
    "\n",
    "\n",
    "\n",
    "    ## adding ancestry information\n",
    "    df_new.loc[:,\"combined_encoding\"] = df_new.apply( \\\n",
    "                                        lambda x: np.append(x[\"combined_encoding\"], ancestry(x)),axis=1)\n",
    "    dataset_code[\"x\"].extend( df_new.loc[:,\"combined_encoding\"].tolist() )\n",
    "    \n",
    "    # make result vector\n",
    "    df_new[\"result\"] = df_new[\"true_order_codeA\"]<df_new[\"true_order_codeB\"] # is A smaller than B\n",
    "    dataset_code[\"y\"].extend(df_new[\"result\"].to_list())\n",
    "\n",
    "    df_new = df_new.drop([\n",
    "                       \"encodingA\",    \"encodingB\", \n",
    "                        \"L-codeA\",      \"L-codeB\", \n",
    "                        \"R-codeB\",      \"R-codeA\",\n",
    "                        \"true_order_codeA\",   \"true_order_codeB\"], axis=1)\n",
    "    return df_new \n",
    "\n",
    "# 15 mins/ 0.8GB for 0.1% data\n",
    "# 1min/ 1MB without writing json\n",
    "_ = P4_code(\"dummy\") \n",
    "\n",
    "dataset_code[\"x\"] = csr_matrix(dataset_code[\"x\"])\n",
    "dataset_code[\"y\"] = np.array(dataset_code[\"y\"])\n",
    "np.save(f\"data/{vort}_P4_code.npy\",  dataset_code[\"y\"])\n",
    "#yy = np.load(f\"data/{vort}_P4_code.npy\")\n",
    "save_npz(f\"data/{vort}_P4_code_X.npz\", dataset_code[\"x\"])"
   ]
  },
  {
   "cell_type": "markdown",
   "metadata": {},
   "source": [
    "This shows the non-zero values of the matrix, notice the repeated patterns caused by combinations"
   ]
  },
  {
   "cell_type": "code",
   "execution_count": null,
   "metadata": {},
   "outputs": [],
   "source": [
    "plt.spy(dataset_code[\"x\"].toarray()[:500,:],  markersize = 1)\n",
    "plt.show()"
   ]
  },
  {
   "cell_type": "code",
   "execution_count": null,
   "metadata": {},
   "outputs": [],
   "source": [
    "%%time\n",
    "\n",
    "\n",
    "df = pd.read_json(\"data/train_P3_md/ed44e2d85b6003.json\")\n",
    "dataset_md = {\"x\":[], \"y\": []}\n",
    "#@pipeline(\"data/train_P3_md/\", \"data/train_P4_md/\", breakafterone=True)\n",
    "@pipeline(f\"data/{vort}_P3_md/\",  None, breakafterone=False) \n",
    "def P4_md(df, dataset_md):\n",
    "\n",
    "    if df.shape[0]==1:\n",
    "        return None\n",
    "\n",
    "    a, b = map(list, zip(*combinations(df.index, 2)))\n",
    "\n",
    "    df_new = pd.DataFrame( data={\"encodingA\":df.loc[a,\"encoding\"].reset_index(drop=True),\n",
    "                                \"encodingB\":df.loc[b,\"encoding\"].reset_index(drop=True),\n",
    "                                \"true_order_mdA\":df.loc[a,\"true_order_md\"].reset_index(drop=True),\n",
    "                                \"true_order_mdB\":df.loc[b,\"true_order_md\"].reset_index(drop=True),} )\n",
    "\n",
    "    df_new.loc[:,\"combined_encoding\"] = df_new.apply(lambda x: np.append(x.encodingA, x.encodingB), axis=1)\n",
    "\n",
    "    dataset_md[\"x\"].extend( df_new.loc[:,\"combined_encoding\"].tolist() )\n",
    "\n",
    "    df_new[\"result\"] = df_new[\"true_order_mdA\"]<df_new[\"true_order_mdB\"] # is A smaller than B\n",
    "    dataset_md[\"y\"].extend(df_new[\"result\"].to_list())\n",
    "\n",
    "    df_new = df_new.drop([  \"encodingA\",    \"encodingB\",\n",
    "                            \"true_order_mdA\",   \"true_order_mdB\"], axis=1)\n",
    "    return df_new\n",
    "\n",
    "# 8 mins/ 500MB for 0.1% data\n",
    "# 6 sec if no writing to disk\n",
    "_ = P4_md(\"dummy\", dataset_md) \n",
    "\n",
    "dataset_md[\"x\"] = csr_matrix(dataset_md[\"x\"])\n",
    "dataset_md[\"y\"] = np.array(dataset_md[\"y\"])\n",
    "np.save(f\"data/{vort}_P4_md.npy\",  dataset_md[\"y\"])\n",
    "#yy = np.load(f\"data/{vort}_P4_md.npy\")\n",
    "save_npz(f\"data/{vort}_P4_md_X.npz\", dataset_md[\"x\"])"
   ]
  },
  {
   "cell_type": "markdown",
   "metadata": {},
   "source": [
    "## References\n",
    "\n",
    "Berkeley Stat 157: Word2vec demonstration\n",
    "\n",
    "https://nbviewer.org/url/courses.d2l.ai/berkeley-stat-157/slides/4_18/word2vec-gluon.ipynb\n",
    "\n",
    "Applied Text Analysis with Python by Benjamin Bengfort, Rebecca Bilbro, Tony Ojeda\n",
    "\n",
    "Chapter 4. Text Vectorization and Transformation Pipelines\n",
    "\n",
    "https://www.oreilly.com/library/view/applied-text-analysis/9781491963036/ch04.html\n",
    "\n",
    "apply(), applymap(), map() in Pandas\n",
    "\n",
    "https://towardsdatascience.com/introduction-to-pandas-apply-applymap-and-map-5d3e044e93ff"
   ]
  }
 ],
 "metadata": {
  "interpreter": {
   "hash": "4976e0179d97dd6d59b1329a76e601e17b789c2571b41c8b57f5fd69821c0dd3"
  },
  "kernelspec": {
   "display_name": "Python 3.8.13 ('mlp')",
   "language": "python",
   "name": "python3"
  },
  "language_info": {
   "codemirror_mode": {
    "name": "ipython",
    "version": 3
   },
   "file_extension": ".py",
   "mimetype": "text/x-python",
   "name": "python",
   "nbconvert_exporter": "python",
   "pygments_lexer": "ipython3",
   "version": "3.8.13"
  }
 },
 "nbformat": 4,
 "nbformat_minor": 2
}
