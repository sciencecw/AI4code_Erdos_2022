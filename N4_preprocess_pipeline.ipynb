{
 "cells": [
  {
   "cell_type": "markdown",
   "metadata": {},
   "source": [
    "# Preprocessing pipeline\n",
    "\n",
    "Even though Kaggle has worked to collect and ordered the data, the JSON files need some work before becoming trainable dataset\n",
    "\n",
    "This will be organized in a three step process\n",
    "\n",
    "\n",
    "P1 ==>\n",
    "-  We will reduce the number of JSON files we will run on (1 in 100). This is to produce a more managable dataset as we are only testing the waters with our model. The full data can be reprocessed if the model is found to be good.\n",
    "-  The info in CSVs will be brought in to become columns in panda dataset\n",
    "\n",
    "P2 ==>\n",
    "- Tokens will be created from the markdowns and codes, with slightly different process\n",
    "- features will be added (length of text, num of lines of code vs comments, dummy variables to replace left values - which should be encoded differently when it's a right value)\n",
    "\n",
    "P3 ==>\n",
    "- Vectorize the entry\n",
    "\n",
    "P4 ==>\n",
    "- We will split the dataset into two. One for each type of cell. As it would be easier to build a model predicting just code and just MarkDown. We could then use their output to train our full model\n",
    "\n",
    "To be done next:\n",
    "- replace order of cells with comparison relations `{ <, =, > }`, creating n(n-1)/2 combinations\n",
    "- Dataframes/ CSVs will be concatenated\n",
    "\n",
    "\n",
    "Timing will be mandatory for long steps and recorded for purpose of optimizing re-running strategies\n",
    "\n",
    "\n"
   ]
  },
  {
   "cell_type": "code",
   "execution_count": 70,
   "metadata": {},
   "outputs": [],
   "source": [
    "df1 = pd.read_json(\"data/train/00001756c60be8.json\")"
   ]
  },
  {
   "cell_type": "code",
   "execution_count": 48,
   "metadata": {},
   "outputs": [
    {
     "data": {
      "text/html": [
       "<div>\n",
       "<style scoped>\n",
       "    .dataframe tbody tr th:only-of-type {\n",
       "        vertical-align: middle;\n",
       "    }\n",
       "\n",
       "    .dataframe tbody tr th {\n",
       "        vertical-align: top;\n",
       "    }\n",
       "\n",
       "    .dataframe thead th {\n",
       "        text-align: right;\n",
       "    }\n",
       "</style>\n",
       "<table border=\"1\" class=\"dataframe\">\n",
       "  <thead>\n",
       "    <tr style=\"text-align: right;\">\n",
       "      <th></th>\n",
       "      <th>id</th>\n",
       "      <th>cell_order</th>\n",
       "    </tr>\n",
       "  </thead>\n",
       "  <tbody>\n",
       "    <tr>\n",
       "      <th>101544</th>\n",
       "      <td>ba8ec0edee076c</td>\n",
       "      <td>[b60583e5, f410fa1b, 710020c5, 667d777e, b3f52...</td>\n",
       "    </tr>\n",
       "    <tr>\n",
       "      <th>121325</th>\n",
       "      <td>df2df37e4c6910</td>\n",
       "      <td>[5c08e7c6, 7d256d36, 338b13e6, d31ca04d, 09d9d...</td>\n",
       "    </tr>\n",
       "    <tr>\n",
       "      <th>16508</th>\n",
       "      <td>1e18a15c453f3e</td>\n",
       "      <td>[248c3be9, fb743e4c, 29a3b7c6, 76d33b56, 05423...</td>\n",
       "    </tr>\n",
       "    <tr>\n",
       "      <th>98435</th>\n",
       "      <td>b4d7d0c828d1c1</td>\n",
       "      <td>[fe995b22, 591cd7c0, df5f3d91, 0b4de330, 2b461...</td>\n",
       "    </tr>\n",
       "    <tr>\n",
       "      <th>10369</th>\n",
       "      <td>1305ae8cd924b0</td>\n",
       "      <td>[e0afd782, ff4b7e44, 75ae29d3, cd435475, a089f...</td>\n",
       "    </tr>\n",
       "  </tbody>\n",
       "</table>\n",
       "</div>"
      ],
      "text/plain": [
       "                    id                                         cell_order\n",
       "101544  ba8ec0edee076c  [b60583e5, f410fa1b, 710020c5, 667d777e, b3f52...\n",
       "121325  df2df37e4c6910  [5c08e7c6, 7d256d36, 338b13e6, d31ca04d, 09d9d...\n",
       "16508   1e18a15c453f3e  [248c3be9, fb743e4c, 29a3b7c6, 76d33b56, 05423...\n",
       "98435   b4d7d0c828d1c1  [fe995b22, 591cd7c0, df5f3d91, 0b4de330, 2b461...\n",
       "10369   1305ae8cd924b0  [e0afd782, ff4b7e44, 75ae29d3, cd435475, a089f..."
      ]
     },
     "execution_count": 48,
     "metadata": {},
     "output_type": "execute_result"
    }
   ],
   "source": [
    "train_order = pd.read_csv(\"data/train_orders.csv\")\n",
    "train_order.cell_order=train_order.cell_order.str.split()\n",
    "train_order.sample(5)"
   ]
  },
  {
   "cell_type": "markdown",
   "metadata": {},
   "source": [
    "## Step P1: Skim dataset and add order information"
   ]
  },
  {
   "cell_type": "code",
   "execution_count": 494,
   "metadata": {},
   "outputs": [
    {
     "name": "stdout",
     "output_type": "stream",
     "text": [
      "CPU times: user 2.13 s, sys: 350 ms, total: 2.48 s\n",
      "Wall time: 3.51 s\n"
     ]
    }
   ],
   "source": [
    "%%time\n",
    "#  time: 5sec / memory: 4MB\n",
    "for index, row in train_order.iterrows():\n",
    "    if index%1000==0:\n",
    "        true_order = { h: i for i, h in enumerate(row[\"cell_order\"])}\n",
    "\n",
    "        # get dataframe\n",
    "        df = pd.read_json(f\"data/train/{row['id']}.json\")\n",
    "        df[\"true_order\"] = df.index.map(true_order)\n",
    "        #df[\"true_order_code\"] = df[df.cell_type==\"code\"].rank()\n",
    "        df.to_csv(f\"data/train_P1/{row['id']}.csv\")\n",
    "        df.to_json(f\"data/train_P1/{row['id']}.json\")\n",
    "        "
   ]
  },
  {
   "cell_type": "markdown",
   "metadata": {},
   "source": [
    "## Pipeline decorator\n",
    "\n",
    "Write a decorator that encapsulates the process of opening files, performing transformations and saving them into csv "
   ]
  },
  {
   "cell_type": "code",
   "execution_count": 582,
   "metadata": {},
   "outputs": [],
   "source": [
    "import os\n",
    "from random import shuffle\n",
    "# this configures and returns the decorator\n",
    "def pipeline(indir, outdir=None, breakafterone = False):\n",
    "\n",
    "    # the decorator only receives the function and nothing else\n",
    "    def pipelinedecor(funct):\n",
    "\n",
    "        ## this will take the function and run it\n",
    "        def pipelineinner(df, *args, **kwargs):\n",
    "            df_ = df\n",
    "            infiles = os.listdir(indir)\n",
    "            #shuffle(infiles)\n",
    "            for f in infiles:\n",
    "                              \n",
    "                if os.path.isfile(indir+f):\n",
    "\n",
    "                    fn_ = f.split(\".\")\n",
    "                    #print(indir, fn_)\n",
    "                    \n",
    "                    if fn_[1]==\"json\":\n",
    "                        # df is just a dummy variable \n",
    "                        # as we will give it our own input and output\n",
    "                        df = pd.read_json(indir+ f\"{fn_[0]}.json\")\n",
    "                        # main function\n",
    "                        df = funct(df, *args, **kwargs)\n",
    "                        \n",
    "                        if outdir:\n",
    "                            df.to_csv(outdir+ f\"{fn_[0]}.csv\")\n",
    "                            df.to_json(outdir+ f\"{fn_[0]}.json\")\n",
    "                        if breakafterone:\n",
    "                            break\n",
    "\n",
    "            return df_ # return the dummy variable unchanged\n",
    "        return pipelineinner  \n",
    "    return pipelinedecor\n",
    "    "
   ]
  },
  {
   "cell_type": "markdown",
   "metadata": {},
   "source": [
    "## Step P2: NLP preprocessing\n",
    "\n",
    "Markdown is transformed with common NLP preprocessing techniques\n",
    "\n",
    "lower case, remove html tags (as markdown is html compatible), remove non-alphabetical characters,\n",
    "remove digits\n",
    "\n",
    "The markdown is then tokenized and further words are dropped if they are stop words, is digit number (unfortunately this sometimes remove chapter number which would be useful - opportunity for feature engineering), having length more than 20 characters (usually these are hashes)\n",
    "\n",
    "Lastly the words pass through a stemmer to remove grammatical conjugations which confuses the computer"
   ]
  },
  {
   "cell_type": "code",
   "execution_count": 496,
   "metadata": {},
   "outputs": [],
   "source": [
    "import re\n",
    "import nltk\n",
    "from nltk.stem.porter import PorterStemmer\n",
    "from nltk.corpus import stopwords\n",
    "from nltk import ngrams, FreqDist\n",
    "\n",
    "extra_stopwords = [\"li\", \"br\", \"http\", \"https\", \"www\", \"com\", \"class\", \"alert\"]\n",
    "re_html = re.compile(r'<[^>]+>')\n",
    "re_char = re.compile(r\"[^a-zA-Z0-9]\")\n",
    "#print(re_html.sub(\"\",r'html_text = \"<HTML><HEAD> This is HEAD <INSIDE> The is inside tag </INSIDE></HEAD> <BODY> This is BODY </BODY></HTML>'))\n",
    "\n",
    "def preprocessing_unit(sourcetext: str):\n",
    "    words = sourcetext.lower()\n",
    "    words = re_html.sub('', words)\n",
    "    #words = re.sub(r\"[^a-zA-Z0-9]\", \" \", words)\n",
    "    words = re_char.sub(' ', words)\n",
    "    words=nltk.word_tokenize(words)\n",
    "    words=[w for w in words if w not in stopwords.words(\"english\") + extra_stopwords]\n",
    "    words = [w for w in words if not w.isdigit()]\n",
    "    words = [w for w in words if len(w)<20]\n",
    "    words = [PorterStemmer().stem(w) for w in words]\n",
    "    \n",
    "    \n",
    "    return words"
   ]
  },
  {
   "cell_type": "markdown",
   "metadata": {},
   "source": [
    "### AST Unit\n",
    "\n",
    "The AST unit generates left and right values, which is used in different ways\n",
    "\n",
    "1. we get a list of variables, which might be replaced by dummy variable for training\n",
    "2. we may build a directed graph which could help establish inheritance. These are strong features even as some authors of these notebooks are error-prone"
   ]
  },
  {
   "cell_type": "code",
   "execution_count": 497,
   "metadata": {},
   "outputs": [
    {
     "data": {
      "text/plain": [
       "(['pd', 'x', 'matplotlib', 'randomoversampler', 'smote'], ['seed', 'train_df'])"
      ]
     },
     "execution_count": 497,
     "metadata": {},
     "output_type": "execute_result"
    }
   ],
   "source": [
    "import ast\n",
    "re_nomagic = re.compile(r\"^[!%].*\\n?\", flags=re.MULTILINE) # remove ipython magic (syntax error)\n",
    "\n",
    "def ast_unit(sourcetext):\n",
    "\n",
    "    sourcetext =  re_nomagic.sub(\" \", sourcetext.lower())\n",
    "    \n",
    "    try:\n",
    "        root = ast.parse(sourcetext)\n",
    "    except SyntaxError as e:\n",
    "        return ([],[])\n",
    "\n",
    "    # all use of variables\n",
    "    all_vars = {node.id for node in ast.walk(root) if isinstance(node, ast.Name)}\n",
    "    \n",
    "    # left values\n",
    "    # currently only direct assignment of simple variables are \n",
    "    assignment = {n.id                      for node in ast.walk(root) \\\n",
    "                                            if isinstance(node, ast.Assign) \\\n",
    "                                            for n in node.targets\\\n",
    "                                            if isinstance(n, ast.Name) }\n",
    "\n",
    "\n",
    "    all_imports =  {n.asname or n.name  for node in ast.walk(root) \\\n",
    "                                    if isinstance(node, (ast.Import, ast.ImportFrom)) \\\n",
    "                                    for n in node.names} \n",
    " \n",
    "    right_values = all_vars-assignment-all_imports\n",
    "    left_values = assignment | all_imports\n",
    "    return list(left_values), list(right_values)\n",
    "\n",
    "source = \"import pandas as pd \\nfrom imblearn.over_sampling import \"\\\n",
    "         \"RandomOverSampler, SMOTE \\nimport matplotlib; x = \"\\\n",
    "         \"train_df.drop(columns = \\\"target\\\", random_seed=seed)\"\n",
    " \n",
    "ast_unit(source)"
   ]
  },
  {
   "cell_type": "code",
   "execution_count": 94,
   "metadata": {},
   "outputs": [
    {
     "name": "stdout",
     "output_type": "stream",
     "text": [
      "Инициализация класса Data  ==>  ['data']\n",
      "So some people are just not paying. Let's not worry about them.  ==>  ['people', 'paying', 'let', 'worry']\n"
     ]
    }
   ],
   "source": [
    "testphrase = df1.iloc[-2][\"source\"]\n",
    "print(testphrase, \" ==> \", preprocessing_unit(testphrase))\n",
    "testphrase = df.iloc[-2][\"source\"]\n",
    "print(testphrase, \" ==> \", preprocessing_unit(testphrase))"
   ]
  },
  {
   "cell_type": "markdown",
   "metadata": {},
   "source": [
    "### Applying transformation\n",
    "This applies the preprocessing and AST units above"
   ]
  },
  {
   "cell_type": "code",
   "execution_count": 499,
   "metadata": {},
   "outputs": [
    {
     "name": "stdout",
     "output_type": "stream",
     "text": [
      "CPU times: user 19.3 s, sys: 2.13 s, total: 21.5 s\n",
      "Wall time: 22.9 s\n"
     ]
    }
   ],
   "source": [
    "%%time\n",
    "all_tokens_in_all_nbs = []\n",
    "all_codetokens_in_all_nbs = []\n",
    "@pipeline(\"data/train_P1/\",\"data/train_P2/\", breakafterone=False)\n",
    "def P2(df, all_tokens_in_all_nbs, all_codetokens_in_all_nbs):\n",
    "    #df = pd.read_csv(\"data/train_P1/a8cb45eb4e091e.csv\")\n",
    "    ## ordinary text analysis\n",
    "    df[\"tokens\"] = df[\"source\"].apply(preprocessing_unit)\n",
    "\n",
    "\n",
    "    ## AST TREE\n",
    "    df[\"codetokens\"] = df[df.cell_type==\"code\"][\"source\"].apply(ast_unit)\n",
    "\n",
    "    all_tokens_in_nb = df[df.cell_type==\"markdown\"][\"tokens\"].sum()\n",
    "    all_tokens_in_all_nbs += all_tokens_in_nb\n",
    "\n",
    "    all_codetokens_in_nb = df[df.cell_type==\"code\"][\"codetokens\"].apply(lambda x: x[0]+x[1]).sum()\n",
    "    #print(df[df.cell_type==\"code\"][\"codetokens\"].apply(lambda x: x[1]))\n",
    "    df.loc[df.cell_type==\"code\", \"L-codetokens\"] = df.loc[df.cell_type==\"code\",:].apply(lambda x: x.codetokens[0], axis =1)\n",
    "    df.loc[df.cell_type==\"code\", \"R-codetokens\"] = df.loc[df.cell_type==\"code\",:].apply(lambda x: x.codetokens[1], axis =1)\n",
    "\n",
    "    #df[df.cell_type==\"code\", \"R-codetokens\"] = df[df.cell_type==\"code\"][\"codetokens\"].apply(lambda x: x[1])\n",
    "    all_codetokens_in_all_nbs += all_codetokens_in_nb\n",
    "\n",
    "    return df\n",
    "\n",
    "# 23sec/8MB for 0.1% data\n",
    "_ = P2(\"dummy\", all_tokens_in_all_nbs, all_codetokens_in_all_nbs) # input/ output is just dummy variable\n",
    "\n"
   ]
  },
  {
   "cell_type": "code",
   "execution_count": 369,
   "metadata": {},
   "outputs": [],
   "source": [
    "all_counts = dict()\n",
    "for size in 1, 2, 3, 4, 5:\n",
    "    all_counts[size] = FreqDist(ngrams(all_tokens_in_all_nbs, size))\n",
    "# No Ngrams for code\n",
    "all_code_counts = FreqDist(all_codetokens_in_all_nbs)"
   ]
  },
  {
   "cell_type": "markdown",
   "metadata": {},
   "source": [
    "## P2A: Plotting\n",
    "\n",
    "Now checking the overall frequecy of words"
   ]
  },
  {
   "cell_type": "code",
   "execution_count": 381,
   "metadata": {},
   "outputs": [
    {
     "data": {
      "image/png": "[encoded data removed]",
      "text/plain": [
       "<Figure size 432x288 with 1 Axes>"
      ]
     },
     "metadata": {
      "needs_background": "light"
     },
     "output_type": "display_data"
    }
   ],
   "source": [
    "ax = all_counts[1].plot(30)"
   ]
  },
  {
   "cell_type": "code",
   "execution_count": 388,
   "metadata": {},
   "outputs": [
    {
     "data": {
      "text/plain": [
       "[(('data',), 816),\n",
       " (('use',), 545),\n",
       " (('model',), 492),\n",
       " (('featur',), 491),\n",
       " (('valu',), 379),\n",
       " (('train',), 300),\n",
       " (('dataset',), 258),\n",
       " (('predict',), 244),\n",
       " (('plot',), 226),\n",
       " (('test',), 225)]"
      ]
     },
     "execution_count": 388,
     "metadata": {},
     "output_type": "execute_result"
    }
   ],
   "source": [
    "all_counts[1].most_common(10)"
   ]
  },
  {
   "cell_type": "code",
   "execution_count": 415,
   "metadata": {},
   "outputs": [
    {
     "data": {
      "image/png": "[encoded data removed]",
      "text/plain": [
       "<Figure size 432x288 with 1 Axes>"
      ]
     },
     "metadata": {
      "needs_background": "light"
     },
     "output_type": "display_data"
    }
   ],
   "source": [
    "#print( all_counts[1].most_common(30))\n",
    "log_rvsNr = [(key,value) for((key,), value) in all_counts[1].most_common(200) ]\n",
    "log_rvsNr = list(zip(*log_rvsNr))\n",
    "\n",
    "# plot the graph of log(r) vs log(Nr)\n",
    "plt.semilogy(range(len(log_rvsNr[0])), log_rvsNr[1], 'r.')\n",
    "plt.xlabel('r')\n",
    "plt.ylabel('log(Nr)')\n",
    "#plt.set_xticks(range(len(log_rvsNr[0])))\n",
    "#plt.set_xticklabels(log_rvsNr[0])\n",
    "plt.title('Semilog distribution of word frequency')\n",
    "plt.show()"
   ]
  },
  {
   "cell_type": "code",
   "execution_count": 341,
   "metadata": {},
   "outputs": [
    {
     "name": "stdout",
     "output_type": "stream",
     "text": [
      "data 816\n",
      "use 545\n",
      "model 492\n",
      "featur 491\n",
      "valu 379\n",
      "train 300\n",
      "dataset 258\n",
      "predict 244\n",
      "plot 226\n",
      "test 225\n",
      "time 196\n",
      "column 179\n",
      "let 170\n",
      "number 165\n",
      "see 164\n",
      "analysi 158\n",
      "correl 158\n",
      "set 152\n",
      "import 146\n",
      "learn 144\n",
      "creat 128\n",
      "variabl 128\n",
      "mean 119\n",
      "differ 117\n",
      "check 105\n"
     ]
    }
   ],
   "source": [
    "for ng, ngcount in all_counts[1].most_common(25):\n",
    "    print(\" \".join(ng), ngcount)"
   ]
  },
  {
   "cell_type": "code",
   "execution_count": null,
   "metadata": {},
   "outputs": [
    {
     "data": {
      "image/png": "[encoded data removed]",
      "text/plain": [
       "<Figure size 432x288 with 1 Axes>"
      ]
     },
     "metadata": {},
     "output_type": "display_data"
    },
    {
     "data": {
      "text/plain": [
       "<AxesSubplot:xlabel='Samples', ylabel='Counts'>"
      ]
     },
     "metadata": {},
     "output_type": "display_data"
    }
   ],
   "source": [
    "all_counts[2].plot(30)"
   ]
  },
  {
   "cell_type": "code",
   "execution_count": 342,
   "metadata": {},
   "outputs": [
    {
     "name": "stdout",
     "output_type": "stream",
     "text": [
      "miss valu 55\n",
      "train test 52\n",
      "random forest 52\n",
      "data analysi 50\n",
      "time seri 50\n",
      "test set 49\n",
      "machin learn 42\n",
      "featur select 37\n",
      "train model 35\n",
      "learn rate 35\n",
      "exploratori data analysi 27\n",
      "date block num 23\n",
      "random forest classifi 13\n",
      "median hous valu 13\n",
      "one hot encod 12\n",
      "target mean date 11\n",
      "mean date block 11\n",
      "train test set 10\n",
      "machin learn model 10\n",
      "item cnt day 10\n"
     ]
    }
   ],
   "source": [
    "for size in 2,3:\n",
    "    for ng, ngcount in all_counts[size].most_common(10):\n",
    "        print(\" \".join(ng), ngcount)"
   ]
  },
  {
   "cell_type": "code",
   "execution_count": 370,
   "metadata": {},
   "outputs": [
    {
     "data": {
      "image/png": "[encoded data removed]",
      "text/plain": [
       "<Figure size 432x288 with 1 Axes>"
      ]
     },
     "metadata": {
      "needs_background": "light"
     },
     "output_type": "display_data"
    },
    {
     "data": {
      "text/plain": [
       "<AxesSubplot:xlabel='Samples', ylabel='Counts'>"
      ]
     },
     "execution_count": 370,
     "metadata": {},
     "output_type": "execute_result"
    }
   ],
   "source": [
    "all_code_counts.plot(30)"
   ]
  },
  {
   "cell_type": "code",
   "execution_count": 417,
   "metadata": {},
   "outputs": [
    {
     "name": "stdout",
     "output_type": "stream",
     "text": [
      "plt 742\n",
      "print 673\n",
      "pd 654\n",
      "true 569\n",
      "np 532\n",
      "df 514\n",
      "sns 470\n",
      "x_train 326\n",
      "x 309\n",
      "train 296\n",
      "false 290\n",
      "y_train 287\n",
      "len 275\n",
      "x_test 252\n",
      "y_test 228\n",
      "data 226\n",
      "i 218\n",
      "model 217\n",
      "range 213\n",
      "fig 181\n",
      "y 180\n",
      "df_train 177\n",
      "ax 173\n",
      "train_df 154\n",
      "test 149\n",
      "str 139\n",
      "list 137\n",
      "os 106\n",
      "train_test_split 103\n",
      "y_pred 98\n",
      "int 98\n",
      "f 97\n",
      "df_test 83\n",
      "accuracy_score 74\n",
      "_ 70\n",
      "none 69\n",
      "confusion_matrix 63\n",
      "train_data 63\n",
      "dict 62\n",
      "enumerate 62\n",
      "tf 60\n",
      "col 54\n",
      "round 54\n",
      "torch 54\n",
      "randomforestclassifier 54\n",
      "filename 52\n",
      "features 50\n",
      "df_fe 50\n",
      "px 49\n",
      "test_df 48\n",
      "k 47\n",
      "logisticregression 47\n",
      "datetime 45\n",
      "dataset 45\n",
      "filenames 45\n",
      "dirname 45\n",
      "decisiontreeclassifier 45\n",
      "batch_size 44\n",
      "df_house 44\n",
      "classification_report 42\n",
      "warnings 42\n",
      "mean_squared_error 40\n",
      "standardscaler 40\n",
      "out 40\n",
      "epochs 39\n",
      "self 39\n",
      "cross_val_score 39\n",
      "tqdm 39\n",
      "gridsearchcv 38\n",
      "lr 38\n",
      "go 38\n",
      "y_val 38\n",
      "history 37\n",
      "results 37\n",
      "kneighborsclassifier 37\n",
      "train_new 37\n",
      "c 36\n",
      "zip 36\n",
      "tweets 36\n",
      "svc 35\n",
      "p 34\n",
      "row 33\n",
      "metrics 33\n",
      "dense 32\n",
      "float 32\n",
      "time 31\n",
      "df_all 31\n",
      "nn 31\n",
      "n 31\n",
      "car 31\n",
      "cols 30\n",
      "linearregression 30\n",
      "clf 30\n",
      "set 30\n",
      "mcr 30\n",
      "d 29\n",
      "sequential 29\n",
      "kfold 29\n",
      "adata 29\n",
      "a 28\n",
      "sc 28\n",
      "path 28\n",
      "accuracy 28\n",
      "roc_auc_score 27\n",
      "text 27\n",
      "v 27\n",
      "f1_score 27\n",
      "bookings 27\n",
      "lgb 26\n",
      "x_val 26\n",
      "labels 26\n",
      "date 26\n",
      "seliga 26\n",
      "g 25\n",
      "xgbclassifier 25\n",
      "predictions 25\n",
      "score 25\n",
      "word 25\n",
      "submission 25\n",
      "pred 25\n",
      "df_confirmed 25\n",
      "temp 25\n",
      "gc 24\n",
      "idx 24\n",
      "random 23\n",
      "device 23\n",
      "models 23\n",
      "display 22\n",
      "max 22\n",
      "j 22\n",
      "app_train 22\n",
      "scaler 21\n",
      "preds 21\n",
      "optimizer 21\n",
      "loss 21\n",
      "train_features 21\n",
      "knn 21\n",
      "cv_results 21\n",
      "xgb 20\n",
      "onehotencoder 20\n",
      "math 20\n",
      "adam 20\n",
      "w 20\n",
      "df_deaths 20\n",
      "iris_ds 20\n",
      "params 19\n",
      "t 19\n",
      "earlystopping 19\n",
      "super 19\n",
      "sorted 19\n",
      "gradientboostingclassifier 19\n",
      "labelencoder 19\n",
      "country 19\n",
      "dist_data 19\n",
      "learn 19\n",
      "ctrain 19\n",
      "opts 19\n",
      "hv 19\n",
      "pipeline 18\n",
      "cm 18\n",
      "seed 18\n",
      "image 18\n",
      "train_labels 18\n",
      "test_data 18\n",
      "dropout 17\n",
      "keras 17\n",
      "stratifiedkfold 17\n",
      "name 17\n",
      "gaussiannb 17\n",
      "hyperparameters 17\n",
      "param_grid 16\n",
      "randomforestregressor 16\n",
      "sum 16\n",
      "y_true 16\n",
      "minmaxscaler 16\n",
      "x_valid 16\n",
      "re 16\n",
      "values 16\n",
      "color 16\n",
      "dataloader 16\n",
      "label 16\n",
      "test_features 16\n",
      "exams 16\n",
      "mean_absolute_error 15\n",
      "adfuller 15\n",
      "ax1 15\n",
      "y_valid 15\n",
      "r2_score 15\n",
      "tokenizer 15\n",
      "counter 15\n",
      "auc 15\n",
      "total 15\n",
      "train_clean 15\n",
      "btc 15\n",
      "btc_month 15\n",
      "grid 14\n",
      "df2 14\n",
      "abs 14\n",
      "input 14\n",
      "epoch 14\n"
     ]
    }
   ],
   "source": [
    "for ng, ngcount in all_code_counts.most_common(200):\n",
    "    print(ng, ngcount)"
   ]
  },
  {
   "cell_type": "markdown",
   "metadata": {},
   "source": [
    "## Step P3: Vectorizing\n",
    "\n",
    "Several options: one-hot encoding, TF-IDF (document defined as cells, as that is the unit we want to measure the )"
   ]
  },
  {
   "cell_type": "code",
   "execution_count": 526,
   "metadata": {},
   "outputs": [],
   "source": [
    "df=pd.read_json(\"data/train_P2/ed44e2d85b6003.json\")"
   ]
  },
  {
   "cell_type": "code",
   "execution_count": 583,
   "metadata": {},
   "outputs": [
    {
     "name": "stderr",
     "output_type": "stream",
     "text": [
      "<timed exec>:2: FutureWarning: The default dtype for empty Series will be 'object' instead of 'float64' in a future version. Specify a dtype explicitly to silence this warning.\n",
      "<timed exec>:3: FutureWarning: The default dtype for empty Series will be 'object' instead of 'float64' in a future version. Specify a dtype explicitly to silence this warning.\n"
     ]
    },
    {
     "name": "stdout",
     "output_type": "stream",
     "text": [
      "CPU times: user 384 ms, sys: 26.1 ms, total: 410 ms\n",
      "Wall time: 434 ms\n"
     ]
    }
   ],
   "source": [
    "%%time\n",
    "#just a trick to make sure the pipeline produce side-effects\n",
    "sentences_in_all_nbs = [pd.Series([])]\n",
    "codesentences_in_all_nbs = [pd.Series([])]\n",
    "\n",
    "@pipeline(\"data/train_P2/\", None, breakafterone=False)\n",
    "def P3A(df, sentences_in_all_nbs, codesentences_in_all_nbs):\n",
    "\n",
    "    codesentences = df.loc[df.codetokens.values != None, \"codetokens\"]\\\n",
    "                                .map(lambda x: \" \".join(x[0]+x[1]))\n",
    "    codesentences_in_all_nbs[0] = pd.concat([codesentences_in_all_nbs[0], codesentences])\n",
    "    sentences = df.loc[df.cell_type == \"markdown\", \"tokens\"]\\\n",
    "                                .map(lambda x: \" \".join(x))\n",
    "    sentences_in_all_nbs[0] = pd.concat([sentences_in_all_nbs[0], sentences])\n",
    "    return df\n",
    "\n",
    "# 0.4 sec for 0.1% data\n",
    "_ = P3A(\"dummy\", sentences_in_all_nbs, codesentences_in_all_nbs) \n",
    "# input/ output is just dummy variable\n",
    "\n",
    "sentences_in_all_nbs=sentences_in_all_nbs[0]\n",
    "codesentences_in_all_nbs = codesentences_in_all_nbs[0]"
   ]
  },
  {
   "cell_type": "code",
   "execution_count": 579,
   "metadata": {},
   "outputs": [
    {
     "name": "stdout",
     "output_type": "stream",
     "text": [
      "length of TF-IDF vector 111\n"
     ]
    },
    {
     "data": {
      "text/html": [
       "<div>\n",
       "<style scoped>\n",
       "    .dataframe tbody tr th:only-of-type {\n",
       "        vertical-align: middle;\n",
       "    }\n",
       "\n",
       "    .dataframe tbody tr th {\n",
       "        vertical-align: top;\n",
       "    }\n",
       "\n",
       "    .dataframe thead th {\n",
       "        text-align: right;\n",
       "    }\n",
       "</style>\n",
       "<table border=\"1\" class=\"dataframe\">\n",
       "  <thead>\n",
       "    <tr style=\"text-align: right;\">\n",
       "      <th></th>\n",
       "      <th>TF-IDF</th>\n",
       "    </tr>\n",
       "  </thead>\n",
       "  <tbody>\n",
       "    <tr>\n",
       "      <th>data_train</th>\n",
       "      <td>0.740636</td>\n",
       "    </tr>\n",
       "    <tr>\n",
       "      <th>pd</th>\n",
       "      <td>0.671906</td>\n",
       "    </tr>\n",
       "    <tr>\n",
       "      <th>acum_tr_mse</th>\n",
       "      <td>0.000000</td>\n",
       "    </tr>\n",
       "    <tr>\n",
       "      <th>target</th>\n",
       "      <td>0.000000</td>\n",
       "    </tr>\n",
       "    <tr>\n",
       "      <th>str</th>\n",
       "      <td>0.000000</td>\n",
       "    </tr>\n",
       "    <tr>\n",
       "      <th>...</th>\n",
       "      <td>...</td>\n",
       "    </tr>\n",
       "    <tr>\n",
       "      <th>info_winnowing</th>\n",
       "      <td>0.000000</td>\n",
       "    </tr>\n",
       "    <tr>\n",
       "      <th>humidity_s</th>\n",
       "      <td>0.000000</td>\n",
       "    </tr>\n",
       "    <tr>\n",
       "      <th>humidity</th>\n",
       "      <td>0.000000</td>\n",
       "    </tr>\n",
       "    <tr>\n",
       "      <th>history</th>\n",
       "      <td>0.000000</td>\n",
       "    </tr>\n",
       "    <tr>\n",
       "      <th>zip</th>\n",
       "      <td>0.000000</td>\n",
       "    </tr>\n",
       "  </tbody>\n",
       "</table>\n",
       "<p>111 rows × 1 columns</p>\n",
       "</div>"
      ],
      "text/plain": [
       "                  TF-IDF\n",
       "data_train      0.740636\n",
       "pd              0.671906\n",
       "acum_tr_mse     0.000000\n",
       "target          0.000000\n",
       "str             0.000000\n",
       "...                  ...\n",
       "info_winnowing  0.000000\n",
       "humidity_s      0.000000\n",
       "humidity        0.000000\n",
       "history         0.000000\n",
       "zip             0.000000\n",
       "\n",
       "[111 rows x 1 columns]"
      ]
     },
     "execution_count": 579,
     "metadata": {},
     "output_type": "execute_result"
    }
   ],
   "source": [
    "from sklearn.feature_extraction.text import TfidfVectorizer, CountVectorizer, TfidfVectorizer\n",
    "#vectorizer = CountVectorizer(min_df=0)\n",
    "#vectorizer.fit(all_code_counts)\n",
    "tfidf_vectorizer = TfidfVectorizer(min_df=0.01)\n",
    "tfidf_vectorizer.fit(codesentences_in_all_nbs[0])\n",
    "\n",
    "print(\"length of TF-IDF vector\", len(tfidf_vectorizer.get_feature_names_out()))\n",
    "df_idf = pd.DataFrame(tfidf_vectorizer.idf_, index=tfidf_vectorizer.get_feature_names_out(),columns=[\"idf_weights\"]) \n",
    "#df_idf.sort_values(by=['idf_weights'])\n",
    "#print(df_idf)\n",
    "\n",
    "# try transforming one line\n",
    "v = tfidf_vectorizer.transform(codesentences_in_all_nbs[0][1:3])\n",
    "df = pd.DataFrame(v[0].T.todense(),\n",
    "                    index=tfidf_vectorizer.get_feature_names_out(),\n",
    "                    columns=[\"TF-IDF\"]) \n",
    "df.sort_values(by=[\"TF-IDF\"],ascending=False)\n",
    "\n",
    "\n",
    "#FIXME\n",
    "vectorizer = CountVectorizer()\n",
    "vectors = vectorizer.fit_transform(corpus)"
   ]
  },
  {
   "cell_type": "markdown",
   "metadata": {},
   "source": []
  },
  {
   "cell_type": "markdown",
   "metadata": {},
   "source": []
  },
  {
   "cell_type": "markdown",
   "metadata": {},
   "source": [
    "## References\n",
    "\n",
    "Berkeley Stat 157: Word2vec demonstration\n",
    "\n",
    "https://nbviewer.org/url/courses.d2l.ai/berkeley-stat-157/slides/4_18/word2vec-gluon.ipynb\n",
    "\n",
    "Applied Text Analysis with Python by Benjamin Bengfort, Rebecca Bilbro, Tony Ojeda\n",
    "\n",
    "Chapter 4. Text Vectorization and Transformation Pipelines\n",
    "\n",
    "https://www.oreilly.com/library/view/applied-text-analysis/9781491963036/ch04.html\n",
    "\n",
    "apply(), applymap(), map() in Pandas\n",
    "\n",
    "https://towardsdatascience.com/introduction-to-pandas-apply-applymap-and-map-5d3e044e93ff"
   ]
  },
  {
   "cell_type": "markdown",
   "metadata": {},
   "source": [
    "#### old code snippets"
   ]
  },
  {
   "cell_type": "code",
   "execution_count": null,
   "metadata": {},
   "outputs": [],
   "source": [
    "\n",
    "## this configures and returns the decorator\n",
    "#def pipeline(df,indir, outdir, skim=1, intype = \"csv\", outtype = \"csv\"):\n",
    "#\n",
    "#    # the decorator only receives the function and nothing else\n",
    "#    def pipelinedecor(funct):\n",
    "#\n",
    "#        ## this will take the function and \n",
    "#        def pipelineinner(df, *args, **kwargs):\n",
    "#            for index, row in train_order.iterrows():\n",
    "#                if index%skim==0:\n",
    "#\n",
    "#                    if intype == \"csv\":\n",
    "#                        df = pd.read_csv(indir+ f\"{row['id']}.csv\")\n",
    "#                    elif intype == \"json\":\n",
    "#                        df = pd.read_json(indir+ f\"{row['id']}.json\")\n",
    "#\n",
    "#                    # main function\n",
    "#                    df = funct(df, *args, **kwargs)\n",
    "#\n",
    "#                    if outtype == \"csv\":\n",
    "#                        df.to_csv(outdir+ f\"{row['id']}.csv\")\n",
    "#                    elif outtype == \"json\":\n",
    "#                        df.to_json(outdir+ f\"{row['id']}.json\")\n",
    "#\n",
    "#            return \n",
    "#        return pipelineinner  \n",
    "#    return pipelinedecor\n",
    "#    "
   ]
  },
  {
   "cell_type": "code",
   "execution_count": null,
   "metadata": {},
   "outputs": [],
   "source": [
    "#@pipeline(df, \"data/train/\",\"data/train_P1/\",skim=1000, intype=\"json\")\n",
    "#def P1(df):\n",
    "#    df[\"true_order\"] = df.index.map(true_order)\n",
    "#    df[\"true_order_by_type\"] = df.groupby(\"cell_type\")[\"true_order\"].rank()\n",
    "#    return df"
   ]
  },
  {
   "cell_type": "code",
   "execution_count": null,
   "metadata": {},
   "outputs": [],
   "source": [
    "#%%time\n",
    "#P1(df) # 6 secs/ 2MB for 1 in 1000 skim rate"
   ]
  },
  {
   "cell_type": "code",
   "execution_count": null,
   "metadata": {},
   "outputs": [
    {
     "name": "stdout",
     "output_type": "stream",
     "text": [
      "import pandas as pd\n",
      "import matplotlib.pyplot as plt\n",
      "import seaborn as sns\n",
      "import numpy as np\n",
      "from scipy.stats import norm\n",
      "from scipy.stats import linregress\n",
      "from sklearn import preprocessing\n",
      "from scipy import stats\n",
      "import warnings\n",
      "import math\n",
      "import datetime\n",
      "sns.set()\n",
      " # plt.style.use(\"\"dark_background\"\")\n",
      "warnings.filterwarnings('ignore')\n",
      "pd.set_option('display.max_columns', 500)\n",
      " \n"
     ]
    }
   ],
   "source": [
    "text_ = \"\"\"import pandas as pd\n",
    "import matplotlib.pyplot as plt\n",
    "import seaborn as sns\n",
    "import numpy as np\n",
    "from scipy.stats import norm\n",
    "from scipy.stats import linregress\n",
    "from sklearn import preprocessing\n",
    "from scipy import stats\n",
    "import warnings\n",
    "import math\n",
    "import datetime\n",
    "sns.set()\n",
    " sns.set_style('whitegrid')\n",
    "# plt.style.use(\"\"dark_background\"\")\n",
    "warnings.filterwarnings('ignore')\n",
    "pd.set_option('display.max_columns', 500)\n",
    "%matplotlib inline\"\"\"\n",
    "print(re.sub(r\"^[ !%].*\\n?\", \" \", text_, flags=re.MULTILINE))"
   ]
  }
 ],
 "metadata": {
  "interpreter": {
   "hash": "4976e0179d97dd6d59b1329a76e601e17b789c2571b41c8b57f5fd69821c0dd3"
  },
  "kernelspec": {
   "display_name": "Python 3.8.13 ('mlp')",
   "language": "python",
   "name": "python3"
  },
  "language_info": {
   "codemirror_mode": {
    "name": "ipython",
    "version": 3
   },
   "file_extension": ".py",
   "mimetype": "text/x-python",
   "name": "python",
   "nbconvert_exporter": "python",
   "pygments_lexer": "ipython3",
   "version": "3.8.13"
  }
 },
 "nbformat": 4,
 "nbformat_minor": 2
}
