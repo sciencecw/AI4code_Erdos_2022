{
 "cells": [
  {
   "cell_type": "markdown",
   "metadata": {},
   "source": [
    "# Preprocessing pipeline\n",
    "\n",
    "Even though Kaggle has worked to collect and ordered the data, the JSON files need some work before becoming trainable dataset\n",
    "\n",
    "This will be organized in a three step process\n",
    "\n",
    "\n",
    "P1 ==>\n",
    "-  We will reduce the number of JSON files we will run on (1 in 100). This is to produce a more managable dataset as we are only testing the waters with our model. The full data can be reprocessed if the model is found to be good.\n",
    "-  The info in CSVs will be brought in to become columns in panda dataset\n",
    "-  We will split the dataset into two. One for each type of cell. As it would be easier to build a model predicting just code and just MarkDown. We could then use their output to train our full model\n",
    "\n",
    "P2 ==>\n",
    "- Tokens will be created from the markdowns and codes, with slightly different process\n",
    "- features will be added (length of text, num of lines of code vs comments, dummy variables to replace left values - which should be encoded differently when it's a right value)\n",
    "\n",
    "P3 ==>\n",
    "- Vectorize the entry using `skikit-learn`\n",
    "\n",
    "P4 ==>\n",
    "- replace order of cells with comparison relations `{ <, =, > }`, creating n(n-1)/2 combinations\n",
    "- Dataframes/ CSVs will be concatenated\n",
    "\n",
    "\n",
    "Timing will be mandatory for long steps and recorded for purpose of optimizing re-running strategies\n",
    "\n",
    "\n"
   ]
  },
  {
   "cell_type": "code",
   "execution_count": 1,
   "metadata": {},
   "outputs": [],
   "source": [
    "import numpy as np\n",
    "import pandas as pd\n",
    "import matplotlib.pyplot as plt"
   ]
  },
  {
   "cell_type": "code",
   "execution_count": 2,
   "metadata": {},
   "outputs": [
    {
     "data": {
      "text/html": [
       "<div>\n",
       "<style scoped>\n",
       "    .dataframe tbody tr th:only-of-type {\n",
       "        vertical-align: middle;\n",
       "    }\n",
       "\n",
       "    .dataframe tbody tr th {\n",
       "        vertical-align: top;\n",
       "    }\n",
       "\n",
       "    .dataframe thead th {\n",
       "        text-align: right;\n",
       "    }\n",
       "</style>\n",
       "<table border=\"1\" class=\"dataframe\">\n",
       "  <thead>\n",
       "    <tr style=\"text-align: right;\">\n",
       "      <th></th>\n",
       "      <th>id</th>\n",
       "      <th>cell_order</th>\n",
       "    </tr>\n",
       "  </thead>\n",
       "  <tbody>\n",
       "    <tr>\n",
       "      <th>0</th>\n",
       "      <td>00001756c60be8</td>\n",
       "      <td>[1862f0a6, 448eb224, 2a9e43d6, 7e2f170a, 038b7...</td>\n",
       "    </tr>\n",
       "    <tr>\n",
       "      <th>1</th>\n",
       "      <td>00015c83e2717b</td>\n",
       "      <td>[2e94bd7a, 3e99dee9, b5e286ea, da4f7550, c4172...</td>\n",
       "    </tr>\n",
       "    <tr>\n",
       "      <th>2</th>\n",
       "      <td>0001bdd4021779</td>\n",
       "      <td>[3fdc37be, 073782ca, 8ea7263c, 80543cd8, 38310...</td>\n",
       "    </tr>\n",
       "    <tr>\n",
       "      <th>3</th>\n",
       "      <td>0001daf4c2c76d</td>\n",
       "      <td>[97266564, a898e555, 86605076, 76cc2642, ef279...</td>\n",
       "    </tr>\n",
       "    <tr>\n",
       "      <th>4</th>\n",
       "      <td>0002115f48f982</td>\n",
       "      <td>[9ec225f0, 18281c6c, e3b6b115, 4a044c54, 365fe...</td>\n",
       "    </tr>\n",
       "  </tbody>\n",
       "</table>\n",
       "</div>"
      ],
      "text/plain": [
       "               id                                         cell_order\n",
       "0  00001756c60be8  [1862f0a6, 448eb224, 2a9e43d6, 7e2f170a, 038b7...\n",
       "1  00015c83e2717b  [2e94bd7a, 3e99dee9, b5e286ea, da4f7550, c4172...\n",
       "2  0001bdd4021779  [3fdc37be, 073782ca, 8ea7263c, 80543cd8, 38310...\n",
       "3  0001daf4c2c76d  [97266564, a898e555, 86605076, 76cc2642, ef279...\n",
       "4  0002115f48f982  [9ec225f0, 18281c6c, e3b6b115, 4a044c54, 365fe..."
      ]
     },
     "execution_count": 2,
     "metadata": {},
     "output_type": "execute_result"
    }
   ],
   "source": [
    "train_order = pd.read_csv(\"data/train_orders.csv\")\n",
    "train_order.cell_order=train_order.cell_order.str.split()\n",
    "train_order.head(5)"
   ]
  },
  {
   "cell_type": "code",
   "execution_count": 3,
   "metadata": {},
   "outputs": [],
   "source": [
    "df1 = pd.read_json(\"data/train/00001756c60be8.json\")"
   ]
  },
  {
   "cell_type": "code",
   "execution_count": 4,
   "metadata": {},
   "outputs": [],
   "source": [
    "vort = \"valid\" # validation or training"
   ]
  },
  {
   "cell_type": "markdown",
   "metadata": {},
   "source": [
    "## Step P1: Skim dataset and add order information\n",
    "\n",
    "At this stage, only one in 1000 notebooks is processed. After all notebooks are finished, this is re-run at a higher skim rate (currently at 1 in 30). We also need a manual validation set, as we don't want the same document to be feeding into both training and validation"
   ]
  },
  {
   "cell_type": "code",
   "execution_count": 5,
   "metadata": {},
   "outputs": [
    {
     "name": "stdout",
     "output_type": "stream",
     "text": [
      "CPU times: user 17.2 s, sys: 1.93 s, total: 19.2 s\n",
      "Wall time: 20.6 s\n"
     ]
    },
    {
     "data": {
      "text/html": [
       "<div>\n",
       "<style scoped>\n",
       "    .dataframe tbody tr th:only-of-type {\n",
       "        vertical-align: middle;\n",
       "    }\n",
       "\n",
       "    .dataframe tbody tr th {\n",
       "        vertical-align: top;\n",
       "    }\n",
       "\n",
       "    .dataframe thead th {\n",
       "        text-align: right;\n",
       "    }\n",
       "</style>\n",
       "<table border=\"1\" class=\"dataframe\">\n",
       "  <thead>\n",
       "    <tr style=\"text-align: right;\">\n",
       "      <th></th>\n",
       "      <th>cell_type</th>\n",
       "      <th>source</th>\n",
       "      <th>true_order</th>\n",
       "    </tr>\n",
       "  </thead>\n",
       "  <tbody>\n",
       "    <tr>\n",
       "      <th>de39de15</th>\n",
       "      <td>code</td>\n",
       "      <td>fig = plt.figure(figsize=(20, 10))\\nfig.subplo...</td>\n",
       "      <td>47</td>\n",
       "    </tr>\n",
       "    <tr>\n",
       "      <th>a69b4594</th>\n",
       "      <td>markdown</td>\n",
       "      <td>**Importing required Libraries**</td>\n",
       "      <td>2</td>\n",
       "    </tr>\n",
       "    <tr>\n",
       "      <th>db94f2e6</th>\n",
       "      <td>code</td>\n",
       "      <td>df['Height'].fillna(61.0, inplace=True)\\ndf['J...</td>\n",
       "      <td>56</td>\n",
       "    </tr>\n",
       "    <tr>\n",
       "      <th>619abe3d</th>\n",
       "      <td>markdown</td>\n",
       "      <td>We don't see any outliers effecting.\\n\\n* Let'...</td>\n",
       "      <td>33</td>\n",
       "    </tr>\n",
       "    <tr>\n",
       "      <th>7624c629</th>\n",
       "      <td>markdown</td>\n",
       "      <td>* We can clearly see from these heatmap that '...</td>\n",
       "      <td>31</td>\n",
       "    </tr>\n",
       "  </tbody>\n",
       "</table>\n",
       "</div>"
      ],
      "text/plain": [
       "         cell_type                                             source  \\\n",
       "de39de15      code  fig = plt.figure(figsize=(20, 10))\\nfig.subplo...   \n",
       "a69b4594  markdown                   **Importing required Libraries**   \n",
       "db94f2e6      code  df['Height'].fillna(61.0, inplace=True)\\ndf['J...   \n",
       "619abe3d  markdown  We don't see any outliers effecting.\\n\\n* Let'...   \n",
       "7624c629  markdown  * We can clearly see from these heatmap that '...   \n",
       "\n",
       "          true_order  \n",
       "de39de15          47  \n",
       "a69b4594           2  \n",
       "db94f2e6          56  \n",
       "619abe3d          33  \n",
       "7624c629          31  "
      ]
     },
     "execution_count": 5,
     "metadata": {},
     "output_type": "execute_result"
    }
   ],
   "source": [
    "%%time\n",
    "#  time: 5sec / memory: 4MB\n",
    "for index, row in train_order.iterrows():\n",
    "    validationindex = index%1000 == 137\n",
    "    if index%30==0 or validationindex:\n",
    "        true_order = { h: i for i, h in enumerate(row[\"cell_order\"])}\n",
    "\n",
    "        # get dataframe\n",
    "        df = pd.read_json(f\"data/train/{row['id']}.json\")\n",
    "        df.loc[:,\"true_order\"] = df.index.map(true_order)\n",
    "\n",
    "        df_code = df[df.cell_type==\"code\"].copy()\n",
    "        df_md = df[df.cell_type==\"markdown\"].copy()\n",
    "\n",
    "        df_code.loc[:,\"true_order_code\"] = df_code[\"true_order\"].rank(method=\"min\").map(int)\n",
    "        df_md.loc[:,\"true_order_md\"] = df_md[\"true_order\"].rank(method=\"min\").map(int)\n",
    "\n",
    "        # add filename to dataframe for validation\n",
    "        if vort == \"valid\":\n",
    "            df_code.loc[:,\"filename\"] = row['id']\n",
    "            df_md.loc[:,\"filename\"] = row['id']\n",
    "        \n",
    "        # shuffle the entries\n",
    "        df_code = df_code.sample(frac=1).reset_index(drop=True)\n",
    "\n",
    "        if validationindex:\n",
    "            df_code.to_csv(f\"data/valid_P1_code/{row['id']}.csv\")\n",
    "            df_code.to_json(f\"data/valid_P1_code/{row['id']}.json\")\n",
    "            df_md.to_csv(f\"data/valid_P1_md/{row['id']}.csv\")\n",
    "            df_md.to_json(f\"data/valid_P1_md/{row['id']}.json\")\n",
    "        else:\n",
    "            df_code.to_csv(f\"data/train_P1_code/{row['id']}.csv\")\n",
    "            df_code.to_json(f\"data/train_P1_code/{row['id']}.json\")\n",
    "            df_md.to_csv(f\"data/train_P1_md/{row['id']}.csv\")\n",
    "            df_md.to_json(f\"data/train_P1_md/{row['id']}.json\")\n",
    "df.sample(5)\n",
    "        "
   ]
  },
  {
   "cell_type": "markdown",
   "metadata": {},
   "source": [
    "## Pipeline decorator\n",
    "\n",
    "Write a decorator that encapsulates the process of opening files, performing transformations and saving them\n",
    "This is less efficient in terms of storage, but since I am running on my laptop, this helps save CPU time - You don't need to re-run everything everytime you make a change"
   ]
  },
  {
   "cell_type": "code",
   "execution_count": 6,
   "metadata": {},
   "outputs": [],
   "source": [
    "import os\n",
    "from random import shuffle\n",
    "from math import log10, floor\n",
    "\n",
    "def round_to_one(x):\n",
    "   return round(x, -int(floor(log10(abs(x)))))\n",
    "\n",
    "# this configures and returns the decorator\n",
    "def pipeline(indir, outdir=None, breakafterone = False, showprogress=False):\n",
    "\n",
    "    # the decorator only receives the function and nothing else\n",
    "    def pipelinedecor(funct):\n",
    "\n",
    "        ## this will take the function and run it\n",
    "        def pipelineinner(df, *args, **kwargs):\n",
    "            df_ = df\n",
    "            infiles = os.listdir(indir)\n",
    "\n",
    "            numfiles = len(infiles)\n",
    "            print(\"num of files:\", numfiles)\n",
    "            for i, f in enumerate(infiles):\n",
    "\n",
    "                \n",
    "                if (i%(round_to_one(numfiles)/100))==0 and showprogress:\n",
    "                    print(i, round(100.*i/numfiles), \"%\")\n",
    "\n",
    "                if os.path.isfile(indir+f):\n",
    "                    fn_ = f.split(\".\")\n",
    "\n",
    "                    if fn_[1]==\"json\":\n",
    "                        # df is just a dummy variable \n",
    "                        # as we will give it our own input and output\n",
    "                        \n",
    "                        df = pd.read_json(indir+ f\"{fn_[0]}.json\")\n",
    "                        # main function\n",
    "  \n",
    "                        df =  funct(df, *args, **kwargs)\n",
    "\n",
    "                        if outdir and df is not None:\n",
    "                            df.to_csv(outdir+ f\"{fn_[0]}.csv\")  # at this point csv is used for human verification\n",
    "                            df.to_json(outdir+ f\"{fn_[0]}.json\")\n",
    "\n",
    "                        if breakafterone:\n",
    "                            break\n",
    "\n",
    "            return df_ # return the dummy variable unchanged\n",
    "        return pipelineinner  \n",
    "    return pipelinedecor\n",
    "    "
   ]
  },
  {
   "cell_type": "markdown",
   "metadata": {},
   "source": [
    "## Step P2: NLP preprocessing\n",
    "\n",
    "Markdown is transformed with common NLP preprocessing techniques\n",
    "\n",
    "lower case, remove html tags (as markdown is html compatible), remove non-alphabetical characters,\n",
    "remove digits\n",
    "\n",
    "The markdown is then tokenized and further words are dropped if they are stop words, is digit number (unfortunately this sometimes remove chapter number which would be useful - opportunity for feature engineering), having length more than 20 characters (usually these are hashes)\n",
    "\n",
    "Lastly the words pass through a stemmer to remove grammatical conjugations which confuses the computer"
   ]
  },
  {
   "cell_type": "code",
   "execution_count": 7,
   "metadata": {},
   "outputs": [],
   "source": [
    "import re\n",
    "import nltk\n",
    "from nltk.stem.porter import PorterStemmer\n",
    "from nltk.corpus import stopwords\n",
    "from nltk import ngrams, FreqDist\n",
    "\n",
    "extra_stopwords = [\"li\", \"br\", \"http\", \"https\", \"www\", \"com\", \"class\", \"alert\"]\n",
    "re_html = re.compile(r'<[^>]+>')\n",
    "re_char = re.compile(r\"[^a-zA-Z0-9]\")\n",
    "\n",
    "def preprocessing_unit(sourcetext: str):\n",
    "    words = sourcetext.lower()\n",
    "    words = re_html.sub('', words)\n",
    "    words = re_char.sub(' ', words)\n",
    "    words= nltk.word_tokenize(words)\n",
    "    words=  [w for w in words if w not in stopwords.words(\"english\") + extra_stopwords]\n",
    "    words = [w for w in words if not w.isdigit()]\n",
    "    words = [w for w in words if len(w)<20]\n",
    "    words = [PorterStemmer().stem(w) for w in words]\n",
    "    \n",
    "    \n",
    "    return words"
   ]
  },
  {
   "cell_type": "markdown",
   "metadata": {},
   "source": [
    "### AST Unit\n",
    "\n",
    "The AST unit generates left and right values, which is used in different ways\n",
    "\n",
    "1. we get a list of variables, which might be replaced by dummy variable for training\n",
    "2. we may build a directed graph which could help establish inheritance. These are strong features even as some authors of these notebooks are error-prone"
   ]
  },
  {
   "cell_type": "code",
   "execution_count": 8,
   "metadata": {},
   "outputs": [
    {
     "data": {
      "text/plain": [
       "(['pd', 'randomoversampler', 'matplotlib', 'smote', 'x'], ['seed', 'train_df'])"
      ]
     },
     "execution_count": 8,
     "metadata": {},
     "output_type": "execute_result"
    }
   ],
   "source": [
    "import ast\n",
    "re_nomagic = re.compile(r\"^[!%].*\\n?\", flags=re.MULTILINE) # remove ipython magic (syntax error)\n",
    "\n",
    "def ast_unit(sourcetext):\n",
    "\n",
    "    sourcetext =  re_nomagic.sub(\" \", sourcetext.lower())\n",
    "    \n",
    "    try:\n",
    "        root = ast.parse(sourcetext)\n",
    "    except SyntaxError as e: \n",
    "        # This is unavoidable as we cannot control what \n",
    "        # authors of notebook put into their coding cells\n",
    "        # and at this point AST dosn't have a good way to \n",
    "        # recover from an error\n",
    "        return ([],[])\n",
    "\n",
    "    # all use of variables\n",
    "    all_vars = {node.id for node in ast.walk(root) if isinstance(node, ast.Name)}\n",
    "    \n",
    "    # left values\n",
    "    # currently only direct assignment of simple variables are \n",
    "    assignment = {n.id                      for node in ast.walk(root) \\\n",
    "                                            if isinstance(node, ast.Assign) \\\n",
    "                                            for n in node.targets\\\n",
    "                                            if isinstance(n, ast.Name) }\n",
    "\n",
    "\n",
    "    all_imports =  {n.asname or n.name  for node in ast.walk(root) \\\n",
    "                                    if isinstance(node, (ast.Import, ast.ImportFrom)) \\\n",
    "                                    for n in node.names} \n",
    " \n",
    "    right_values = all_vars-assignment-all_imports\n",
    "    left_values = assignment | all_imports\n",
    "    return list(left_values), list(right_values)\n",
    "\n",
    "source = \"import pandas as pd \\nfrom imblearn.over_sampling import \"\\\n",
    "         \"RandomOverSampler, SMOTE \\nimport matplotlib; x = \"\\\n",
    "         \"train_df.drop(columns = \\\"target\\\", random_seed=seed)\"\n",
    " \n",
    "ast_unit(source)"
   ]
  },
  {
   "cell_type": "code",
   "execution_count": 9,
   "metadata": {},
   "outputs": [
    {
     "name": "stdout",
     "output_type": "stream",
     "text": [
      "Инициализация класса Data  ==>  ['data']\n",
      "The club has no relation with the other features and imputing it wiht any club names will be bias. So i am imputing it with the 'no Club'. We can also see there is an line showing missing values in rows of different features both categorical and numerical. So let's view categorical and numerical variable seperately  ==>  ['club', 'relat', 'featur', 'imput', 'wiht', 'club', 'name', 'bia', 'imput', 'club', 'also', 'see', 'line', 'show', 'miss', 'valu', 'row', 'differ', 'featur', 'categor', 'numer', 'let', 'view', 'categor', 'numer', 'variabl', 'seper']\n"
     ]
    }
   ],
   "source": [
    "testphrase = df1.iloc[-2][\"source\"]\n",
    "print(testphrase, \" ==> \", preprocessing_unit(testphrase))\n",
    "testphrase = df.iloc[-2][\"source\"]\n",
    "print(testphrase, \" ==> \", preprocessing_unit(testphrase))"
   ]
  },
  {
   "cell_type": "markdown",
   "metadata": {},
   "source": [
    "### Applying transformation\n",
    "This applies the preprocessing and AST units above"
   ]
  },
  {
   "cell_type": "code",
   "execution_count": 10,
   "metadata": {},
   "outputs": [
    {
     "name": "stdout",
     "output_type": "stream",
     "text": [
      "num of files: 280\n",
      "CPU times: user 10 s, sys: 1.37 s, total: 11.4 s\n",
      "Wall time: 11.7 s\n"
     ]
    }
   ],
   "source": [
    "%%time\n",
    "all_codetokens_in_all_nbs = []\n",
    "#@pipeline(\"data/train_P1_code/\",\"data/train_P2_code/\", breakafterone=False)\n",
    "@pipeline(f\"data/{vort}_P1_code/\",f\"data/{vort}_P2_code/\")\n",
    "def P2_code(df, all_codetokens_in_all_nbs):\n",
    "\n",
    "    ## AST TREE\n",
    "    df[\"codetokens\"] = df[\"source\"].apply(ast_unit)\n",
    "\n",
    "    all_codetokens_in_nb = df[\"codetokens\"].apply(lambda x: x[0]+x[1]).sum()\n",
    "    df.loc[:, \"L-codetokens\"] = df.apply(lambda x: x.codetokens[0], axis =1)\n",
    "    df.loc[:, \"R-codetokens\"] = df.apply(lambda x: x.codetokens[1], axis =1)\n",
    "\n",
    "\n",
    "    ## Ordinary text analysis\n",
    "    df[\"tokens\"] = df[\"source\"] .apply(preprocessing_unit)\n",
    "    \n",
    "    all_tokens_in_nb = df[\"tokens\"].apply(lambda x: \" \".join(x))\n",
    "    all_codetokens_in_all_nbs += all_codetokens_in_nb\n",
    "\n",
    "    return df\n",
    "\n",
    "\n",
    "# 23sec/8MB for 0.1% data\n",
    "# 8m for 3%\n",
    "# input/ output is just dummy variable\n",
    "_ = P2_code( _,      all_codetokens_in_all_nbs)"
   ]
  },
  {
   "cell_type": "code",
   "execution_count": 11,
   "metadata": {},
   "outputs": [
    {
     "name": "stdout",
     "output_type": "stream",
     "text": [
      "num of files: 280\n",
      "CPU times: user 3.48 s, sys: 504 ms, total: 3.98 s\n",
      "Wall time: 4.08 s\n"
     ]
    }
   ],
   "source": [
    "%%time\n",
    "all_tokens_in_all_nbs = []\n",
    "#@pipeline(\"data/train_P1_md/\",\"data/train_P2_md/\", breakafterone=False)\n",
    "@pipeline(f\"data/{vort}_P1_md/\",f\"data/{vort}_P2_md/\",)\n",
    "def P2_md(df, all_tokens_in_all_nbs):\n",
    "    df[\"tokens\"] = df[\"source\"].apply(preprocessing_unit)\n",
    "    \n",
    "    all_tokens_in_nb = df.tokens.apply(lambda x: \" \".join(x))\n",
    "    all_tokens_in_all_nbs += all_tokens_in_nb.tolist()\n",
    "    return df\n",
    "\n",
    "#8sec/8MB for 0.1% data\n",
    "# input/ output is just dummy variable\n",
    "_ = P2_md(\"dummy\",  all_tokens_in_all_nbs) \n",
    "all_tokens_in_all_nbs = \" \".join(all_tokens_in_all_nbs).split(\" \")"
   ]
  },
  {
   "cell_type": "code",
   "execution_count": 12,
   "metadata": {},
   "outputs": [
    {
     "name": "stdout",
     "output_type": "stream",
     "text": [
      "[('data', 599), ('featur', 485), ('model', 404), ('use', 404), ('valu', 390), ('train', 274), ('predict', 189), ('learn', 182), ('let', 166), ('function', 163), ('dataset', 162), ('one', 156), ('variabl', 156), ('test', 155), ('set', 155), ('see', 148), ('kaggl', 137), ('column', 133), ('time', 127), ('type', 126), ('number', 124), ('method', 124), ('imag', 121), ('base', 118), ('x', 117), ('miss', 116), ('like', 115), ('score', 115), ('notebook', 114), ('correl', 113)]\n"
     ]
    }
   ],
   "source": [
    "print(FreqDist(all_tokens_in_all_nbs).most_common(30))"
   ]
  },
  {
   "cell_type": "code",
   "execution_count": 13,
   "metadata": {},
   "outputs": [],
   "source": [
    "all_counts = dict()\n",
    "for size in 1, 2, 3, 4, 5:\n",
    "    all_counts[size] = FreqDist(ngrams(all_tokens_in_all_nbs, size))\n",
    "# No Ngrams for code\n",
    "all_code_counts = FreqDist(all_codetokens_in_all_nbs)"
   ]
  },
  {
   "cell_type": "markdown",
   "metadata": {},
   "source": [
    "## P2A: Plotting\n",
    "\n",
    "Now checking the overall frequecy of words"
   ]
  },
  {
   "cell_type": "code",
   "execution_count": 14,
   "metadata": {},
   "outputs": [
    {
     "data": {
      "image/png": "[encoded data removed]",
      "text/plain": [
       "<Figure size 576x432 with 1 Axes>"
      ]
     },
     "metadata": {
      "needs_background": "light"
     },
     "output_type": "display_data"
    }
   ],
   "source": [
    "plt.figure(figsize=(8,6))\n",
    "plt.xticks(fontsize=12)\n",
    "plt.yticks(fontsize=14)\n",
    "ax = all_counts[1].plot(35)\n"
   ]
  },
  {
   "cell_type": "code",
   "execution_count": 15,
   "metadata": {},
   "outputs": [
    {
     "data": {
      "text/plain": [
       "[(('data',), 599),\n",
       " (('featur',), 485),\n",
       " (('model',), 404),\n",
       " (('use',), 404),\n",
       " (('valu',), 390),\n",
       " (('train',), 274),\n",
       " (('predict',), 189),\n",
       " (('learn',), 182),\n",
       " (('let',), 166),\n",
       " (('function',), 163)]"
      ]
     },
     "execution_count": 15,
     "metadata": {},
     "output_type": "execute_result"
    }
   ],
   "source": [
    "all_counts[1].most_common(10)"
   ]
  },
  {
   "cell_type": "code",
   "execution_count": 16,
   "metadata": {},
   "outputs": [],
   "source": [
    "import seaborn as sns\n",
    "sns.set_style(\"darkgrid\")"
   ]
  },
  {
   "cell_type": "code",
   "execution_count": 17,
   "metadata": {},
   "outputs": [
    {
     "data": {
      "image/png": "[encoded data removed]",
      "text/plain": [
       "<Figure size 720x576 with 1 Axes>"
      ]
     },
     "metadata": {},
     "output_type": "display_data"
    }
   ],
   "source": [
    "#print( all_counts[1].most_common(30))\n",
    "log_rvsNr = [(key,value) for((key,), value) in all_counts[1].most_common(200) ]\n",
    "log_rvsNr = list(zip(*log_rvsNr))\n",
    "\n",
    "# plot the graph of log(r) vs log(Nr)\n",
    "plt.figure(figsize=(10,8))\n",
    "plt.loglog(range(len(log_rvsNr[0])), log_rvsNr[1], 'r.')\n",
    "plt.xlabel('r', fontsize=18)\n",
    "plt.ylabel('log(Nr)', fontsize=18)\n",
    "plt.title('loglog distribution of word frequency', fontsize=20)\n",
    "plt.xticks(fontsize=14)\n",
    "plt.yticks(fontsize=14)\n",
    "plt.show()"
   ]
  },
  {
   "cell_type": "code",
   "execution_count": 18,
   "metadata": {},
   "outputs": [
    {
     "name": "stdout",
     "output_type": "stream",
     "text": [
      "data 599\n",
      "featur 485\n",
      "model 404\n",
      "use 404\n",
      "valu 390\n",
      "train 274\n",
      "predict 189\n",
      "learn 182\n",
      "let 166\n",
      "function 163\n",
      "dataset 162\n",
      "one 156\n",
      "variabl 156\n",
      "test 155\n",
      "set 155\n",
      "see 148\n",
      "kaggl 137\n",
      "column 133\n",
      "time 127\n",
      "type 126\n",
      "number 124\n",
      "method 124\n",
      "imag 121\n",
      "base 118\n",
      "x 117\n"
     ]
    }
   ],
   "source": [
    "for ng, ngcount in all_counts[1].most_common(25):\n",
    "    print(\" \".join(ng), ngcount)"
   ]
  },
  {
   "cell_type": "code",
   "execution_count": 19,
   "metadata": {},
   "outputs": [
    {
     "data": {
      "image/png": "[encoded data removed]",
      "text/plain": [
       "<Figure size 432x288 with 1 Axes>"
      ]
     },
     "metadata": {},
     "output_type": "display_data"
    },
    {
     "data": {
      "text/plain": [
       "<AxesSubplot:xlabel='Samples', ylabel='Counts'>"
      ]
     },
     "execution_count": 19,
     "metadata": {},
     "output_type": "execute_result"
    }
   ],
   "source": [
    "all_counts[2].plot(30)"
   ]
  },
  {
   "cell_type": "code",
   "execution_count": 20,
   "metadata": {},
   "outputs": [
    {
     "name": "stdout",
     "output_type": "stream",
     "text": [
      "miss valu 77\n",
      "machin learn 58\n",
      "cover type 43\n",
      "train test 35\n",
      "test set 35\n",
      "featur select 35\n",
      "q valu 34\n",
      "featur engin 33\n",
      "null valu 33\n",
      "data analysi 32\n",
      "exploratori data analysi 22\n",
      "present highest frequenc 16\n",
      "cach la poudr 16\n",
      "imag png attach 16\n",
      "begin bmatrix end 16\n",
      "bmatrix end bmatrix 16\n",
      "frequenc soil type 14\n",
      "number miss valu 14\n",
      "number valu number 13\n",
      "valu number miss 13\n"
     ]
    }
   ],
   "source": [
    "for size in 2,3:\n",
    "    for ng, ngcount in all_counts[size].most_common(10):\n",
    "        print(\" \".join(ng), ngcount)"
   ]
  },
  {
   "cell_type": "code",
   "execution_count": 21,
   "metadata": {},
   "outputs": [
    {
     "data": {
      "image/png": "[encoded data removed]",
      "text/plain": [
       "<Figure size 432x288 with 1 Axes>"
      ]
     },
     "metadata": {},
     "output_type": "display_data"
    },
    {
     "data": {
      "text/plain": [
       "<AxesSubplot:xlabel='Samples', ylabel='Counts'>"
      ]
     },
     "execution_count": 21,
     "metadata": {},
     "output_type": "execute_result"
    }
   ],
   "source": [
    "all_code_counts.plot(30)"
   ]
  },
  {
   "cell_type": "code",
   "execution_count": 22,
   "metadata": {},
   "outputs": [
    {
     "name": "stdout",
     "output_type": "stream",
     "text": [
      "print 585\n",
      "plt 580\n",
      "pd 556\n",
      "np 502\n",
      "sns 474\n",
      "true 470\n",
      "df 453\n",
      "data 396\n",
      "x 289\n",
      "x_train 278\n",
      "false 261\n",
      "y_train 226\n",
      "x_test 219\n",
      "train 213\n",
      "y_test 211\n",
      "len 208\n",
      "model 205\n",
      "i 172\n",
      "y 171\n",
      "range 167\n",
      "fig 153\n",
      "test 125\n",
      "ax 118\n",
      "list 113\n",
      "train_test_split 106\n",
      "os 106\n",
      "train_df 100\n",
      "tf 96\n",
      "int 86\n",
      "_ 81\n",
      "none 80\n",
      "df_train 79\n",
      "y_pred 74\n",
      "enumerate 71\n",
      "train_data 62\n",
      "str 52\n",
      "labels 50\n",
      "f 50\n",
      "col 48\n",
      "train13 46\n",
      "features 46\n",
      "dict 45\n",
      "confusion_matrix 44\n",
      "accuracy_score 43\n",
      "filename 42\n",
      "df_all 42\n",
      "test_df 40\n",
      "score 39\n",
      "n 39\n",
      "filenames 38\n",
      "classification_report 38\n",
      "stopwords 37\n",
      "g 36\n",
      "logisticregression 36\n",
      "image 36\n",
      "roc_auc_score 36\n",
      "dirname 35\n",
      "tqdm 34\n",
      "pred 33\n",
      "self 33\n",
      "randomforestclassifier 33\n",
      "c 32\n",
      "params 32\n",
      "df_test 32\n",
      "mean_squared_error 31\n",
      "go 31\n",
      "x_val 31\n",
      "batch_size 31\n",
      "clf 30\n",
      "zip 30\n",
      "submission 29\n",
      "standardscaler 29\n",
      "path 29\n",
      "wordcloud 29\n",
      "label 28\n",
      "kfold 28\n",
      "movies_ratings 28\n",
      "set 28\n",
      "text 28\n",
      "xgb 28\n",
      "arr 28\n",
      "torch 27\n",
      "feature 27\n",
      "axes 27\n",
      "dense 27\n",
      "word 27\n",
      "xtest 27\n",
      "xtrain 27\n",
      "google_data 27\n",
      "k 26\n",
      "m 26\n",
      "y_val 26\n",
      "test_data 25\n",
      "j 25\n",
      "linearregression 25\n",
      "cross_val_score 25\n",
      "predictions 25\n",
      "dataset 25\n",
      "lr 25\n",
      "row 24\n",
      "decisiontreeclassifier 24\n",
      "display 24\n",
      "p 24\n",
      "name 23\n",
      "tokenizer 23\n",
      "re 22\n",
      "px 22\n",
      "history 22\n",
      "warnings 22\n",
      "mean_absolute_error 22\n",
      "index 22\n",
      "xgbregressor 22\n",
      "cols 22\n",
      "dropout 22\n",
      "sequential 22\n",
      "results 21\n",
      "float 21\n",
      "b 21\n",
      "cm 21\n",
      "sklearn 21\n",
      "t 21\n",
      "df_t 20\n",
      "max_len 20\n",
      "preds 20\n",
      "roc_auc_accuracy 20\n",
      "img 19\n",
      "open 19\n",
      "idx 19\n",
      "random 19\n",
      "gc 19\n",
      "ytrain 19\n",
      "cust_demo 19\n",
      "dataview 19\n",
      "neuron 19\n",
      "rallies_df 19\n",
      "randomforestregressor 18\n",
      "labelencoder 18\n",
      "config 18\n",
      "sample 18\n",
      "metrics 18\n",
      "abs 18\n",
      "epochs 18\n",
      "ytest 18\n",
      "keras 18\n",
      "next 17\n",
      "train_y 17\n",
      "f1_score 17\n",
      "target 17\n",
      "temp 17\n",
      "colors 17\n",
      "nltk 17\n",
      "cust_tran 17\n",
      "res 16\n",
      "train_x 16\n",
      "scores 16\n",
      "gridsearchcv 16\n",
      "pl 16\n",
      "main_heartbeat_data 16\n",
      "vxm_model 16\n",
      "sel_ 16\n",
      "stats 15\n",
      "x1 15\n",
      "test_x 15\n",
      "minmaxscaler 15\n",
      "round 15\n",
      "svc 15\n",
      "counter 15\n",
      "seed 15\n",
      "flatten 15\n",
      "signal 15\n",
      "roc_curve 15\n",
      "values 15\n",
      "goldmedals 15\n",
      "kmeans 15\n",
      "task 14\n",
      "simpleimputer 14\n",
      "a 14\n",
      "kneighborsclassifier 14\n",
      "dataloader 14\n",
      "data_test 14\n",
      "movies 14\n",
      "dt 14\n",
      "adam 14\n",
      "lgb 14\n",
      "d 14\n",
      "tree 14\n",
      "classes 14\n",
      "val_input 14\n",
      "r2_score 14\n",
      "make_subplots 14\n",
      "x_train_new 14\n",
      "concat_data 14\n",
      "df_cpy 14\n",
      "pos 13\n",
      "lgbmclassifier 13\n",
      "iter 13\n",
      "cv2 13\n",
      "lasso 13\n",
      "axs 13\n",
      "r 13\n"
     ]
    }
   ],
   "source": [
    "for ng, ngcount in all_code_counts.most_common(200):\n",
    "    print(ng, ngcount)"
   ]
  },
  {
   "cell_type": "markdown",
   "metadata": {},
   "source": [
    "## Step P3: Vectorizing\n",
    "\n",
    "Several options: one-hot encoding, TF-IDF (document defined as cells, as that is the unit we want to measure the )"
   ]
  },
  {
   "cell_type": "markdown",
   "metadata": {},
   "source": [
    "### An array of all sentences/ lines of code"
   ]
  },
  {
   "cell_type": "code",
   "execution_count": 23,
   "metadata": {},
   "outputs": [
    {
     "name": "stderr",
     "output_type": "stream",
     "text": [
      "<timed exec>:4: FutureWarning: The default dtype for empty Series will be 'object' instead of 'float64' in a future version. Specify a dtype explicitly to silence this warning.\n"
     ]
    },
    {
     "name": "stdout",
     "output_type": "stream",
     "text": [
      "num of files: 11140\n",
      "CPU times: user 12.7 s, sys: 789 ms, total: 13.5 s\n",
      "Wall time: 14.6 s\n"
     ]
    }
   ],
   "source": [
    "%%time\n",
    "## This creates list of sentences for all notebooks so as to be fed into scikit vectorizers\n",
    "\n",
    "#just a trick to make sure the pipeline produce side-effects\n",
    "sentences_in_all_nbs = [pd.Series([])]\n",
    "\n",
    "@pipeline(\"data/train_P2_md/\", None) # NOTE: validation set should still take encoding of \n",
    "def P3A_md(df, sentences_in_all_nbs):\n",
    "\n",
    "    sentences = df.loc[:, \"tokens\"].map(lambda x: \" \".join(x))\n",
    "    sentences_in_all_nbs[0] = pd.concat([sentences_in_all_nbs[0], sentences])\n",
    "    return df\n",
    "\n",
    "# 0.5 sec for 0.1% data\n",
    "_ = P3A_md(\"dummy\", sentences_in_all_nbs) \n",
    "# input/ output is just dummy variable\n",
    "sentences_in_all_nbs=sentences_in_all_nbs[0]"
   ]
  },
  {
   "cell_type": "code",
   "execution_count": 24,
   "metadata": {},
   "outputs": [
    {
     "name": "stdout",
     "output_type": "stream",
     "text": [
      "num of files: 11140\n"
     ]
    },
    {
     "name": "stderr",
     "output_type": "stream",
     "text": [
      "<timed exec>:1: FutureWarning: The default dtype for empty Series will be 'object' instead of 'float64' in a future version. Specify a dtype explicitly to silence this warning.\n"
     ]
    },
    {
     "name": "stdout",
     "output_type": "stream",
     "text": [
      "CPU times: user 13.8 s, sys: 724 ms, total: 14.5 s\n",
      "Wall time: 15.7 s\n"
     ]
    }
   ],
   "source": [
    "%%time\n",
    "codesentences_in_all_nbs = [pd.Series([])]\n",
    "\n",
    "@pipeline(\"data/train_P2_code/\", None)\n",
    "def P3A_code(df, codesentences_in_all_nbs):\n",
    "    codesentences = df.loc[df.codetokens.values != None, \"codetokens\"]\\\n",
    "                                .map(lambda x: \" \".join(x[0]+x[1]))\n",
    "    codesentences_in_all_nbs[0] = pd.concat([codesentences_in_all_nbs[0], codesentences])\n",
    "    return df\n",
    "\n",
    "# 1 sec for 0.1% data\n",
    "_ = P3A_code(\"dummy\", codesentences_in_all_nbs) \n",
    "# input/ output is just dummy variable\n",
    "codesentences_in_all_nbs = codesentences_in_all_nbs[0]"
   ]
  },
  {
   "cell_type": "code",
   "execution_count": 25,
   "metadata": {},
   "outputs": [
    {
     "data": {
      "text/plain": [
       "d822de37                                verifi year sinc join\n",
       "c63e2a26    final task want know year sinc join field accu...\n",
       "c6fc6d48                                pleas upvot find help\n",
       "134bc533    want keep aveng introduc filter aveng introduc...\n",
       "d0ed365b                                       consolid death\n",
       "                                  ...                        \n",
       "4752a503                         exploratori data analysi eda\n",
       "daa462c3                                             get data\n",
       "7f6dad67                                           train data\n",
       "35800b91    encrypt tbn0 gstatic imag q tbn y6tww usqp cau...\n",
       "7d1724a1                                    spoiler miss valu\n",
       "Length: 87498, dtype: object"
      ]
     },
     "execution_count": 25,
     "metadata": {},
     "output_type": "execute_result"
    }
   ],
   "source": [
    "sentences_in_all_nbs"
   ]
  },
  {
   "cell_type": "markdown",
   "metadata": {},
   "source": [
    "## TF-IDF Vectorizer\n",
    "\n",
    "Two different vectorizers are used for code and markdown respectively. As code tokens are more repetitive, one-hot coding is used. On the other hand TF-IDF is used for markdown. Note that the unit of document is each markdown cell, as that is the unit we need to measure against."
   ]
  },
  {
   "cell_type": "code",
   "execution_count": 26,
   "metadata": {},
   "outputs": [
    {
     "name": "stdout",
     "output_type": "stream",
     "text": [
      "length of TF-IDF vector 229\n"
     ]
    }
   ],
   "source": [
    "from sklearn.feature_extraction.text import TfidfVectorizer, CountVectorizer, TfidfVectorizer\n",
    "\n",
    "# Now setup TF-IDF vectorizor \n",
    "\n",
    "tfidf_vectorizer = TfidfVectorizer(min_df=0.01)\n",
    "tfidf_vectorizer.fit(sentences_in_all_nbs)\n",
    "\n",
    "print(\"length of TF-IDF vector\", len(tfidf_vectorizer.get_feature_names_out()))\n",
    "df_idf = pd.DataFrame(tfidf_vectorizer.idf_, index=tfidf_vectorizer.get_feature_names_out(),columns=[\"idf_weights\"]) \n",
    "#df_idf.sort_values(by=['idf_weights'])\n",
    "#print(df_idf.sort_values(by=['idf_weights']))\n",
    "\n",
    "# try transforming one line\n",
    "vectors_tfidf = tfidf_vectorizer.transform(sentences_in_all_nbs)\n"
   ]
  },
  {
   "cell_type": "code",
   "execution_count": 27,
   "metadata": {},
   "outputs": [
    {
     "name": "stdout",
     "output_type": "stream",
     "text": [
      "length of code one-hot vector 250\n"
     ]
    }
   ],
   "source": [
    "# One hot vectorizor for code (as they are much more repetitive)\n",
    "vectorizer_code = CountVectorizer(max_features = 250)\n",
    "vectors_code = vectorizer_code.fit_transform(codesentences_in_all_nbs)\n",
    "print(\"length of code one-hot vector\", len(vectorizer_code.get_feature_names_out()))"
   ]
  },
  {
   "cell_type": "code",
   "execution_count": 28,
   "metadata": {},
   "outputs": [
    {
     "data": {
      "text/html": [
       "<div>\n",
       "<style scoped>\n",
       "    .dataframe tbody tr th:only-of-type {\n",
       "        vertical-align: middle;\n",
       "    }\n",
       "\n",
       "    .dataframe tbody tr th {\n",
       "        vertical-align: top;\n",
       "    }\n",
       "\n",
       "    .dataframe thead th {\n",
       "        text-align: right;\n",
       "    }\n",
       "</style>\n",
       "<table border=\"1\" class=\"dataframe\">\n",
       "  <thead>\n",
       "    <tr style=\"text-align: right;\">\n",
       "      <th></th>\n",
       "      <th>TF-IDF</th>\n",
       "    </tr>\n",
       "  </thead>\n",
       "  <tbody>\n",
       "    <tr>\n",
       "      <th>sinc</th>\n",
       "      <td>0.715380</td>\n",
       "    </tr>\n",
       "    <tr>\n",
       "      <th>year</th>\n",
       "      <td>0.698736</td>\n",
       "    </tr>\n",
       "    <tr>\n",
       "      <th>origin</th>\n",
       "      <td>0.000000</td>\n",
       "    </tr>\n",
       "    <tr>\n",
       "      <th>output</th>\n",
       "      <td>0.000000</td>\n",
       "    </tr>\n",
       "    <tr>\n",
       "      <th>paramet</th>\n",
       "      <td>0.000000</td>\n",
       "    </tr>\n",
       "    <tr>\n",
       "      <th>...</th>\n",
       "      <td>...</td>\n",
       "    </tr>\n",
       "    <tr>\n",
       "      <th>group</th>\n",
       "      <td>0.000000</td>\n",
       "    </tr>\n",
       "    <tr>\n",
       "      <th>help</th>\n",
       "      <td>0.000000</td>\n",
       "    </tr>\n",
       "    <tr>\n",
       "      <th>high</th>\n",
       "      <td>0.000000</td>\n",
       "    </tr>\n",
       "    <tr>\n",
       "      <th>higher</th>\n",
       "      <td>0.000000</td>\n",
       "    </tr>\n",
       "    <tr>\n",
       "      <th>machin</th>\n",
       "      <td>0.000000</td>\n",
       "    </tr>\n",
       "  </tbody>\n",
       "</table>\n",
       "<p>229 rows × 1 columns</p>\n",
       "</div>"
      ],
      "text/plain": [
       "           TF-IDF\n",
       "sinc     0.715380\n",
       "year     0.698736\n",
       "origin   0.000000\n",
       "output   0.000000\n",
       "paramet  0.000000\n",
       "...           ...\n",
       "group    0.000000\n",
       "help     0.000000\n",
       "high     0.000000\n",
       "higher   0.000000\n",
       "machin   0.000000\n",
       "\n",
       "[229 rows x 1 columns]"
      ]
     },
     "execution_count": 28,
     "metadata": {},
     "output_type": "execute_result"
    }
   ],
   "source": [
    "df = pd.DataFrame(vectors_tfidf[0].T.todense(),\n",
    "                    index=tfidf_vectorizer.get_feature_names_out(),\n",
    "                    columns=[\"TF-IDF\"]) \n",
    "df.sort_values(by=[\"TF-IDF\"],ascending=False)"
   ]
  },
  {
   "cell_type": "code",
   "execution_count": 29,
   "metadata": {},
   "outputs": [
    {
     "name": "stdout",
     "output_type": "stream",
     "text": [
      "How full is the sparse array? 0.010809631193996016\n"
     ]
    }
   ],
   "source": [
    "print(\"How full is the sparse array?\",\n",
    "      np.count_nonzero(vectors_code.toarray())/vectors_code.shape[0]/vectors_code.shape[1])"
   ]
  },
  {
   "cell_type": "code",
   "execution_count": 30,
   "metadata": {},
   "outputs": [
    {
     "data": {
      "text/plain": [
       "<167622x250 sparse matrix of type '<class 'numpy.int64'>'\n",
       "\twith 452983 stored elements in Compressed Sparse Row format>"
      ]
     },
     "execution_count": 30,
     "metadata": {},
     "output_type": "execute_result"
    }
   ],
   "source": [
    "vectors_code "
   ]
  },
  {
   "cell_type": "code",
   "execution_count": 31,
   "metadata": {},
   "outputs": [
    {
     "data": {
      "text/plain": [
       "<87498x229 sparse matrix of type '<class 'numpy.float64'>'\n",
       "\twith 451386 stored elements in Compressed Sparse Row format>"
      ]
     },
     "execution_count": 31,
     "metadata": {},
     "output_type": "execute_result"
    }
   ],
   "source": [
    "vectors_tfidf"
   ]
  },
  {
   "cell_type": "markdown",
   "metadata": {},
   "source": [
    "### processing"
   ]
  },
  {
   "cell_type": "code",
   "execution_count": 32,
   "metadata": {},
   "outputs": [
    {
     "data": {
      "text/plain": [
       "(167622, 500)"
      ]
     },
     "execution_count": 32,
     "metadata": {},
     "output_type": "execute_result"
    }
   ],
   "source": [
    "# apped two arrays, we now have double the features\n",
    "np.append(vectors_code.toarray(),vectors_code.toarray(),axis=1).shape"
   ]
  },
  {
   "cell_type": "code",
   "execution_count": 33,
   "metadata": {},
   "outputs": [],
   "source": [
    "df = pd.read_json(\"data/train_P2_code/0b1de3720f4773.json\")\n",
    "#df"
   ]
  },
  {
   "cell_type": "code",
   "execution_count": 34,
   "metadata": {},
   "outputs": [],
   "source": [
    "def add_features(df):\n",
    "    length = df.tokens.map(len)\n",
    "    df[\"length\"] = length\n",
    "add_features(df)\n",
    "#df"
   ]
  },
  {
   "cell_type": "code",
   "execution_count": 35,
   "metadata": {},
   "outputs": [
    {
     "name": "stdout",
     "output_type": "stream",
     "text": [
      "num of files: 280\n",
      "CPU times: user 634 ms, sys: 60.8 ms, total: 695 ms\n",
      "Wall time: 739 ms\n"
     ]
    }
   ],
   "source": [
    "%%time\n",
    "\n",
    "@pipeline(f\"data/{vort}_P2_code/\", f\"data/{vort}_P3_code/\", breakafterone=False)\n",
    "def P3_code(df):\n",
    "\n",
    "    # for adding features\n",
    "    #additional_features = add_features(df)\n",
    "\n",
    "    vector_code = vectorizer_code.transform(df.tokens.apply(lambda l: \" \".join(l)))\n",
    "    array_code = vector_code.toarray()\n",
    "    df[\"encoding\"] = array_code.tolist() #+ additional_features\n",
    "    return df\n",
    "\n",
    "#df = pd.read_json(\"data/train_P2_code/0b1de3720f4773.json\")\n",
    "#df = P3_code(df) #FIXME test\n",
    "\n",
    "# 0.9 sec for 0.1% data\n",
    "_ = P3_code(\"dummy\") "
   ]
  },
  {
   "cell_type": "code",
   "execution_count": 36,
   "metadata": {},
   "outputs": [
    {
     "name": "stdout",
     "output_type": "stream",
     "text": [
      "num of files: 280\n",
      "CPU times: user 530 ms, sys: 48.9 ms, total: 579 ms\n",
      "Wall time: 606 ms\n"
     ]
    }
   ],
   "source": [
    "%%time\n",
    "\n",
    "@pipeline(f\"data/{vort}_P2_md/\", f\"data/{vort}_P3_md/\", breakafterone=False)\n",
    "def P3_md(df):\n",
    "\n",
    "    # for adding features\n",
    "    #additional_features = add_features(df)\n",
    "\n",
    "    vector_md = tfidf_vectorizer.transform(df.tokens.apply(lambda l: \" \".join(l)))\n",
    "    array_md = vector_md.toarray()\n",
    "    df[\"encoding\"] = array_md.tolist() #+ additional_features\n",
    "    return df\n",
    "\n",
    "#df = pd.read_json(\"data/train_P2_md/0b1de3720f4773.json\")\n",
    "#df = P3_md(df) #FIXME test\n",
    "\n",
    "# 0.9 sec for 0.1% data\n",
    "_ = P3_md(\"dummy\") \n",
    "#df"
   ]
  },
  {
   "cell_type": "markdown",
   "metadata": {},
   "source": [
    " ## Step P4: create pairings\n",
    "\n",
    "We must now pair entries from the same notebook, and add all possible combinations\n",
    "\n",
    "We also add final set of features that comes out of comparison of any two entries\n",
    "\n",
    "Ancestry of python variables are now determined solely by comparing L- and R- values\n",
    "\n",
    "Earlier, this step outputs csv and json like any other, but it turns out this is very \n",
    "memory intensive. Now, the arrays are pickled in place\n"
   ]
  },
  {
   "cell_type": "code",
   "execution_count": 37,
   "metadata": {},
   "outputs": [],
   "source": [
    "from scipy.sparse import csr_matrix, coo_matrix, hstack, vstack, save_npz\n",
    "from functools import reduce\n",
    "from itertools import combinations\n",
    "from array import array"
   ]
  },
  {
   "cell_type": "code",
   "execution_count": 38,
   "metadata": {},
   "outputs": [],
   "source": [
    "def ancestry(x):\n",
    "    ## determine ancestry\n",
    "    # a variable must first appear as an L value before R value\n",
    "    # therefore L value should have precedence\n",
    "    # so if the L value in A appears in B, it suggests A is first \n",
    "    # (although there is a chance that this is a typo)\n",
    "    # This implementation counts the number of times this occur\n",
    "    #x[\"A_first\"] = sum([tok in x[\"R-codeB\"] for tok in x[\"L-codeA\"]])\n",
    "     \n",
    "    x[\"A_first\"] = len(set(x[\"R-codeB\"]) & set(x[\"L-codeA\"]))\n",
    "    x[\"B_first\"] = len(set(x[\"R-codeA\"]) & set(x[\"L-codeB\"]))\n",
    "    #x[\"B_first\"] = sum([tok in x[\"R-codeA\"] for tok in x[\"L-codeB\"]])\n",
    "    return array('f',[x[\"A_first\"], x[\"B_first\"]])"
   ]
  },
  {
   "cell_type": "code",
   "execution_count": 39,
   "metadata": {},
   "outputs": [],
   "source": [
    "from time import perf_counter\n",
    "from collections import defaultdict"
   ]
  },
  {
   "cell_type": "code",
   "execution_count": 40,
   "metadata": {},
   "outputs": [
    {
     "name": "stdout",
     "output_type": "stream",
     "text": [
      "num of files: 281\n",
      "0 0 %\n",
      "3 1 %\n",
      "6 2 %\n",
      "9 3 %\n",
      "12 4 %\n",
      "15 5 %\n",
      "18 6 %\n",
      "21 7 %\n",
      "24 9 %\n",
      "27 10 %\n",
      "30 11 %\n",
      "33 12 %\n",
      "36 13 %\n",
      "39 14 %\n",
      "42 15 %\n",
      "45 16 %\n",
      "48 17 %\n",
      "51 18 %\n",
      "54 19 %\n",
      "57 20 %\n",
      "60 21 %\n",
      "63 22 %\n",
      "66 23 %\n",
      "69 25 %\n",
      "72 26 %\n",
      "75 27 %\n",
      "78 28 %\n",
      "81 29 %\n",
      "84 30 %\n",
      "87 31 %\n",
      "90 32 %\n",
      "93 33 %\n",
      "96 34 %\n",
      "99 35 %\n",
      "102 36 %\n",
      "105 37 %\n",
      "108 38 %\n",
      "111 40 %\n",
      "114 41 %\n",
      "117 42 %\n",
      "120 43 %\n",
      "123 44 %\n",
      "126 45 %\n",
      "129 46 %\n",
      "132 47 %\n",
      "135 48 %\n",
      "138 49 %\n",
      "141 50 %\n",
      "144 51 %\n",
      "147 52 %\n",
      "150 53 %\n",
      "153 54 %\n",
      "156 56 %\n",
      "159 57 %\n",
      "162 58 %\n",
      "165 59 %\n",
      "168 60 %\n",
      "171 61 %\n",
      "174 62 %\n",
      "177 63 %\n",
      "180 64 %\n",
      "183 65 %\n",
      "186 66 %\n",
      "189 67 %\n",
      "192 68 %\n",
      "195 69 %\n",
      "198 70 %\n",
      "201 72 %\n",
      "204 73 %\n",
      "207 74 %\n",
      "210 75 %\n",
      "213 76 %\n",
      "216 77 %\n",
      "219 78 %\n",
      "222 79 %\n",
      "225 80 %\n",
      "228 81 %\n",
      "231 82 %\n",
      "234 83 %\n",
      "237 84 %\n",
      "240 85 %\n",
      "243 86 %\n",
      "246 88 %\n",
      "249 89 %\n",
      "252 90 %\n",
      "255 91 %\n",
      "258 92 %\n",
      "261 93 %\n",
      "264 94 %\n",
      "267 95 %\n",
      "270 96 %\n",
      "273 97 %\n",
      "276 98 %\n",
      "279 99 %\n",
      "defaultdict(<function <lambda> at 0x2a04a19d0>, {'map': 0.014875842000094508, 'resetindex': 3.6764490829998806, 'ancestry': 28.426027208000193, 'tolist': 0.005700455000038573, 'result_vec': 0.024848123999703375, 'drop': 0.025181911999993645})\n",
      "CPU times: user 30.6 s, sys: 396 ms, total: 31 s\n",
      "Wall time: 33.3 s\n"
     ]
    }
   ],
   "source": [
    "%%time\n",
    "dataset_code = {\"x\":[], \"y\": []}\n",
    "#df = pd.read_json(\"data/train_P3_code/cbf92bdb8acdb1.json\")\n",
    "timers = defaultdict(lambda: 0)\n",
    "\n",
    "@pipeline(f\"data/{vort}_P3_code/\", None, showprogress=True)\n",
    "#@pipeline(\"data/valid_P3_code/\", None, breakafterone=False) # 9 sec for valid\n",
    "def P4_code(df):\n",
    "    if df.shape[0]==1: \n",
    "        return None\n",
    "\n",
    "    tstart = perf_counter()\n",
    "    a, b = map(list, zip(*combinations(df.index, 2)))\n",
    "    timers[\"map\"] += perf_counter()-tstart\n",
    "\n",
    "    tstart = perf_counter()\n",
    "    df_new = pd.DataFrame(data={\"encodingA\":df.loc[a,\"encoding\"].reset_index(drop=True),\n",
    "                                \"encodingB\":df.loc[b,\"encoding\"].reset_index(drop=True),\n",
    "                                \"L-codeA\":df.loc[a,\"L-codetokens\"].reset_index(drop=True),\n",
    "                                \"R-codeA\":df.loc[a,\"R-codetokens\"].reset_index(drop=True),\n",
    "                                \"L-codeB\":df.loc[b,\"L-codetokens\"].reset_index(drop=True),\n",
    "                                \"R-codeB\":df.loc[b,\"R-codetokens\"].reset_index(drop=True),\n",
    "                                \"true_order_codeA\":df.loc[a,\"true_order_code\"].reset_index(drop=True),\n",
    "                                \"true_order_codeB\":df.loc[b,\"true_order_code\"].reset_index(drop=True),})\n",
    "\n",
    "    df_new.loc[:,\"combined_encoding\"] = df_new.apply(lambda x: np.append(x.encodingA, x.encodingB), axis=1)\n",
    "    timers[\"resetindex\"] += perf_counter()-tstart\n",
    "\n",
    "     \n",
    "    tstart = perf_counter()\n",
    "    ## adding ancestry information\n",
    "    df_new.loc[:,\"combined_encoding\"] = df_new.apply( \\\n",
    "                                        lambda x: np.append(x[\"combined_encoding\"], ancestry(x)),axis=1)\n",
    "    timers[\"ancestry\"] += perf_counter()-tstart\n",
    "\n",
    "    tstart = perf_counter()\n",
    "    dataset_code[\"x\"].extend( df_new.loc[:,\"combined_encoding\"].tolist() )\n",
    "    timers[\"tolist\"] += perf_counter()-tstart\n",
    "\n",
    "    tstart = perf_counter()\n",
    "    # make result vector\n",
    "    df_new[\"result\"] = df_new[\"true_order_codeA\"]<df_new[\"true_order_codeB\"] # is A smaller than B\n",
    "    dataset_code[\"y\"].extend(df_new[\"result\"].to_list())\n",
    "    timers[\"result_vec\"] += perf_counter()-tstart\n",
    "\n",
    "    tstart = perf_counter()\n",
    "    df_new = df_new.drop([\n",
    "                       \"encodingA\",    \"encodingB\", \n",
    "                        \"L-codeA\",      \"L-codeB\", \n",
    "                        \"R-codeB\",      \"R-codeA\",\n",
    "                        \"true_order_codeA\",   \"true_order_codeB\"], axis=1)\n",
    "    timers[\"drop\"] += perf_counter()-tstart\n",
    "    return df_new \n",
    "\n",
    "# 15 mins/ 0.8GB for 0.1% data\n",
    "# 1min/ 1MB without writing json\n",
    "_ = P4_code(\"dummy\") \n",
    "\n",
    "dataset_code[\"x\"] = csr_matrix(dataset_code[\"x\"])\n",
    "dataset_code[\"y\"] = np.array(dataset_code[\"y\"])\n",
    "np.save(f\"data/{vort}_P4_code.npy\",  dataset_code[\"y\"])\n",
    "#yy = np.load(f\"data/{vort}_P4_code.npy\")\n",
    "save_npz(f\"data/{vort}_P4_code_X.npz\", dataset_code[\"x\"])\n",
    "\n",
    "print(timers)"
   ]
  },
  {
   "cell_type": "markdown",
   "metadata": {},
   "source": [
    "This shows the non-zero values of the matrix, notice the repeated patterns caused by combinations"
   ]
  },
  {
   "cell_type": "code",
   "execution_count": 41,
   "metadata": {},
   "outputs": [
    {
     "data": {
      "image/png": "[encoded data removed]",
      "text/plain": [
       "<Figure size 432x288 with 1 Axes>"
      ]
     },
     "metadata": {},
     "output_type": "display_data"
    }
   ],
   "source": [
    "plt.spy(dataset_code[\"x\"].toarray()[:500,:],  markersize = 1)\n",
    "plt.show()"
   ]
  },
  {
   "cell_type": "code",
   "execution_count": 42,
   "metadata": {},
   "outputs": [
    {
     "name": "stdout",
     "output_type": "stream",
     "text": [
      "num of files: 280\n",
      "CPU times: user 1.5 s, sys: 91.5 ms, total: 1.59 s\n",
      "Wall time: 1.32 s\n"
     ]
    }
   ],
   "source": [
    "%%time\n",
    "df = pd.read_json(\"data/train_P3_md/ed44e2d85b6003.json\")\n",
    "dataset_md = {\"x\":[], \"y\": []}\n",
    "#@pipeline(\"data/train_P3_md/\", \"data/train_P4_md/\", breakafterone=True)\n",
    "@pipeline(f\"data/{vort}_P3_md/\",  None, breakafterone=False) \n",
    "def P4_md(df, dataset_md):\n",
    "\n",
    "    if df.shape[0]==1:\n",
    "        return None\n",
    "\n",
    "    a, b = map(list, zip(*combinations(df.index, 2)))\n",
    "\n",
    "    df_new = pd.DataFrame( data={\"encodingA\":df.loc[a,\"encoding\"].reset_index(drop=True),\n",
    "                                \"encodingB\":df.loc[b,\"encoding\"].reset_index(drop=True),\n",
    "                                \"true_order_mdA\":df.loc[a,\"true_order_md\"].reset_index(drop=True),\n",
    "                                \"true_order_mdB\":df.loc[b,\"true_order_md\"].reset_index(drop=True),} )\n",
    "\n",
    "    df_new.loc[:,\"combined_encoding\"] = df_new.apply(lambda x: np.append(x.encodingA, x.encodingB), axis=1)\n",
    "\n",
    "    dataset_md[\"x\"].extend( df_new.loc[:,\"combined_encoding\"].tolist() )\n",
    "\n",
    "    df_new[\"result\"] = df_new[\"true_order_mdA\"]<df_new[\"true_order_mdB\"] # is A smaller than B\n",
    "    dataset_md[\"y\"].extend(df_new[\"result\"].to_list())\n",
    "\n",
    "    df_new = df_new.drop([  \"encodingA\",    \"encodingB\",\n",
    "                            \"true_order_mdA\",   \"true_order_mdB\"], axis=1)\n",
    "    return df_new\n",
    "\n",
    "# 8 mins/ 500MB for 0.1% data\n",
    "# 6 sec if no writing to disk\n",
    "_ = P4_md(\"dummy\", dataset_md) \n",
    "\n",
    "dataset_md[\"x\"] = csr_matrix(dataset_md[\"x\"])\n",
    "dataset_md[\"y\"] = np.array(dataset_md[\"y\"])\n",
    "np.save(f\"data/{vort}_P4_md.npy\",  dataset_md[\"y\"])\n",
    "#yy = np.load(f\"data/{vort}_P4_md.npy\")\n",
    "save_npz(f\"data/{vort}_P4_md_X.npz\", dataset_md[\"x\"])"
   ]
  },
  {
   "cell_type": "markdown",
   "metadata": {},
   "source": [
    "## References\n",
    "\n",
    "Berkeley Stat 157: Word2vec demonstration\n",
    "\n",
    "https://nbviewer.org/url/courses.d2l.ai/berkeley-stat-157/slides/4_18/word2vec-gluon.ipynb\n",
    "\n",
    "Applied Text Analysis with Python by Benjamin Bengfort, Rebecca Bilbro, Tony Ojeda\n",
    "\n",
    "Chapter 4. Text Vectorization and Transformation Pipelines\n",
    "\n",
    "https://www.oreilly.com/library/view/applied-text-analysis/9781491963036/ch04.html\n",
    "\n",
    "apply(), applymap(), map() in Pandas\n",
    "\n",
    "https://towardsdatascience.com/introduction-to-pandas-apply-applymap-and-map-5d3e044e93ff"
   ]
  },
  {
   "cell_type": "code",
   "execution_count": 44,
   "metadata": {},
   "outputs": [
    {
     "name": "stdout",
     "output_type": "stream",
     "text": [
      "f31060d1b8f007.json\n"
     ]
    },
    {
     "ename": "ValueError",
     "evalue": "Unexpected character found when decoding 'false'",
     "output_type": "error",
     "traceback": [
      "\u001b[0;31m---------------------------------------------------------------------------\u001b[0m",
      "\u001b[0;31mValueError\u001b[0m                                Traceback (most recent call last)",
      "File \u001b[0;32m<timed exec>:14\u001b[0m, in \u001b[0;36m<module>\u001b[0;34m\u001b[0m\n",
      "File \u001b[0;32m/opt/homebrew/Caskroom/miniforge/base/envs/mlp/lib/python3.8/site-packages/pandas/util/_decorators.py:207\u001b[0m, in \u001b[0;36mdeprecate_kwarg.<locals>._deprecate_kwarg.<locals>.wrapper\u001b[0;34m(*args, **kwargs)\u001b[0m\n\u001b[1;32m    <a href='file:///opt/homebrew/Caskroom/miniforge/base/envs/mlp/lib/python3.8/site-packages/pandas/util/_decorators.py?line=204'>205</a>\u001b[0m     \u001b[39melse\u001b[39;00m:\n\u001b[1;32m    <a href='file:///opt/homebrew/Caskroom/miniforge/base/envs/mlp/lib/python3.8/site-packages/pandas/util/_decorators.py?line=205'>206</a>\u001b[0m         kwargs[new_arg_name] \u001b[39m=\u001b[39m new_arg_value\n\u001b[0;32m--> <a href='file:///opt/homebrew/Caskroom/miniforge/base/envs/mlp/lib/python3.8/site-packages/pandas/util/_decorators.py?line=206'>207</a>\u001b[0m \u001b[39mreturn\u001b[39;00m func(\u001b[39m*\u001b[39;49margs, \u001b[39m*\u001b[39;49m\u001b[39m*\u001b[39;49mkwargs)\n",
      "File \u001b[0;32m/opt/homebrew/Caskroom/miniforge/base/envs/mlp/lib/python3.8/site-packages/pandas/util/_decorators.py:311\u001b[0m, in \u001b[0;36mdeprecate_nonkeyword_arguments.<locals>.decorate.<locals>.wrapper\u001b[0;34m(*args, **kwargs)\u001b[0m\n\u001b[1;32m    <a href='file:///opt/homebrew/Caskroom/miniforge/base/envs/mlp/lib/python3.8/site-packages/pandas/util/_decorators.py?line=304'>305</a>\u001b[0m \u001b[39mif\u001b[39;00m \u001b[39mlen\u001b[39m(args) \u001b[39m>\u001b[39m num_allow_args:\n\u001b[1;32m    <a href='file:///opt/homebrew/Caskroom/miniforge/base/envs/mlp/lib/python3.8/site-packages/pandas/util/_decorators.py?line=305'>306</a>\u001b[0m     warnings\u001b[39m.\u001b[39mwarn(\n\u001b[1;32m    <a href='file:///opt/homebrew/Caskroom/miniforge/base/envs/mlp/lib/python3.8/site-packages/pandas/util/_decorators.py?line=306'>307</a>\u001b[0m         msg\u001b[39m.\u001b[39mformat(arguments\u001b[39m=\u001b[39marguments),\n\u001b[1;32m    <a href='file:///opt/homebrew/Caskroom/miniforge/base/envs/mlp/lib/python3.8/site-packages/pandas/util/_decorators.py?line=307'>308</a>\u001b[0m         \u001b[39mFutureWarning\u001b[39;00m,\n\u001b[1;32m    <a href='file:///opt/homebrew/Caskroom/miniforge/base/envs/mlp/lib/python3.8/site-packages/pandas/util/_decorators.py?line=308'>309</a>\u001b[0m         stacklevel\u001b[39m=\u001b[39mstacklevel,\n\u001b[1;32m    <a href='file:///opt/homebrew/Caskroom/miniforge/base/envs/mlp/lib/python3.8/site-packages/pandas/util/_decorators.py?line=309'>310</a>\u001b[0m     )\n\u001b[0;32m--> <a href='file:///opt/homebrew/Caskroom/miniforge/base/envs/mlp/lib/python3.8/site-packages/pandas/util/_decorators.py?line=310'>311</a>\u001b[0m \u001b[39mreturn\u001b[39;00m func(\u001b[39m*\u001b[39;49margs, \u001b[39m*\u001b[39;49m\u001b[39m*\u001b[39;49mkwargs)\n",
      "File \u001b[0;32m/opt/homebrew/Caskroom/miniforge/base/envs/mlp/lib/python3.8/site-packages/pandas/io/json/_json.py:612\u001b[0m, in \u001b[0;36mread_json\u001b[0;34m(path_or_buf, orient, typ, dtype, convert_axes, convert_dates, keep_default_dates, numpy, precise_float, date_unit, encoding, encoding_errors, lines, chunksize, compression, nrows, storage_options)\u001b[0m\n\u001b[1;32m    <a href='file:///opt/homebrew/Caskroom/miniforge/base/envs/mlp/lib/python3.8/site-packages/pandas/io/json/_json.py?line=608'>609</a>\u001b[0m     \u001b[39mreturn\u001b[39;00m json_reader\n\u001b[1;32m    <a href='file:///opt/homebrew/Caskroom/miniforge/base/envs/mlp/lib/python3.8/site-packages/pandas/io/json/_json.py?line=610'>611</a>\u001b[0m \u001b[39mwith\u001b[39;00m json_reader:\n\u001b[0;32m--> <a href='file:///opt/homebrew/Caskroom/miniforge/base/envs/mlp/lib/python3.8/site-packages/pandas/io/json/_json.py?line=611'>612</a>\u001b[0m     \u001b[39mreturn\u001b[39;00m json_reader\u001b[39m.\u001b[39;49mread()\n",
      "File \u001b[0;32m/opt/homebrew/Caskroom/miniforge/base/envs/mlp/lib/python3.8/site-packages/pandas/io/json/_json.py:746\u001b[0m, in \u001b[0;36mJsonReader.read\u001b[0;34m(self)\u001b[0m\n\u001b[1;32m    <a href='file:///opt/homebrew/Caskroom/miniforge/base/envs/mlp/lib/python3.8/site-packages/pandas/io/json/_json.py?line=743'>744</a>\u001b[0m         obj \u001b[39m=\u001b[39m \u001b[39mself\u001b[39m\u001b[39m.\u001b[39m_get_object_parser(\u001b[39mself\u001b[39m\u001b[39m.\u001b[39m_combine_lines(data_lines))\n\u001b[1;32m    <a href='file:///opt/homebrew/Caskroom/miniforge/base/envs/mlp/lib/python3.8/site-packages/pandas/io/json/_json.py?line=744'>745</a>\u001b[0m \u001b[39melse\u001b[39;00m:\n\u001b[0;32m--> <a href='file:///opt/homebrew/Caskroom/miniforge/base/envs/mlp/lib/python3.8/site-packages/pandas/io/json/_json.py?line=745'>746</a>\u001b[0m     obj \u001b[39m=\u001b[39m \u001b[39mself\u001b[39;49m\u001b[39m.\u001b[39;49m_get_object_parser(\u001b[39mself\u001b[39;49m\u001b[39m.\u001b[39;49mdata)\n\u001b[1;32m    <a href='file:///opt/homebrew/Caskroom/miniforge/base/envs/mlp/lib/python3.8/site-packages/pandas/io/json/_json.py?line=746'>747</a>\u001b[0m \u001b[39mself\u001b[39m\u001b[39m.\u001b[39mclose()\n\u001b[1;32m    <a href='file:///opt/homebrew/Caskroom/miniforge/base/envs/mlp/lib/python3.8/site-packages/pandas/io/json/_json.py?line=747'>748</a>\u001b[0m \u001b[39mreturn\u001b[39;00m obj\n",
      "File \u001b[0;32m/opt/homebrew/Caskroom/miniforge/base/envs/mlp/lib/python3.8/site-packages/pandas/io/json/_json.py:768\u001b[0m, in \u001b[0;36mJsonReader._get_object_parser\u001b[0;34m(self, json)\u001b[0m\n\u001b[1;32m    <a href='file:///opt/homebrew/Caskroom/miniforge/base/envs/mlp/lib/python3.8/site-packages/pandas/io/json/_json.py?line=765'>766</a>\u001b[0m obj \u001b[39m=\u001b[39m \u001b[39mNone\u001b[39;00m\n\u001b[1;32m    <a href='file:///opt/homebrew/Caskroom/miniforge/base/envs/mlp/lib/python3.8/site-packages/pandas/io/json/_json.py?line=766'>767</a>\u001b[0m \u001b[39mif\u001b[39;00m typ \u001b[39m==\u001b[39m \u001b[39m\"\u001b[39m\u001b[39mframe\u001b[39m\u001b[39m\"\u001b[39m:\n\u001b[0;32m--> <a href='file:///opt/homebrew/Caskroom/miniforge/base/envs/mlp/lib/python3.8/site-packages/pandas/io/json/_json.py?line=767'>768</a>\u001b[0m     obj \u001b[39m=\u001b[39m FrameParser(json, \u001b[39m*\u001b[39;49m\u001b[39m*\u001b[39;49mkwargs)\u001b[39m.\u001b[39;49mparse()\n\u001b[1;32m    <a href='file:///opt/homebrew/Caskroom/miniforge/base/envs/mlp/lib/python3.8/site-packages/pandas/io/json/_json.py?line=769'>770</a>\u001b[0m \u001b[39mif\u001b[39;00m typ \u001b[39m==\u001b[39m \u001b[39m\"\u001b[39m\u001b[39mseries\u001b[39m\u001b[39m\"\u001b[39m \u001b[39mor\u001b[39;00m obj \u001b[39mis\u001b[39;00m \u001b[39mNone\u001b[39;00m:\n\u001b[1;32m    <a href='file:///opt/homebrew/Caskroom/miniforge/base/envs/mlp/lib/python3.8/site-packages/pandas/io/json/_json.py?line=770'>771</a>\u001b[0m     \u001b[39mif\u001b[39;00m \u001b[39mnot\u001b[39;00m \u001b[39misinstance\u001b[39m(dtype, \u001b[39mbool\u001b[39m):\n",
      "File \u001b[0;32m/opt/homebrew/Caskroom/miniforge/base/envs/mlp/lib/python3.8/site-packages/pandas/io/json/_json.py:880\u001b[0m, in \u001b[0;36mParser.parse\u001b[0;34m(self)\u001b[0m\n\u001b[1;32m    <a href='file:///opt/homebrew/Caskroom/miniforge/base/envs/mlp/lib/python3.8/site-packages/pandas/io/json/_json.py?line=877'>878</a>\u001b[0m     \u001b[39mself\u001b[39m\u001b[39m.\u001b[39m_parse_numpy()\n\u001b[1;32m    <a href='file:///opt/homebrew/Caskroom/miniforge/base/envs/mlp/lib/python3.8/site-packages/pandas/io/json/_json.py?line=878'>879</a>\u001b[0m \u001b[39melse\u001b[39;00m:\n\u001b[0;32m--> <a href='file:///opt/homebrew/Caskroom/miniforge/base/envs/mlp/lib/python3.8/site-packages/pandas/io/json/_json.py?line=879'>880</a>\u001b[0m     \u001b[39mself\u001b[39;49m\u001b[39m.\u001b[39;49m_parse_no_numpy()\n\u001b[1;32m    <a href='file:///opt/homebrew/Caskroom/miniforge/base/envs/mlp/lib/python3.8/site-packages/pandas/io/json/_json.py?line=881'>882</a>\u001b[0m \u001b[39mif\u001b[39;00m \u001b[39mself\u001b[39m\u001b[39m.\u001b[39mobj \u001b[39mis\u001b[39;00m \u001b[39mNone\u001b[39;00m:\n\u001b[1;32m    <a href='file:///opt/homebrew/Caskroom/miniforge/base/envs/mlp/lib/python3.8/site-packages/pandas/io/json/_json.py?line=882'>883</a>\u001b[0m     \u001b[39mreturn\u001b[39;00m \u001b[39mNone\u001b[39;00m\n",
      "File \u001b[0;32m/opt/homebrew/Caskroom/miniforge/base/envs/mlp/lib/python3.8/site-packages/pandas/io/json/_json.py:1133\u001b[0m, in \u001b[0;36mFrameParser._parse_no_numpy\u001b[0;34m(self)\u001b[0m\n\u001b[1;32m   <a href='file:///opt/homebrew/Caskroom/miniforge/base/envs/mlp/lib/python3.8/site-packages/pandas/io/json/_json.py?line=1128'>1129</a>\u001b[0m orient \u001b[39m=\u001b[39m \u001b[39mself\u001b[39m\u001b[39m.\u001b[39morient\n\u001b[1;32m   <a href='file:///opt/homebrew/Caskroom/miniforge/base/envs/mlp/lib/python3.8/site-packages/pandas/io/json/_json.py?line=1130'>1131</a>\u001b[0m \u001b[39mif\u001b[39;00m orient \u001b[39m==\u001b[39m \u001b[39m\"\u001b[39m\u001b[39mcolumns\u001b[39m\u001b[39m\"\u001b[39m:\n\u001b[1;32m   <a href='file:///opt/homebrew/Caskroom/miniforge/base/envs/mlp/lib/python3.8/site-packages/pandas/io/json/_json.py?line=1131'>1132</a>\u001b[0m     \u001b[39mself\u001b[39m\u001b[39m.\u001b[39mobj \u001b[39m=\u001b[39m DataFrame(\n\u001b[0;32m-> <a href='file:///opt/homebrew/Caskroom/miniforge/base/envs/mlp/lib/python3.8/site-packages/pandas/io/json/_json.py?line=1132'>1133</a>\u001b[0m         loads(json, precise_float\u001b[39m=\u001b[39;49m\u001b[39mself\u001b[39;49m\u001b[39m.\u001b[39;49mprecise_float), dtype\u001b[39m=\u001b[39m\u001b[39mNone\u001b[39;00m\n\u001b[1;32m   <a href='file:///opt/homebrew/Caskroom/miniforge/base/envs/mlp/lib/python3.8/site-packages/pandas/io/json/_json.py?line=1133'>1134</a>\u001b[0m     )\n\u001b[1;32m   <a href='file:///opt/homebrew/Caskroom/miniforge/base/envs/mlp/lib/python3.8/site-packages/pandas/io/json/_json.py?line=1134'>1135</a>\u001b[0m \u001b[39melif\u001b[39;00m orient \u001b[39m==\u001b[39m \u001b[39m\"\u001b[39m\u001b[39msplit\u001b[39m\u001b[39m\"\u001b[39m:\n\u001b[1;32m   <a href='file:///opt/homebrew/Caskroom/miniforge/base/envs/mlp/lib/python3.8/site-packages/pandas/io/json/_json.py?line=1135'>1136</a>\u001b[0m     decoded \u001b[39m=\u001b[39m {\n\u001b[1;32m   <a href='file:///opt/homebrew/Caskroom/miniforge/base/envs/mlp/lib/python3.8/site-packages/pandas/io/json/_json.py?line=1136'>1137</a>\u001b[0m         \u001b[39mstr\u001b[39m(k): v\n\u001b[1;32m   <a href='file:///opt/homebrew/Caskroom/miniforge/base/envs/mlp/lib/python3.8/site-packages/pandas/io/json/_json.py?line=1137'>1138</a>\u001b[0m         \u001b[39mfor\u001b[39;00m k, v \u001b[39min\u001b[39;00m loads(json, precise_float\u001b[39m=\u001b[39m\u001b[39mself\u001b[39m\u001b[39m.\u001b[39mprecise_float)\u001b[39m.\u001b[39mitems()\n\u001b[1;32m   <a href='file:///opt/homebrew/Caskroom/miniforge/base/envs/mlp/lib/python3.8/site-packages/pandas/io/json/_json.py?line=1138'>1139</a>\u001b[0m     }\n",
      "\u001b[0;31mValueError\u001b[0m: Unexpected character found when decoding 'false'"
     ]
    }
   ],
   "source": [
    "%%time\n",
    "\n",
    "########## FIXME FIXME TEMPORARY make validation set\n",
    "\n",
    "dataset_code = {\"x\":[], \"y\": []}\n",
    "\n",
    "timers = defaultdict(lambda: 0)\n",
    "\n",
    "#@pipeline(f\"data/{vort}_P3_code/\", None, breakafterone=False)\n",
    "#@pipeline(\"data/valid_P3_code/\", None, breakafterone=False) # 9 sec for valid\n",
    "#ef P4_code(df): #FIXME\n",
    "#   if df.shape[0]==1: #FIXME\n",
    "#       return None#FIXME\n",
    "for i, f in enumerate( os.listdir(\"data/valid_P3_code\")):\n",
    "    print(f)\n",
    "    df= pd.read_json(f)\n",
    "    validset_code = {\"x\":[], \"y\": []}\n",
    "\n",
    "    tstart = perf_counter()\n",
    "    a, b = map(list, zip(*combinations(df.index, 2)))\n",
    "    timers[\"map\"] += perf_counter()-tstart\n",
    "\n",
    "    tstart = perf_counter()\n",
    "    df_new = pd.DataFrame(data={\"encodingA\":df.loc[a,\"encoding\"].reset_index(drop=True),\n",
    "                                \"encodingB\":df.loc[b,\"encoding\"].reset_index(drop=True),\n",
    "                                \"L-codeA\":df.loc[a,\"L-codetokens\"].reset_index(drop=True),\n",
    "                                \"R-codeA\":df.loc[a,\"R-codetokens\"].reset_index(drop=True),\n",
    "                                \"L-codeB\":df.loc[b,\"L-codetokens\"].reset_index(drop=True),\n",
    "                                \"R-codeB\":df.loc[b,\"R-codetokens\"].reset_index(drop=True),\n",
    "                                \"true_order_codeA\":df.loc[a,\"true_order_code\"].reset_index(drop=True),\n",
    "                                \"true_order_codeB\":df.loc[b,\"true_order_code\"].reset_index(drop=True),})\n",
    "\n",
    "    df_new.loc[:,\"combined_encoding\"] = df_new.apply(lambda x: np.append(x.encodingA, x.encodingB), axis=1)\n",
    "    timers[\"resetindex\"] += perf_counter()-tstart\n",
    "\n",
    "     \n",
    "    tstart = perf_counter()\n",
    "    ## adding ancestry information\n",
    "    df_new.loc[:,\"combined_encoding\"] = df_new.apply( \\\n",
    "                                        lambda x: np.append(x[\"combined_encoding\"], ancestry(x)),axis=1)\n",
    "    timers[\"ancestry\"] += perf_counter()-tstart\n",
    "\n",
    "    tstart = perf_counter()\n",
    "    dataset_code[\"x\"].extend( df_new.loc[:,\"combined_encoding\"].tolist() )\n",
    "    validset_code[\"x\"].extend( df_new.loc[:,\"combined_encoding\"].tolist() )\n",
    "    timers[\"tolist\"] += perf_counter()-tstart\n",
    "\n",
    "    tstart = perf_counter()\n",
    "    # make result vector\n",
    "    df_new[\"result\"] = df_new[\"true_order_codeA\"]<df_new[\"true_order_codeB\"] # is A smaller than B\n",
    "    dataset_code[\"y\"].extend(df_new[\"result\"].to_list())\n",
    "    validset_code[\"y\"].extend(df_new[\"result\"].to_list())\n",
    "    timers[\"result_vec\"] += perf_counter()-tstart\n",
    "\n",
    "    tstart = perf_counter()\n",
    "    df_new = df_new.drop([\n",
    "                       \"encodingA\",    \"encodingB\", \n",
    "                        \"L-codeA\",      \"L-codeB\", \n",
    "                        \"R-codeB\",      \"R-codeA\",\n",
    "                        \"true_order_codeA\",   \"true_order_codeB\"], axis=1)\n",
    "    timers[\"drop\"] += perf_counter()-tstart\n",
    "\n",
    "    #validation dataset\n",
    "    validset_code[\"x\"] = csr_matrix(validset_code[\"x\"])\n",
    "    validset_code[\"y\"] = np.array(validset_code[\"y\"])\n",
    "    fname =  f  #df_new.loc[0,\"filename\"]\n",
    "    np.save(f\"data/validate_P4_code_{fname}.npy\",  validset_code[\"y\"])\n",
    "    save_npz(f\"data/validate_P4_code_X_{fname}.npz\", validset_code[\"x\"])\n",
    "    \n",
    "    #return df_new  #FIXME\n",
    "\n",
    "# 15 mins/ 0.8GB for 0.1% data\n",
    "# 1min/ 1MB without writing json\n",
    "#_ = P4_code(\"dummy\") \n",
    "\n",
    "#dataset_code[\"x\"] = csr_matrix(dataset_code[\"x\"])\n",
    "#dataset_code[\"y\"] = np.array(dataset_code[\"y\"])\n",
    "#np.save(f\"data/valid_P4_code.npy\",  dataset_code[\"y\"])\n",
    "#save_npz(f\"data/valid_P4_code_X.npz\", dataset_code[\"x\"])\n",
    "\n",
    "print(timers)"
   ]
  },
  {
   "cell_type": "code",
   "execution_count": null,
   "metadata": {},
   "outputs": [],
   "source": [
    "%debug\n"
   ]
  },
  {
   "cell_type": "code",
   "execution_count": null,
   "metadata": {},
   "outputs": [
    {
     "data": {
      "text/html": [
       "<div>\n",
       "<style scoped>\n",
       "    .dataframe tbody tr th:only-of-type {\n",
       "        vertical-align: middle;\n",
       "    }\n",
       "\n",
       "    .dataframe tbody tr th {\n",
       "        vertical-align: top;\n",
       "    }\n",
       "\n",
       "    .dataframe thead th {\n",
       "        text-align: right;\n",
       "    }\n",
       "</style>\n",
       "<table border=\"1\" class=\"dataframe\">\n",
       "  <thead>\n",
       "    <tr style=\"text-align: right;\">\n",
       "      <th></th>\n",
       "      <th>combined_encoding</th>\n",
       "      <th>result</th>\n",
       "    </tr>\n",
       "  </thead>\n",
       "  <tbody>\n",
       "    <tr>\n",
       "      <th>0</th>\n",
       "      <td>[0.0, 0.0, 0.0, 0.0, 0.0, 0.0, 0.0, 0.0, 0.0, ...</td>\n",
       "      <td>True</td>\n",
       "    </tr>\n",
       "    <tr>\n",
       "      <th>1</th>\n",
       "      <td>[0.0, 0.0, 0.0, 0.0, 0.0, 0.0, 0.0, 0.0, 0.0, ...</td>\n",
       "      <td>True</td>\n",
       "    </tr>\n",
       "    <tr>\n",
       "      <th>2</th>\n",
       "      <td>[0.0, 0.0, 0.0, 0.0, 0.0, 0.0, 0.0, 0.0, 0.0, ...</td>\n",
       "      <td>False</td>\n",
       "    </tr>\n",
       "    <tr>\n",
       "      <th>3</th>\n",
       "      <td>[0.0, 0.0, 0.0, 0.0, 0.0, 0.0, 0.0, 0.0, 0.0, ...</td>\n",
       "      <td>True</td>\n",
       "    </tr>\n",
       "    <tr>\n",
       "      <th>4</th>\n",
       "      <td>[0.0, 0.0, 0.0, 0.0, 0.0, 0.0, 0.0, 0.0, 0.0, ...</td>\n",
       "      <td>True</td>\n",
       "    </tr>\n",
       "    <tr>\n",
       "      <th>...</th>\n",
       "      <td>...</td>\n",
       "      <td>...</td>\n",
       "    </tr>\n",
       "    <tr>\n",
       "      <th>5045</th>\n",
       "      <td>[0.0, 0.0, 0.0, 0.0, 0.0, 0.0, 0.0, 0.0, 0.0, ...</td>\n",
       "      <td>False</td>\n",
       "    </tr>\n",
       "    <tr>\n",
       "      <th>5046</th>\n",
       "      <td>[0.0, 0.0, 0.0, 0.0, 0.0, 0.0, 0.0, 0.0, 0.0, ...</td>\n",
       "      <td>False</td>\n",
       "    </tr>\n",
       "    <tr>\n",
       "      <th>5047</th>\n",
       "      <td>[0.0, 0.0, 0.0, 0.0, 0.0, 0.0, 0.0, 0.0, 0.0, ...</td>\n",
       "      <td>True</td>\n",
       "    </tr>\n",
       "    <tr>\n",
       "      <th>5048</th>\n",
       "      <td>[0.0, 0.0, 0.0, 0.0, 0.0, 0.0, 0.0, 0.0, 0.0, ...</td>\n",
       "      <td>False</td>\n",
       "    </tr>\n",
       "    <tr>\n",
       "      <th>5049</th>\n",
       "      <td>[0.0, 0.0, 0.0, 0.0, 0.0, 0.0, 0.0, 1.0, 0.0, ...</td>\n",
       "      <td>False</td>\n",
       "    </tr>\n",
       "  </tbody>\n",
       "</table>\n",
       "<p>5050 rows × 2 columns</p>\n",
       "</div>"
      ],
      "text/plain": [
       "                                      combined_encoding  result\n",
       "0     [0.0, 0.0, 0.0, 0.0, 0.0, 0.0, 0.0, 0.0, 0.0, ...    True\n",
       "1     [0.0, 0.0, 0.0, 0.0, 0.0, 0.0, 0.0, 0.0, 0.0, ...    True\n",
       "2     [0.0, 0.0, 0.0, 0.0, 0.0, 0.0, 0.0, 0.0, 0.0, ...   False\n",
       "3     [0.0, 0.0, 0.0, 0.0, 0.0, 0.0, 0.0, 0.0, 0.0, ...    True\n",
       "4     [0.0, 0.0, 0.0, 0.0, 0.0, 0.0, 0.0, 0.0, 0.0, ...    True\n",
       "...                                                 ...     ...\n",
       "5045  [0.0, 0.0, 0.0, 0.0, 0.0, 0.0, 0.0, 0.0, 0.0, ...   False\n",
       "5046  [0.0, 0.0, 0.0, 0.0, 0.0, 0.0, 0.0, 0.0, 0.0, ...   False\n",
       "5047  [0.0, 0.0, 0.0, 0.0, 0.0, 0.0, 0.0, 0.0, 0.0, ...    True\n",
       "5048  [0.0, 0.0, 0.0, 0.0, 0.0, 0.0, 0.0, 0.0, 0.0, ...   False\n",
       "5049  [0.0, 0.0, 0.0, 0.0, 0.0, 0.0, 0.0, 1.0, 0.0, ...   False\n",
       "\n",
       "[5050 rows x 2 columns]"
      ]
     },
     "execution_count": 92,
     "metadata": {},
     "output_type": "execute_result"
    }
   ],
   "source": [
    "df_new"
   ]
  },
  {
   "cell_type": "code",
   "execution_count": null,
   "metadata": {},
   "outputs": [],
   "source": []
  }
 ],
 "metadata": {
  "interpreter": {
   "hash": "4976e0179d97dd6d59b1329a76e601e17b789c2571b41c8b57f5fd69821c0dd3"
  },
  "kernelspec": {
   "display_name": "Python 3.8.13 ('mlp')",
   "language": "python",
   "name": "python3"
  },
  "language_info": {
   "codemirror_mode": {
    "name": "ipython",
    "version": 3
   },
   "file_extension": ".py",
   "mimetype": "text/x-python",
   "name": "python",
   "nbconvert_exporter": "python",
   "pygments_lexer": "ipython3",
   "version": "3.8.13"
  }
 },
 "nbformat": 4,
 "nbformat_minor": 2
}
