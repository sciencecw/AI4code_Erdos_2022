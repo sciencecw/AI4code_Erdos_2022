{
 "cells": [
  {
   "cell_type": "markdown",
   "metadata": {},
   "source": [
    "# Preprocessing pipeline\n",
    "\n",
    "Even though Kaggle has worked to collect and ordered the data, the JSON files need some work before becoming trainable dataset\n",
    "\n",
    "This will be organized in a three step process\n",
    "\n",
    "\n",
    "P1 ==>\n",
    "-  We will reduce the number of JSON files we will run on (1 in 100). This is to produce a more managable dataset as we are only testing the waters with our model. The full data can be reprocessed if the model is found to be good.\n",
    "-  The info in CSVs will be brought in to become columns in panda dataset\n",
    "\n",
    "P2 ==>\n",
    "- Tokens will be created from the markdowns and codes, with slightly different process\n",
    "- features will be added (length of text, num of lines of code vs comments, dummy variables to replace left values - which should be encoded differently when it's a right value)\n",
    "\n",
    "P3 ==>\n",
    "-  We will split the dataset into two. One for each type of cell. As it would be easier to build a model predicting just code and just MarkDown. We could then use their output to train our full model\n",
    "\n",
    "P4 ==>\n",
    "- replace order of cells with comparison relations `{ <, =, > }`, creating n(n-1)/2 combinations\n",
    "\n",
    "P5 ==>\n",
    "- Dataframes/ CSVs will be concatenated\n",
    "\n",
    "\n",
    "Timing will be mandatory for long steps and recorded for purpose of optimizing re-running strategies\n",
    "\n",
    "\n"
   ]
  },
  {
   "cell_type": "code",
   "execution_count": 70,
   "metadata": {},
   "outputs": [],
   "source": [
    "df1 = pd.read_json(\"data/train/00001756c60be8.json\")"
   ]
  },
  {
   "cell_type": "code",
   "execution_count": 48,
   "metadata": {},
   "outputs": [
    {
     "data": {
      "text/html": [
       "<div>\n",
       "<style scoped>\n",
       "    .dataframe tbody tr th:only-of-type {\n",
       "        vertical-align: middle;\n",
       "    }\n",
       "\n",
       "    .dataframe tbody tr th {\n",
       "        vertical-align: top;\n",
       "    }\n",
       "\n",
       "    .dataframe thead th {\n",
       "        text-align: right;\n",
       "    }\n",
       "</style>\n",
       "<table border=\"1\" class=\"dataframe\">\n",
       "  <thead>\n",
       "    <tr style=\"text-align: right;\">\n",
       "      <th></th>\n",
       "      <th>id</th>\n",
       "      <th>cell_order</th>\n",
       "    </tr>\n",
       "  </thead>\n",
       "  <tbody>\n",
       "    <tr>\n",
       "      <th>101544</th>\n",
       "      <td>ba8ec0edee076c</td>\n",
       "      <td>[b60583e5, f410fa1b, 710020c5, 667d777e, b3f52...</td>\n",
       "    </tr>\n",
       "    <tr>\n",
       "      <th>121325</th>\n",
       "      <td>df2df37e4c6910</td>\n",
       "      <td>[5c08e7c6, 7d256d36, 338b13e6, d31ca04d, 09d9d...</td>\n",
       "    </tr>\n",
       "    <tr>\n",
       "      <th>16508</th>\n",
       "      <td>1e18a15c453f3e</td>\n",
       "      <td>[248c3be9, fb743e4c, 29a3b7c6, 76d33b56, 05423...</td>\n",
       "    </tr>\n",
       "    <tr>\n",
       "      <th>98435</th>\n",
       "      <td>b4d7d0c828d1c1</td>\n",
       "      <td>[fe995b22, 591cd7c0, df5f3d91, 0b4de330, 2b461...</td>\n",
       "    </tr>\n",
       "    <tr>\n",
       "      <th>10369</th>\n",
       "      <td>1305ae8cd924b0</td>\n",
       "      <td>[e0afd782, ff4b7e44, 75ae29d3, cd435475, a089f...</td>\n",
       "    </tr>\n",
       "  </tbody>\n",
       "</table>\n",
       "</div>"
      ],
      "text/plain": [
       "                    id                                         cell_order\n",
       "101544  ba8ec0edee076c  [b60583e5, f410fa1b, 710020c5, 667d777e, b3f52...\n",
       "121325  df2df37e4c6910  [5c08e7c6, 7d256d36, 338b13e6, d31ca04d, 09d9d...\n",
       "16508   1e18a15c453f3e  [248c3be9, fb743e4c, 29a3b7c6, 76d33b56, 05423...\n",
       "98435   b4d7d0c828d1c1  [fe995b22, 591cd7c0, df5f3d91, 0b4de330, 2b461...\n",
       "10369   1305ae8cd924b0  [e0afd782, ff4b7e44, 75ae29d3, cd435475, a089f..."
      ]
     },
     "execution_count": 48,
     "metadata": {},
     "output_type": "execute_result"
    }
   ],
   "source": [
    "train_order = pd.read_csv(\"data/train_orders.csv\")\n",
    "train_order.cell_order=train_order.cell_order.str.split()\n",
    "train_order.sample(5)"
   ]
  },
  {
   "cell_type": "markdown",
   "metadata": {},
   "source": [
    "## Step P1: Skim dataset and add order information"
   ]
  },
  {
   "cell_type": "code",
   "execution_count": 131,
   "metadata": {},
   "outputs": [
    {
     "name": "stdout",
     "output_type": "stream",
     "text": [
      "CPU times: user 4.61 s, sys: 186 ms, total: 4.79 s\n",
      "Wall time: 4.91 s\n"
     ]
    }
   ],
   "source": [
    "%%time\n",
    "#  time: / memory: \n",
    "for index, row in train_order.iterrows():\n",
    "    if index%1000==0:\n",
    "        true_order = { h: i for i, h in enumerate(row[\"cell_order\"])}\n",
    "\n",
    "        # get dataframe\n",
    "        df = pd.read_json(f\"data/train/{row['id']}.json\")\n",
    "        df[\"true_order\"] = df.index.map(true_order)\n",
    "        #df[\"true_order_code\"] = df[df.cell_type==\"code\"].rank()\n",
    "        df.to_csv(f\"data/train_P1/{row['id']}.csv\")\n",
    "        "
   ]
  },
  {
   "cell_type": "markdown",
   "metadata": {},
   "source": [
    "## Pipeline decorator\n",
    "\n",
    "Write a decorator that encapsulates the process of opening files, performing transformations and saving them into csv "
   ]
  },
  {
   "cell_type": "code",
   "execution_count": 180,
   "metadata": {},
   "outputs": [],
   "source": [
    "import os\n",
    "# this configures and returns the decorator\n",
    "def pipeline(indir, outdir=None):\n",
    "\n",
    "    # the decorator only receives the function and nothing else\n",
    "    def pipelinedecor(funct):\n",
    "\n",
    "        ## this will take the function and run it\n",
    "        def pipelineinner(df, *args, **kwargs):\n",
    "            df_ = df\n",
    "            \n",
    "            for f in os.listdir(indir):\n",
    "                \n",
    "                if os.path.isfile(indir+f):\n",
    "\n",
    "                    fn_ = f.split(\".\")\n",
    "                    #print(indir, fn_)\n",
    "                    \n",
    "                    if fn_[1]==\"csv\":\n",
    "                        #df is just a dummy variable as we will give it our own input and output\n",
    "                        df = pd.read_csv(indir+ f\"{fn_[0]}.csv\")\n",
    "                        # main function\n",
    "                        df = funct(df, *args, **kwargs)\n",
    "                        \n",
    "                        if outdir:\n",
    "                            df.to_csv(outdir+ f\"{fn_[0]}.csv\")\n",
    "\n",
    "            return df_ # return the dummy variable unchanged\n",
    "        return pipelineinner  \n",
    "    return pipelinedecor\n",
    "    "
   ]
  },
  {
   "cell_type": "markdown",
   "metadata": {},
   "source": [
    "## Step P2: NLP preprocessing"
   ]
  },
  {
   "cell_type": "code",
   "execution_count": 90,
   "metadata": {},
   "outputs": [],
   "source": [
    "import re\n",
    "import nltk\n",
    "from nltk.stem.porter import PorterStemmer\n",
    "from nltk.corpus import stopwords\n",
    "\n",
    "def preprocessing_unit(sourcetext: str):\n",
    "    words = re.sub(r\"[^a-zA-Z0-9]\", \" \", sourcetext.lower())\n",
    "    words=nltk.word_tokenize(words)\n",
    "    words=[w for w in words if w not in stopwords.words(\"english\")]\n",
    "    words = [words for words in words if not words.isdigit()]\n",
    "    return words"
   ]
  },
  {
   "cell_type": "code",
   "execution_count": null,
   "metadata": {},
   "outputs": [],
   "source": [
    "import ast\n",
    "def ast_unit(sourcetext):\n",
    "    #source = \"import pandas as pd \\nfrom imblearn.over_sampling import RandomOverSampler, SMOTE \\nimport matplotlib; x = train_df.drop(columns = \\\"target\\\", random_seed=seed)\"\n",
    "    root = ast.parse(source)\n",
    "\n",
    "    # all use of variables\n",
    "    all_vars = {node.id for node in ast.walk(root) if isinstance(node, ast.Name)}\n",
    "    \n",
    "    # left values\n",
    "    assignment = {n.id  for node in ast.walk(root) if isinstance(node, ast.Assign) for n in node.targets}\n",
    "    all_imports =  {n.asname or n.name  for node in ast.walk(root) \\\n",
    "                                    if isinstance(node, (ast.Import, ast.ImportFrom)) \\\n",
    "                                    for n in node.names} \n",
    "    #print(all_vars)\n",
    "    #print(assignment)"
   ]
  },
  {
   "cell_type": "code",
   "execution_count": 94,
   "metadata": {},
   "outputs": [
    {
     "name": "stdout",
     "output_type": "stream",
     "text": [
      "Инициализация класса Data  ==>  ['data']\n",
      "So some people are just not paying. Let's not worry about them.  ==>  ['people', 'paying', 'let', 'worry']\n"
     ]
    }
   ],
   "source": [
    "testphrase = df1.iloc[-2][\"source\"]\n",
    "print(testphrase, \" ==> \", preprocessing_unit(testphrase))\n",
    "testphrase = df.iloc[-2][\"source\"]\n",
    "print(testphrase, \" ==> \", preprocessing_unit(testphrase))"
   ]
  },
  {
   "cell_type": "markdown",
   "metadata": {},
   "source": [
    "This applies the preprocessing unit above"
   ]
  },
  {
   "cell_type": "code",
   "execution_count": 179,
   "metadata": {},
   "outputs": [
    {
     "name": "stdout",
     "output_type": "stream",
     "text": [
      "CPU times: user 20.6 s, sys: 2.05 s, total: 22.7 s\n",
      "Wall time: 23.9 s\n"
     ]
    },
    {
     "data": {
      "text/plain": [
       "'running'"
      ]
     },
     "execution_count": 179,
     "metadata": {},
     "output_type": "execute_result"
    }
   ],
   "source": [
    "%%time\n",
    "@pipeline(\"data/train_P1/\",\"data/train_P2/\")\n",
    "def P2(df):\n",
    "    df[\"tokens\"] = df[\"source\"].apply(preprocessing_unit)\n",
    "    return df\n",
    "\n",
    "P2(\"running\") # input is just dummy variable"
   ]
  },
  {
   "cell_type": "markdown",
   "metadata": {},
   "source": [
    "## References\n",
    "\n",
    "Berkeley Stat 157: Word2vec demonstration\n",
    "\n",
    "https://nbviewer.org/url/courses.d2l.ai/berkeley-stat-157/slides/4_18/word2vec-gluon.ipynb"
   ]
  },
  {
   "cell_type": "markdown",
   "metadata": {},
   "source": [
    "#### old code snippets"
   ]
  },
  {
   "cell_type": "code",
   "execution_count": null,
   "metadata": {},
   "outputs": [],
   "source": [
    "\n",
    "## this configures and returns the decorator\n",
    "#def pipeline(df,indir, outdir, skim=1, intype = \"csv\", outtype = \"csv\"):\n",
    "#\n",
    "#    # the decorator only receives the function and nothing else\n",
    "#    def pipelinedecor(funct):\n",
    "#\n",
    "#        ## this will take the function and \n",
    "#        def pipelineinner(df, *args, **kwargs):\n",
    "#            for index, row in train_order.iterrows():\n",
    "#                if index%skim==0:\n",
    "#\n",
    "#                    if intype == \"csv\":\n",
    "#                        df = pd.read_csv(indir+ f\"{row['id']}.csv\")\n",
    "#                    elif intype == \"json\":\n",
    "#                        df = pd.read_json(indir+ f\"{row['id']}.json\")\n",
    "#\n",
    "#                    # main function\n",
    "#                    df = funct(df, *args, **kwargs)\n",
    "#\n",
    "#                    if outtype == \"csv\":\n",
    "#                        df.to_csv(outdir+ f\"{row['id']}.csv\")\n",
    "#                    elif outtype == \"json\":\n",
    "#                        df.to_json(outdir+ f\"{row['id']}.json\")\n",
    "#\n",
    "#            return \n",
    "#        return pipelineinner  \n",
    "#    return pipelinedecor\n",
    "#    "
   ]
  },
  {
   "cell_type": "code",
   "execution_count": null,
   "metadata": {},
   "outputs": [],
   "source": [
    "#@pipeline(df, \"data/train/\",\"data/train_P1/\",skim=1000, intype=\"json\")\n",
    "#def P1(df):\n",
    "#    df[\"true_order\"] = df.index.map(true_order)\n",
    "#    df[\"true_order_by_type\"] = df.groupby(\"cell_type\")[\"true_order\"].rank()\n",
    "#    return df"
   ]
  },
  {
   "cell_type": "code",
   "execution_count": null,
   "metadata": {},
   "outputs": [],
   "source": [
    "#%%time\n",
    "#P1(df) # 6 secs/ 2MB for 1 in 1000 skim rate"
   ]
  }
 ],
 "metadata": {
  "interpreter": {
   "hash": "4976e0179d97dd6d59b1329a76e601e17b789c2571b41c8b57f5fd69821c0dd3"
  },
  "kernelspec": {
   "display_name": "Python 3.8.13 ('mlp')",
   "language": "python",
   "name": "python3"
  },
  "language_info": {
   "codemirror_mode": {
    "name": "ipython",
    "version": 3
   },
   "file_extension": ".py",
   "mimetype": "text/x-python",
   "name": "python",
   "nbconvert_exporter": "python",
   "pygments_lexer": "ipython3",
   "version": "3.8.13"
  }
 },
 "nbformat": 4,
 "nbformat_minor": 2
}
