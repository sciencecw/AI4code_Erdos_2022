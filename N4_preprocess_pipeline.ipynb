{
 "cells": [
  {
   "cell_type": "markdown",
   "metadata": {},
   "source": [
    "# Preprocessing pipeline\n",
    "\n",
    "Even though Kaggle has worked to collect and ordered the data, the JSON files need some work before becoming trainable dataset\n",
    "\n",
    "This will be organized in a three step process\n",
    "\n",
    "\n",
    "P1 ==>\n",
    "-  We will reduce the number of JSON files we will run on (1 in 100). This is to produce a more managable dataset as we are only testing the waters with our model. The full data can be reprocessed if the model is found to be good.\n",
    "-  The info in CSVs will be brought in to become columns in panda dataset\n",
    "-  We will split the dataset into two. One for each type of cell. As it would be easier to build a model predicting just code and just MarkDown. We could then use their output to train our full model\n",
    "\n",
    "P2 ==>\n",
    "- Tokens will be created from the markdowns and codes, with slightly different process\n",
    "- features will be added (length of text, num of lines of code vs comments, dummy variables to replace left values - which should be encoded differently when it's a right value)\n",
    "\n",
    "P3 ==>\n",
    "- Vectorize the entry using `skikit-learn`\n",
    "\n",
    "P4 ==>\n",
    "- replace order of cells with comparison relations `{ <, =, > }`, creating n(n-1)/2 combinations\n",
    "- Dataframes/ CSVs will be concatenated\n",
    "\n",
    "\n",
    "Timing will be mandatory for long steps and recorded for purpose of optimizing re-running strategies\n",
    "\n",
    "\n"
   ]
  },
  {
   "cell_type": "code",
   "execution_count": 1,
   "metadata": {},
   "outputs": [],
   "source": [
    "import numpy as np\n",
    "import pandas as pd\n",
    "import matplotlib.pyplot as plt"
   ]
  },
  {
   "cell_type": "code",
   "execution_count": 2,
   "metadata": {},
   "outputs": [],
   "source": [
    "df1 = pd.read_json(\"data/train/00001756c60be8.json\")"
   ]
  },
  {
   "cell_type": "code",
   "execution_count": 48,
   "metadata": {},
   "outputs": [
    {
     "data": {
      "text/html": [
       "<div>\n",
       "<style scoped>\n",
       "    .dataframe tbody tr th:only-of-type {\n",
       "        vertical-align: middle;\n",
       "    }\n",
       "\n",
       "    .dataframe tbody tr th {\n",
       "        vertical-align: top;\n",
       "    }\n",
       "\n",
       "    .dataframe thead th {\n",
       "        text-align: right;\n",
       "    }\n",
       "</style>\n",
       "<table border=\"1\" class=\"dataframe\">\n",
       "  <thead>\n",
       "    <tr style=\"text-align: right;\">\n",
       "      <th></th>\n",
       "      <th>id</th>\n",
       "      <th>cell_order</th>\n",
       "    </tr>\n",
       "  </thead>\n",
       "  <tbody>\n",
       "    <tr>\n",
       "      <th>0</th>\n",
       "      <td>00001756c60be8</td>\n",
       "      <td>[1862f0a6, 448eb224, 2a9e43d6, 7e2f170a, 038b7...</td>\n",
       "    </tr>\n",
       "    <tr>\n",
       "      <th>1</th>\n",
       "      <td>00015c83e2717b</td>\n",
       "      <td>[2e94bd7a, 3e99dee9, b5e286ea, da4f7550, c4172...</td>\n",
       "    </tr>\n",
       "    <tr>\n",
       "      <th>2</th>\n",
       "      <td>0001bdd4021779</td>\n",
       "      <td>[3fdc37be, 073782ca, 8ea7263c, 80543cd8, 38310...</td>\n",
       "    </tr>\n",
       "    <tr>\n",
       "      <th>3</th>\n",
       "      <td>0001daf4c2c76d</td>\n",
       "      <td>[97266564, a898e555, 86605076, 76cc2642, ef279...</td>\n",
       "    </tr>\n",
       "    <tr>\n",
       "      <th>4</th>\n",
       "      <td>0002115f48f982</td>\n",
       "      <td>[9ec225f0, 18281c6c, e3b6b115, 4a044c54, 365fe...</td>\n",
       "    </tr>\n",
       "  </tbody>\n",
       "</table>\n",
       "</div>"
      ],
      "text/plain": [
       "               id                                         cell_order\n",
       "0  00001756c60be8  [1862f0a6, 448eb224, 2a9e43d6, 7e2f170a, 038b7...\n",
       "1  00015c83e2717b  [2e94bd7a, 3e99dee9, b5e286ea, da4f7550, c4172...\n",
       "2  0001bdd4021779  [3fdc37be, 073782ca, 8ea7263c, 80543cd8, 38310...\n",
       "3  0001daf4c2c76d  [97266564, a898e555, 86605076, 76cc2642, ef279...\n",
       "4  0002115f48f982  [9ec225f0, 18281c6c, e3b6b115, 4a044c54, 365fe..."
      ]
     },
     "execution_count": 48,
     "metadata": {},
     "output_type": "execute_result"
    }
   ],
   "source": [
    "train_order = pd.read_csv(\"data/train_orders.csv\")\n",
    "train_order.cell_order=train_order.cell_order.str.split()\n",
    "train_order.head(5)"
   ]
  },
  {
   "cell_type": "markdown",
   "metadata": {},
   "source": [
    "## Step P1: Skim dataset and add order information"
   ]
  },
  {
   "cell_type": "code",
   "execution_count": 49,
   "metadata": {},
   "outputs": [
    {
     "name": "stdout",
     "output_type": "stream",
     "text": [
      "CPU times: user 1.94 s, sys: 107 ms, total: 2.04 s\n",
      "Wall time: 2.1 s\n"
     ]
    },
    {
     "data": {
      "text/html": [
       "<div>\n",
       "<style scoped>\n",
       "    .dataframe tbody tr th:only-of-type {\n",
       "        vertical-align: middle;\n",
       "    }\n",
       "\n",
       "    .dataframe tbody tr th {\n",
       "        vertical-align: top;\n",
       "    }\n",
       "\n",
       "    .dataframe thead th {\n",
       "        text-align: right;\n",
       "    }\n",
       "</style>\n",
       "<table border=\"1\" class=\"dataframe\">\n",
       "  <thead>\n",
       "    <tr style=\"text-align: right;\">\n",
       "      <th></th>\n",
       "      <th>cell_type</th>\n",
       "      <th>source</th>\n",
       "      <th>true_order</th>\n",
       "    </tr>\n",
       "  </thead>\n",
       "  <tbody>\n",
       "    <tr>\n",
       "      <th>5ba7a58e</th>\n",
       "      <td>markdown</td>\n",
       "      <td># Load data</td>\n",
       "      <td>1</td>\n",
       "    </tr>\n",
       "    <tr>\n",
       "      <th>4510d461</th>\n",
       "      <td>code</td>\n",
       "      <td>pd.pivot_table(train_data,index='Survived',col...</td>\n",
       "      <td>32</td>\n",
       "    </tr>\n",
       "    <tr>\n",
       "      <th>79a49773</th>\n",
       "      <td>code</td>\n",
       "      <td>train_data['cabin_adv'] = train_data.Cabin.app...</td>\n",
       "      <td>31</td>\n",
       "    </tr>\n",
       "    <tr>\n",
       "      <th>d4d9dc69</th>\n",
       "      <td>code</td>\n",
       "      <td># see sex against survival\\nsns.barplot(x='Sex...</td>\n",
       "      <td>24</td>\n",
       "    </tr>\n",
       "    <tr>\n",
       "      <th>50a23c3a</th>\n",
       "      <td>code</td>\n",
       "      <td># label encoder will be used for Embarked, nam...</td>\n",
       "      <td>41</td>\n",
       "    </tr>\n",
       "  </tbody>\n",
       "</table>\n",
       "</div>"
      ],
      "text/plain": [
       "         cell_type                                             source  \\\n",
       "5ba7a58e  markdown                                        # Load data   \n",
       "4510d461      code  pd.pivot_table(train_data,index='Survived',col...   \n",
       "79a49773      code  train_data['cabin_adv'] = train_data.Cabin.app...   \n",
       "d4d9dc69      code  # see sex against survival\\nsns.barplot(x='Sex...   \n",
       "50a23c3a      code  # label encoder will be used for Embarked, nam...   \n",
       "\n",
       "          true_order  \n",
       "5ba7a58e           1  \n",
       "4510d461          32  \n",
       "79a49773          31  \n",
       "d4d9dc69          24  \n",
       "50a23c3a          41  "
      ]
     },
     "execution_count": 49,
     "metadata": {},
     "output_type": "execute_result"
    }
   ],
   "source": [
    "%%time\n",
    "#  time: 5sec / memory: 4MB\n",
    "for index, row in train_order.iterrows():\n",
    "    if index%1000==0:\n",
    "        true_order = { h: i for i, h in enumerate(row[\"cell_order\"])}\n",
    "\n",
    "        # get dataframe\n",
    "        df = pd.read_json(f\"data/train/{row['id']}.json\")\n",
    "        df.loc[:,\"true_order\"] = df.index.map(true_order)\n",
    "        df_code = df[df.cell_type==\"code\"].copy()\n",
    "        df_md = df[df.cell_type==\"markdown\"].copy()\n",
    "        df_code.loc[:,\"true_order_code\"] = df_code[\"true_order\"].rank(method=\"min\").map(int)\n",
    "        df_md.loc[:,\"true_order_md\"] = df_md[\"true_order\"].rank(method=\"min\").map(int)\n",
    "        df_code = df_code.sample(frac=1).reset_index(drop=True)\n",
    "        #df.to_csv(f\"data/train_P1/{row['id']}.csv\")\n",
    "        #df.to_json(f\"data/train_P1/{row['id']}.json\")\n",
    "        df_code.to_csv(f\"data/train_P1_code/{row['id']}.csv\")\n",
    "        df_code.to_json(f\"data/train_P1_code/{row['id']}.json\")\n",
    "        df_md.to_csv(f\"data/train_P1_md/{row['id']}.csv\")\n",
    "        df_md.to_json(f\"data/train_P1_md/{row['id']}.json\")\n",
    "df.sample(5)\n",
    "        "
   ]
  },
  {
   "cell_type": "markdown",
   "metadata": {},
   "source": [
    "## Pipeline decorator\n",
    "\n",
    "Write a decorator that encapsulates the process of opening files, performing transformations and saving them\n",
    "This is less efficient in terms of storage, but since I am running on my laptop, this helps save CPU time - You don't need to re-run everything everytime you make a change"
   ]
  },
  {
   "cell_type": "code",
   "execution_count": 378,
   "metadata": {},
   "outputs": [],
   "source": [
    "import os\n",
    "from random import shuffle\n",
    "# this configures and returns the decorator\n",
    "def pipeline(indir, outdir=None, breakafterone = False):\n",
    "\n",
    "    # the decorator only receives the function and nothing else\n",
    "    def pipelinedecor(funct):\n",
    "\n",
    "        ## this will take the function and run it\n",
    "        def pipelineinner(df, *args, **kwargs):\n",
    "            df_ = df\n",
    "            infiles = os.listdir(indir)\n",
    "\n",
    "            for f in infiles:\n",
    "\n",
    "                if os.path.isfile(indir+f):\n",
    "                    fn_ = f.split(\".\")\n",
    "\n",
    "                    \n",
    "                    if fn_[1]==\"json\":\n",
    "                        # df is just a dummy variable \n",
    "                        # as we will give it our own input and output\n",
    "                        \n",
    "                        df = pd.read_json(indir+ f\"{fn_[0]}.json\")\n",
    "                        # main function\n",
    "  \n",
    "                        df =  funct(df, *args, **kwargs)\n",
    "\n",
    "                        if outdir and df is not None:\n",
    "                            df.to_csv(outdir+ f\"{fn_[0]}.csv\")  # at this point csv is used for human verification\n",
    "                            df.to_json(outdir+ f\"{fn_[0]}.json\")\n",
    "\n",
    "                        if breakafterone:\n",
    "                            break\n",
    "\n",
    "            return df_ # return the dummy variable unchanged\n",
    "        return pipelineinner  \n",
    "    return pipelinedecor\n",
    "    "
   ]
  },
  {
   "cell_type": "markdown",
   "metadata": {},
   "source": [
    "## Step P2: NLP preprocessing\n",
    "\n",
    "Markdown is transformed with common NLP preprocessing techniques\n",
    "\n",
    "lower case, remove html tags (as markdown is html compatible), remove non-alphabetical characters,\n",
    "remove digits\n",
    "\n",
    "The markdown is then tokenized and further words are dropped if they are stop words, is digit number (unfortunately this sometimes remove chapter number which would be useful - opportunity for feature engineering), having length more than 20 characters (usually these are hashes)\n",
    "\n",
    "Lastly the words pass through a stemmer to remove grammatical conjugations which confuses the computer"
   ]
  },
  {
   "cell_type": "code",
   "execution_count": 6,
   "metadata": {},
   "outputs": [],
   "source": [
    "import re\n",
    "import nltk\n",
    "from nltk.stem.porter import PorterStemmer\n",
    "from nltk.corpus import stopwords\n",
    "from nltk import ngrams, FreqDist\n",
    "\n",
    "extra_stopwords = [\"li\", \"br\", \"http\", \"https\", \"www\", \"com\", \"class\", \"alert\"]\n",
    "re_html = re.compile(r'<[^>]+>')\n",
    "re_char = re.compile(r\"[^a-zA-Z0-9]\")\n",
    "#print(re_html.sub(\"\",r'html_text = \"<HTML><HEAD> This is HEAD <INSIDE> The is inside tag </INSIDE></HEAD> <BODY> This is BODY </BODY></HTML>'))\n",
    "\n",
    "def preprocessing_unit(sourcetext: str):\n",
    "    words = sourcetext.lower()\n",
    "    words = re_html.sub('', words)\n",
    "    #words = re.sub(r\"[^a-zA-Z0-9]\", \" \", words)\n",
    "    words = re_char.sub(' ', words)\n",
    "    words=nltk.word_tokenize(words)\n",
    "    words=[w for w in words if w not in stopwords.words(\"english\") + extra_stopwords]\n",
    "    words = [w for w in words if not w.isdigit()]\n",
    "    words = [w for w in words if len(w)<20]\n",
    "    words = [PorterStemmer().stem(w) for w in words]\n",
    "    \n",
    "    \n",
    "    return words"
   ]
  },
  {
   "cell_type": "markdown",
   "metadata": {},
   "source": [
    "### AST Unit\n",
    "\n",
    "The AST unit generates left and right values, which is used in different ways\n",
    "\n",
    "1. we get a list of variables, which might be replaced by dummy variable for training\n",
    "2. we may build a directed graph which could help establish inheritance. These are strong features even as some authors of these notebooks are error-prone"
   ]
  },
  {
   "cell_type": "code",
   "execution_count": 7,
   "metadata": {},
   "outputs": [
    {
     "data": {
      "text/plain": [
       "(['smote', 'randomoversampler', 'matplotlib', 'x', 'pd'], ['train_df', 'seed'])"
      ]
     },
     "execution_count": 7,
     "metadata": {},
     "output_type": "execute_result"
    }
   ],
   "source": [
    "import ast\n",
    "re_nomagic = re.compile(r\"^[!%].*\\n?\", flags=re.MULTILINE) # remove ipython magic (syntax error)\n",
    "\n",
    "def ast_unit(sourcetext):\n",
    "\n",
    "    sourcetext =  re_nomagic.sub(\" \", sourcetext.lower())\n",
    "    \n",
    "    try:\n",
    "        root = ast.parse(sourcetext)\n",
    "    except SyntaxError as e: \n",
    "        # This is unavoidable as we cannot control what \n",
    "        # authors of notebook put into their coding cells\n",
    "        # and at this point AST dosn't have a good way to \n",
    "        # recover from an error\n",
    "        return ([],[])\n",
    "\n",
    "    # all use of variables\n",
    "    all_vars = {node.id for node in ast.walk(root) if isinstance(node, ast.Name)}\n",
    "    \n",
    "    # left values\n",
    "    # currently only direct assignment of simple variables are \n",
    "    assignment = {n.id                      for node in ast.walk(root) \\\n",
    "                                            if isinstance(node, ast.Assign) \\\n",
    "                                            for n in node.targets\\\n",
    "                                            if isinstance(n, ast.Name) }\n",
    "\n",
    "\n",
    "    all_imports =  {n.asname or n.name  for node in ast.walk(root) \\\n",
    "                                    if isinstance(node, (ast.Import, ast.ImportFrom)) \\\n",
    "                                    for n in node.names} \n",
    " \n",
    "    right_values = all_vars-assignment-all_imports\n",
    "    left_values = assignment | all_imports\n",
    "    return list(left_values), list(right_values)\n",
    "\n",
    "source = \"import pandas as pd \\nfrom imblearn.over_sampling import \"\\\n",
    "         \"RandomOverSampler, SMOTE \\nimport matplotlib; x = \"\\\n",
    "         \"train_df.drop(columns = \\\"target\\\", random_seed=seed)\"\n",
    " \n",
    "ast_unit(source)"
   ]
  },
  {
   "cell_type": "code",
   "execution_count": 8,
   "metadata": {},
   "outputs": [
    {
     "name": "stdout",
     "output_type": "stream",
     "text": [
      "Инициализация класса Data  ==>  ['data']\n",
      "So some people are just not paying. Let's not worry about them.  ==>  ['peopl', 'pay', 'let', 'worri']\n"
     ]
    }
   ],
   "source": [
    "testphrase = df1.iloc[-2][\"source\"]\n",
    "print(testphrase, \" ==> \", preprocessing_unit(testphrase))\n",
    "testphrase = df.iloc[-2][\"source\"]\n",
    "print(testphrase, \" ==> \", preprocessing_unit(testphrase))"
   ]
  },
  {
   "cell_type": "markdown",
   "metadata": {},
   "source": [
    "### Applying transformation\n",
    "This applies the preprocessing and AST units above"
   ]
  },
  {
   "cell_type": "code",
   "execution_count": 117,
   "metadata": {},
   "outputs": [
    {
     "name": "stdout",
     "output_type": "stream",
     "text": [
      "CPU times: user 22.1 s, sys: 1.53 s, total: 23.7 s\n",
      "Wall time: 23.9 s\n"
     ]
    }
   ],
   "source": [
    "%%time\n",
    "\n",
    "all_codetokens_in_all_nbs = []\n",
    "@pipeline(\"data/train_P1_code/\",\"data/train_P2_code/\", breakafterone=False)\n",
    "def P2_code(df, all_codetokens_in_all_nbs):\n",
    "\n",
    "    ## AST TREE\n",
    "    df[\"codetokens\"] = df[\"source\"].apply(ast_unit)\n",
    "\n",
    "    all_codetokens_in_nb = df[\"codetokens\"].apply(lambda x: x[0]+x[1]).sum()\n",
    "    df.loc[:, \"L-codetokens\"] = df.apply(lambda x: x.codetokens[0], axis =1)\n",
    "    df.loc[:, \"R-codetokens\"] = df.apply(lambda x: x.codetokens[1], axis =1)\n",
    "\n",
    "\n",
    "    ## Ordinary text analysis\n",
    "    df[\"tokens\"] = df[\"source\"] .apply(preprocessing_unit)\n",
    "    \n",
    "    all_tokens_in_nb = df[\"tokens\"].apply(lambda words: [w for w in words if w not in stopcodewords]).sum()\n",
    "    all_codetokens_in_all_nbs += all_codetokens_in_nb\n",
    "\n",
    "    return df\n",
    "\n",
    "\n",
    "# 23sec/8MB for 0.1% data\n",
    "# input/ output is just dummy variable\n",
    "_ = P2_code(_,      all_codetokens_in_all_nbs)"
   ]
  },
  {
   "cell_type": "code",
   "execution_count": 119,
   "metadata": {},
   "outputs": [
    {
     "name": "stdout",
     "output_type": "stream",
     "text": [
      "CPU times: user 6.62 s, sys: 537 ms, total: 7.16 s\n",
      "Wall time: 8.06 s\n"
     ]
    }
   ],
   "source": [
    "%%time\n",
    "all_tokens_in_all_nbs = []\n",
    "@pipeline(\"data/train_P1_md/\",\"data/train_P2_md/\", breakafterone=False)\n",
    "def P2_md(df, all_tokens_in_all_nbs):\n",
    "    df[\"tokens\"] = df[\"source\"].apply(preprocessing_unit)\n",
    "    \n",
    "    all_tokens_in_nb = df.tokens.apply(lambda x: \" \".join(x))\n",
    "    all_tokens_in_all_nbs += all_tokens_in_nb.tolist()\n",
    "    return df\n",
    "\n",
    "#8sec/8MB for 0.1% data\n",
    "# input/ output is just dummy variable\n",
    "_ = P2_md(\"dummy\",  all_tokens_in_all_nbs) "
   ]
  },
  {
   "cell_type": "code",
   "execution_count": 106,
   "metadata": {},
   "outputs": [
    {
     "name": "stdout",
     "output_type": "stream",
     "text": [
      "[('', 52), ('tabl content', 23), ('featur engin', 10), ('model', 10), ('import librari', 8), ('predict', 7), ('load data', 7), ('train model', 6), ('import data', 6), ('exploratori data analysi', 6), ('preprocess', 6), ('train', 6), ('conclus', 5), ('miss valu', 4), ('decis tree', 4), ('random forest', 4), ('eda', 4), ('prepar data', 4), ('question', 4), ('featur import', 4), ('correl', 4), ('load', 3), ('scatter plot', 3), ('import modul', 3), ('util function', 3), ('model evalu', 3), ('load dataset', 3), ('data', 3), ('import packag', 3), ('logist regress', 3)]\n"
     ]
    }
   ],
   "source": [
    "print(FreqDist(all_tokens_in_all_nbs).most_common(30))"
   ]
  },
  {
   "cell_type": "code",
   "execution_count": 55,
   "metadata": {},
   "outputs": [],
   "source": [
    "all_counts = dict()\n",
    "for size in 1, 2, 3, 4, 5:\n",
    "    all_counts[size] = FreqDist(ngrams(all_tokens_in_all_nbs, size))\n",
    "# No Ngrams for code\n",
    "all_code_counts = FreqDist(all_codetokens_in_all_nbs)"
   ]
  },
  {
   "cell_type": "markdown",
   "metadata": {},
   "source": [
    "## P2A: Plotting\n",
    "\n",
    "Now checking the overall frequecy of words"
   ]
  },
  {
   "cell_type": "code",
   "execution_count": 56,
   "metadata": {},
   "outputs": [
    {
     "data": {
      "image/png": "[encoded data removed]",
      "text/plain": [
       "<Figure size 432x288 with 1 Axes>"
      ]
     },
     "metadata": {
      "needs_background": "light"
     },
     "output_type": "display_data"
    }
   ],
   "source": [
    "ax = all_counts[1].plot(30)"
   ]
  },
  {
   "cell_type": "code",
   "execution_count": 57,
   "metadata": {},
   "outputs": [
    {
     "data": {
      "text/plain": [
       "[(('data',), 816),\n",
       " (('use',), 545),\n",
       " (('model',), 492),\n",
       " (('featur',), 491),\n",
       " (('valu',), 379),\n",
       " (('train',), 300),\n",
       " (('dataset',), 258),\n",
       " (('predict',), 244),\n",
       " (('plot',), 226),\n",
       " (('test',), 225)]"
      ]
     },
     "execution_count": 57,
     "metadata": {},
     "output_type": "execute_result"
    }
   ],
   "source": [
    "all_counts[1].most_common(10)"
   ]
  },
  {
   "cell_type": "code",
   "execution_count": 58,
   "metadata": {},
   "outputs": [
    {
     "data": {
      "image/png": "[encoded data removed]",
      "text/plain": [
       "<Figure size 432x288 with 1 Axes>"
      ]
     },
     "metadata": {
      "needs_background": "light"
     },
     "output_type": "display_data"
    }
   ],
   "source": [
    "#print( all_counts[1].most_common(30))\n",
    "log_rvsNr = [(key,value) for((key,), value) in all_counts[1].most_common(200) ]\n",
    "log_rvsNr = list(zip(*log_rvsNr))\n",
    "\n",
    "# plot the graph of log(r) vs log(Nr)\n",
    "plt.semilogy(range(len(log_rvsNr[0])), log_rvsNr[1], 'r.')\n",
    "plt.xlabel('r')\n",
    "plt.ylabel('log(Nr)')\n",
    "#plt.set_xticks(range(len(log_rvsNr[0])))\n",
    "#plt.set_xticklabels(log_rvsNr[0])\n",
    "plt.title('Semilog distribution of word frequency')\n",
    "plt.show()"
   ]
  },
  {
   "cell_type": "code",
   "execution_count": 59,
   "metadata": {},
   "outputs": [
    {
     "name": "stdout",
     "output_type": "stream",
     "text": [
      "data 816\n",
      "use 545\n",
      "model 492\n",
      "featur 491\n",
      "valu 379\n",
      "train 300\n",
      "dataset 258\n",
      "predict 244\n",
      "plot 226\n",
      "test 225\n",
      "time 196\n",
      "column 179\n",
      "let 170\n",
      "number 165\n",
      "see 164\n",
      "correl 158\n",
      "analysi 158\n",
      "set 152\n",
      "import 146\n",
      "learn 144\n",
      "variabl 128\n",
      "creat 128\n",
      "mean 119\n",
      "differ 117\n",
      "check 105\n"
     ]
    }
   ],
   "source": [
    "for ng, ngcount in all_counts[1].most_common(25):\n",
    "    print(\" \".join(ng), ngcount)"
   ]
  },
  {
   "cell_type": "code",
   "execution_count": 60,
   "metadata": {},
   "outputs": [
    {
     "data": {
      "image/png": "[encoded data removed]",
      "text/plain": [
       "<Figure size 432x288 with 1 Axes>"
      ]
     },
     "metadata": {
      "needs_background": "light"
     },
     "output_type": "display_data"
    },
    {
     "data": {
      "text/plain": [
       "<AxesSubplot:xlabel='Samples', ylabel='Counts'>"
      ]
     },
     "execution_count": 60,
     "metadata": {},
     "output_type": "execute_result"
    }
   ],
   "source": [
    "all_counts[2].plot(30)"
   ]
  },
  {
   "cell_type": "code",
   "execution_count": 61,
   "metadata": {},
   "outputs": [
    {
     "name": "stdout",
     "output_type": "stream",
     "text": [
      "miss valu 55\n",
      "train test 52\n",
      "random forest 52\n",
      "time seri 50\n",
      "data analysi 50\n",
      "test set 49\n",
      "machin learn 42\n",
      "featur select 37\n",
      "train model 35\n",
      "train data 35\n",
      "exploratori data analysi 27\n",
      "date block num 23\n",
      "median hous valu 13\n",
      "random forest classifi 13\n",
      "one hot encod 12\n",
      "target mean date 11\n",
      "mean date block 11\n",
      "train test set 10\n",
      "machin learn model 10\n",
      "item cnt day 10\n"
     ]
    }
   ],
   "source": [
    "for size in 2,3:\n",
    "    for ng, ngcount in all_counts[size].most_common(10):\n",
    "        print(\" \".join(ng), ngcount)"
   ]
  },
  {
   "cell_type": "code",
   "execution_count": 62,
   "metadata": {},
   "outputs": [
    {
     "data": {
      "image/png": "[encoded data removed]",
      "text/plain": [
       "<Figure size 432x288 with 1 Axes>"
      ]
     },
     "metadata": {
      "needs_background": "light"
     },
     "output_type": "display_data"
    },
    {
     "data": {
      "text/plain": [
       "<AxesSubplot:xlabel='Samples', ylabel='Counts'>"
      ]
     },
     "execution_count": 62,
     "metadata": {},
     "output_type": "execute_result"
    }
   ],
   "source": [
    "all_code_counts.plot(30)"
   ]
  },
  {
   "cell_type": "code",
   "execution_count": 63,
   "metadata": {},
   "outputs": [
    {
     "name": "stdout",
     "output_type": "stream",
     "text": [
      "plt 742\n",
      "print 674\n",
      "pd 654\n",
      "true 570\n",
      "np 532\n",
      "df 514\n",
      "sns 470\n",
      "x_train 326\n",
      "x 309\n",
      "train 296\n",
      "false 291\n",
      "y_train 287\n",
      "len 277\n",
      "x_test 252\n",
      "y_test 228\n",
      "data 226\n",
      "i 218\n",
      "model 217\n",
      "range 213\n",
      "fig 181\n",
      "y 180\n",
      "df_train 177\n",
      "ax 173\n",
      "train_df 154\n",
      "test 149\n",
      "str 140\n",
      "list 137\n",
      "os 106\n",
      "train_test_split 103\n",
      "int 98\n",
      "y_pred 98\n",
      "f 97\n",
      "df_test 83\n",
      "accuracy_score 74\n",
      "_ 70\n",
      "none 69\n",
      "confusion_matrix 63\n",
      "train_data 63\n",
      "enumerate 62\n",
      "dict 62\n",
      "tf 60\n",
      "col 54\n",
      "round 54\n",
      "randomforestclassifier 54\n",
      "torch 54\n",
      "filename 52\n",
      "features 50\n",
      "df_fe 50\n",
      "px 49\n",
      "k 48\n",
      "test_df 48\n",
      "logisticregression 47\n",
      "filenames 45\n",
      "dirname 45\n",
      "decisiontreeclassifier 45\n",
      "dataset 45\n",
      "datetime 45\n",
      "batch_size 44\n",
      "df_house 44\n",
      "classification_report 42\n",
      "warnings 42\n",
      "mean_squared_error 40\n",
      "standardscaler 40\n",
      "out 40\n",
      "epochs 39\n",
      "tqdm 39\n",
      "self 39\n",
      "cross_val_score 39\n",
      "lr 38\n",
      "go 38\n",
      "gridsearchcv 38\n",
      "y_val 38\n",
      "history 37\n",
      "kneighborsclassifier 37\n",
      "results 37\n",
      "train_new 37\n",
      "zip 36\n",
      "c 36\n",
      "tweets 36\n",
      "svc 35\n",
      "p 34\n",
      "row 33\n",
      "metrics 33\n",
      "dense 32\n",
      "float 32\n",
      "df_all 32\n",
      "n 31\n",
      "time 31\n",
      "nn 31\n",
      "car 31\n",
      "linearregression 30\n",
      "cols 30\n",
      "clf 30\n",
      "set 30\n",
      "mcr 30\n",
      "sequential 29\n",
      "kfold 29\n",
      "d 29\n",
      "adata 29\n",
      "a 28\n",
      "path 28\n",
      "accuracy 28\n",
      "v 28\n",
      "sc 28\n",
      "roc_auc_score 27\n",
      "text 27\n",
      "f1_score 27\n",
      "bookings 27\n",
      "labels 26\n",
      "date 26\n",
      "x_val 26\n",
      "lgb 26\n",
      "seliga 26\n",
      "temp 25\n",
      "g 25\n",
      "predictions 25\n",
      "pred 25\n",
      "xgbclassifier 25\n",
      "submission 25\n",
      "score 25\n",
      "word 25\n",
      "df_confirmed 25\n",
      "gc 24\n",
      "idx 24\n",
      "random 23\n",
      "device 23\n",
      "models 23\n",
      "scaler 22\n",
      "max 22\n",
      "j 22\n",
      "display 22\n",
      "app_train 22\n",
      "xgb 21\n",
      "cv_results 21\n",
      "optimizer 21\n",
      "loss 21\n",
      "preds 21\n",
      "train_features 21\n",
      "knn 21\n",
      "adam 20\n",
      "math 20\n",
      "w 20\n",
      "onehotencoder 20\n",
      "df_deaths 20\n",
      "iris_ds 20\n",
      "t 19\n",
      "dist_data 19\n",
      "earlystopping 19\n",
      "labelencoder 19\n",
      "gradientboostingclassifier 19\n",
      "params 19\n",
      "super 19\n",
      "learn 19\n",
      "opts 19\n",
      "hv 19\n",
      "country 19\n",
      "sorted 19\n",
      "ctrain 19\n",
      "pipeline 18\n",
      "seed 18\n",
      "cm 18\n",
      "image 18\n",
      "test_data 18\n",
      "train_labels 18\n",
      "dropout 17\n",
      "name 17\n",
      "keras 17\n",
      "stratifiedkfold 17\n",
      "hyperparameters 17\n",
      "gaussiannb 17\n",
      "minmaxscaler 16\n",
      "sum 16\n",
      "values 16\n",
      "x_valid 16\n",
      "dataloader 16\n",
      "y_true 16\n",
      "label 16\n",
      "re 16\n",
      "randomforestregressor 16\n",
      "color 16\n",
      "test_features 16\n",
      "param_grid 16\n",
      "exams 16\n",
      "r2_score 15\n",
      "total 15\n",
      "ax1 15\n",
      "y_valid 15\n",
      "auc 15\n",
      "train_clean 15\n",
      "counter 15\n",
      "adfuller 15\n",
      "mean_absolute_error 15\n",
      "tokenizer 15\n",
      "btc 15\n",
      "btc_month 15\n",
      "s 14\n",
      "input 14\n",
      "stats 14\n",
      "grid 14\n",
      "abs 14\n"
     ]
    }
   ],
   "source": [
    "for ng, ngcount in all_code_counts.most_common(200):\n",
    "    print(ng, ngcount)"
   ]
  },
  {
   "cell_type": "markdown",
   "metadata": {},
   "source": [
    "## Step P3: Vectorizing\n",
    "\n",
    "Several options: one-hot encoding, TF-IDF (document defined as cells, as that is the unit we want to measure the )"
   ]
  },
  {
   "cell_type": "markdown",
   "metadata": {},
   "source": [
    "### An array of all sentences/ lines of code"
   ]
  },
  {
   "cell_type": "code",
   "execution_count": 125,
   "metadata": {},
   "outputs": [
    {
     "name": "stderr",
     "output_type": "stream",
     "text": [
      "<timed exec>:4: FutureWarning: The default dtype for empty Series will be 'object' instead of 'float64' in a future version. Specify a dtype explicitly to silence this warning.\n"
     ]
    },
    {
     "name": "stdout",
     "output_type": "stream",
     "text": [
      "CPU times: user 488 ms, sys: 12.4 ms, total: 500 ms\n",
      "Wall time: 515 ms\n"
     ]
    }
   ],
   "source": [
    "%%time\n",
    "## This creates list of sentences for all notebooks so as to be fed into scikit vectorizers\n",
    "\n",
    "#just a trick to make sure the pipeline produce side-effects\n",
    "sentences_in_all_nbs = [pd.Series([])]\n",
    "\n",
    "@pipeline(\"data/train_P2_md/\", None)\n",
    "def P3A_md(df, sentences_in_all_nbs):\n",
    "\n",
    "    sentences = df.loc[:, \"tokens\"].map(lambda x: \" \".join(x))\n",
    "    sentences_in_all_nbs[0] = pd.concat([sentences_in_all_nbs[0], sentences])\n",
    "    return df\n",
    "\n",
    "# 0.5 sec for 0.1% data\n",
    "_ = P3A_md(\"dummy\", sentences_in_all_nbs) \n",
    "# input/ output is just dummy variable\n",
    "sentences_in_all_nbs=sentences_in_all_nbs[0]"
   ]
  },
  {
   "cell_type": "code",
   "execution_count": 126,
   "metadata": {},
   "outputs": [
    {
     "name": "stderr",
     "output_type": "stream",
     "text": [
      "<timed exec>:1: FutureWarning: The default dtype for empty Series will be 'object' instead of 'float64' in a future version. Specify a dtype explicitly to silence this warning.\n"
     ]
    },
    {
     "name": "stdout",
     "output_type": "stream",
     "text": [
      "CPU times: user 687 ms, sys: 24.1 ms, total: 712 ms\n",
      "Wall time: 1.08 s\n"
     ]
    }
   ],
   "source": [
    "%%time\n",
    "codesentences_in_all_nbs = [pd.Series([])]\n",
    "\n",
    "@pipeline(\"data/train_P2_code/\", None)\n",
    "def P3A_code(df, codesentences_in_all_nbs):\n",
    "    codesentences = df.loc[df.codetokens.values != None, \"codetokens\"]\\\n",
    "                                .map(lambda x: \" \".join(x[0]+x[1]))\n",
    "    codesentences_in_all_nbs[0] = pd.concat([codesentences_in_all_nbs[0], codesentences])\n",
    "    return df\n",
    "\n",
    "# 1 sec for 0.1% data\n",
    "_ = P3A_code(\"dummy\", codesentences_in_all_nbs) \n",
    "# input/ output is just dummy variable\n",
    "codesentences_in_all_nbs = codesentences_in_all_nbs[0]"
   ]
  },
  {
   "cell_type": "code",
   "execution_count": 127,
   "metadata": {},
   "outputs": [
    {
     "data": {
      "text/plain": [
       "1bf39149    order work kera data need reshap treat variabl...\n",
       "7dadab4a                                       import librari\n",
       "56eb0d3e    let plot temperatur two year time frame see cy...\n",
       "ab7ca7ea    need appli model get predict undo logarithm tr...\n",
       "584a0ad5                                            introduct\n",
       "                                  ...                        \n",
       "211faf9f                  model build inceptionresnetv2 model\n",
       "a9cc8670                                         declar class\n",
       "2d555f1d    thank read kernal till end let know improv com...\n",
       "43c79d7b                                           import lib\n",
       "7d1cce52                               date preprocess kernal\n",
       "Length: 2509, dtype: object"
      ]
     },
     "execution_count": 127,
     "metadata": {},
     "output_type": "execute_result"
    }
   ],
   "source": [
    "sentences_in_all_nbs"
   ]
  },
  {
   "cell_type": "markdown",
   "metadata": {},
   "source": [
    "## TF-IDF Vectorizer\n",
    "\n",
    "Two different vectorizers are used for code and markdown respectively. As code tokens are more repetitive, one-hot coding is used. On the other hand TF-IDF is used for markdown. Note that the unit of document is each markdown cell, as that is the unit we need to measure against."
   ]
  },
  {
   "cell_type": "code",
   "execution_count": 128,
   "metadata": {},
   "outputs": [
    {
     "name": "stdout",
     "output_type": "stream",
     "text": [
      "length of TF-IDF vector 217\n"
     ]
    }
   ],
   "source": [
    "from sklearn.feature_extraction.text import TfidfVectorizer, CountVectorizer, TfidfVectorizer\n",
    "\n",
    "# Now setup TF-IDF vectorizor \n",
    "\n",
    "tfidf_vectorizer = TfidfVectorizer(min_df=0.01)\n",
    "tfidf_vectorizer.fit(sentences_in_all_nbs)\n",
    "\n",
    "print(\"length of TF-IDF vector\", len(tfidf_vectorizer.get_feature_names_out()))\n",
    "df_idf = pd.DataFrame(tfidf_vectorizer.idf_, index=tfidf_vectorizer.get_feature_names_out(),columns=[\"idf_weights\"]) \n",
    "#df_idf.sort_values(by=['idf_weights'])\n",
    "#print(df_idf.sort_values(by=['idf_weights']))\n",
    "\n",
    "# try transforming one line\n",
    "vectors_tfidf = tfidf_vectorizer.transform(sentences_in_all_nbs)\n"
   ]
  },
  {
   "cell_type": "code",
   "execution_count": 129,
   "metadata": {},
   "outputs": [
    {
     "name": "stdout",
     "output_type": "stream",
     "text": [
      "length of code one-hot vector 250\n"
     ]
    }
   ],
   "source": [
    "# One hot vectorizor for code (as they are much more repetitive)\n",
    "vectorizer_code = CountVectorizer(max_features = 250)\n",
    "vectors_code = vectorizer_code.fit_transform(codesentences_in_all_nbs)\n",
    "print(\"length of code one-hot vector\", len(vectorizer_code.get_feature_names_out()))"
   ]
  },
  {
   "cell_type": "code",
   "execution_count": 131,
   "metadata": {},
   "outputs": [
    {
     "data": {
      "text/html": [
       "<div>\n",
       "<style scoped>\n",
       "    .dataframe tbody tr th:only-of-type {\n",
       "        vertical-align: middle;\n",
       "    }\n",
       "\n",
       "    .dataframe tbody tr th {\n",
       "        vertical-align: top;\n",
       "    }\n",
       "\n",
       "    .dataframe thead th {\n",
       "        text-align: right;\n",
       "    }\n",
       "</style>\n",
       "<table border=\"1\" class=\"dataframe\">\n",
       "  <thead>\n",
       "    <tr style=\"text-align: right;\">\n",
       "      <th></th>\n",
       "      <th>TF-IDF</th>\n",
       "    </tr>\n",
       "  </thead>\n",
       "  <tbody>\n",
       "    <tr>\n",
       "      <th>variabl</th>\n",
       "      <td>0.568352</td>\n",
       "    </tr>\n",
       "    <tr>\n",
       "      <th>need</th>\n",
       "      <td>0.323809</td>\n",
       "    </tr>\n",
       "    <tr>\n",
       "      <th>sinc</th>\n",
       "      <td>0.271570</td>\n",
       "    </tr>\n",
       "    <tr>\n",
       "      <th>model</th>\n",
       "      <td>0.218542</td>\n",
       "    </tr>\n",
       "    <tr>\n",
       "      <th>could</th>\n",
       "      <td>0.198576</td>\n",
       "    </tr>\n",
       "    <tr>\n",
       "      <th>...</th>\n",
       "      <td>...</td>\n",
       "    </tr>\n",
       "    <tr>\n",
       "      <th>hous</th>\n",
       "      <td>0.000000</td>\n",
       "    </tr>\n",
       "    <tr>\n",
       "      <th>hyperparamet</th>\n",
       "      <td>0.000000</td>\n",
       "    </tr>\n",
       "    <tr>\n",
       "      <th>id</th>\n",
       "      <td>0.000000</td>\n",
       "    </tr>\n",
       "    <tr>\n",
       "      <th>imag</th>\n",
       "      <td>0.000000</td>\n",
       "    </tr>\n",
       "    <tr>\n",
       "      <th>year</th>\n",
       "      <td>0.000000</td>\n",
       "    </tr>\n",
       "  </tbody>\n",
       "</table>\n",
       "<p>217 rows × 1 columns</p>\n",
       "</div>"
      ],
      "text/plain": [
       "                TF-IDF\n",
       "variabl       0.568352\n",
       "need          0.323809\n",
       "sinc          0.271570\n",
       "model         0.218542\n",
       "could         0.198576\n",
       "...                ...\n",
       "hous          0.000000\n",
       "hyperparamet  0.000000\n",
       "id            0.000000\n",
       "imag          0.000000\n",
       "year          0.000000\n",
       "\n",
       "[217 rows x 1 columns]"
      ]
     },
     "execution_count": 131,
     "metadata": {},
     "output_type": "execute_result"
    }
   ],
   "source": [
    "df = pd.DataFrame(vectors_tfidf[0].T.todense(),\n",
    "                    index=tfidf_vectorizer.get_feature_names_out(),\n",
    "                    columns=[\"TF-IDF\"]) \n",
    "df.sort_values(by=[\"TF-IDF\"],ascending=False)"
   ]
  },
  {
   "cell_type": "code",
   "execution_count": 150,
   "metadata": {},
   "outputs": [
    {
     "name": "stdout",
     "output_type": "stream",
     "text": [
      "How full is the sparse array? 0.01222052205220522\n"
     ]
    }
   ],
   "source": [
    "print(\"How full is the sparse array?\",\n",
    "      np.count_nonzero(vectors_code.toarray())/vectors_code.shape[0]/vectors_code.shape[1])"
   ]
  },
  {
   "cell_type": "code",
   "execution_count": 145,
   "metadata": {},
   "outputs": [
    {
     "data": {
      "text/plain": [
       "<4444x250 sparse matrix of type '<class 'numpy.int64'>'\n",
       "\twith 13577 stored elements in Compressed Sparse Row format>"
      ]
     },
     "execution_count": 145,
     "metadata": {},
     "output_type": "execute_result"
    }
   ],
   "source": [
    "vectors_code "
   ]
  },
  {
   "cell_type": "code",
   "execution_count": 146,
   "metadata": {},
   "outputs": [
    {
     "data": {
      "text/plain": [
       "<2509x217 sparse matrix of type '<class 'numpy.float64'>'\n",
       "\twith 12206 stored elements in Compressed Sparse Row format>"
      ]
     },
     "execution_count": 146,
     "metadata": {},
     "output_type": "execute_result"
    }
   ],
   "source": [
    "vectors_tfidf"
   ]
  },
  {
   "cell_type": "markdown",
   "metadata": {},
   "source": [
    "### processing"
   ]
  },
  {
   "cell_type": "code",
   "execution_count": 190,
   "metadata": {},
   "outputs": [
    {
     "data": {
      "text/plain": [
       "(4444, 500)"
      ]
     },
     "execution_count": 190,
     "metadata": {},
     "output_type": "execute_result"
    }
   ],
   "source": [
    "# apped two arrays, we now have double the features\n",
    "np.append(vectors_code.toarray(),vectors_code.toarray(),axis=1).shape"
   ]
  },
  {
   "cell_type": "code",
   "execution_count": 193,
   "metadata": {},
   "outputs": [],
   "source": [
    "df = pd.read_json(\"data/train_P2_code/0b1de3720f4773.json\")\n",
    "#df"
   ]
  },
  {
   "cell_type": "code",
   "execution_count": 264,
   "metadata": {},
   "outputs": [],
   "source": [
    "def add_features(df):\n",
    "    length = df.tokens.map(len)\n",
    "    df[\"length\"] = length\n",
    "add_features(df)\n",
    "#df"
   ]
  },
  {
   "cell_type": "code",
   "execution_count": 183,
   "metadata": {},
   "outputs": [
    {
     "name": "stdout",
     "output_type": "stream",
     "text": [
      "CPU times: user 842 ms, sys: 41.7 ms, total: 884 ms\n",
      "Wall time: 921 ms\n"
     ]
    }
   ],
   "source": [
    "%%time\n",
    "\n",
    "@pipeline(\"data/train_P2_code/\", \"data/train_P3_code/\", breakafterone=False)\n",
    "def P3_code(df):\n",
    "\n",
    "    # for adding features\n",
    "    #additional_features = add_features(df)\n",
    "\n",
    "    vector_code = vectorizer_code.transform(df.tokens.apply(lambda l: \" \".join(l)))\n",
    "    array_code = vector_code.toarray()\n",
    "    df[\"encoding\"] = array_code.tolist() #+ additional_features\n",
    "    return df\n",
    "\n",
    "#df = pd.read_json(\"data/train_P2_code/0b1de3720f4773.json\")\n",
    "#df = P3_code(df) #FIXME test\n",
    "\n",
    "# 0.9 sec for 0.1% data\n",
    "_ = P3_code(\"dummy\") "
   ]
  },
  {
   "cell_type": "code",
   "execution_count": 201,
   "metadata": {},
   "outputs": [
    {
     "name": "stdout",
     "output_type": "stream",
     "text": [
      "CPU times: user 837 ms, sys: 55.7 ms, total: 893 ms\n",
      "Wall time: 935 ms\n"
     ]
    }
   ],
   "source": [
    "%%time\n",
    "\n",
    "@pipeline(\"data/train_P2_md/\", \"data/train_P3_md/\", breakafterone=False)\n",
    "def P3_md(df):\n",
    "\n",
    "    # for adding features\n",
    "    #additional_features = add_features(df)\n",
    "\n",
    "    vector_md = tfidf_vectorizer.transform(df.tokens.apply(lambda l: \" \".join(l)))\n",
    "    array_md = vector_md.toarray()\n",
    "    df[\"encoding\"] = array_md.tolist() #+ additional_features\n",
    "    return df\n",
    "\n",
    "#df = pd.read_json(\"data/train_P2_md/0b1de3720f4773.json\")\n",
    "#df = P3_md(df) #FIXME test\n",
    "\n",
    "# 0.9 sec for 0.1% data\n",
    "_ = P3_md(\"dummy\") \n",
    "#df"
   ]
  },
  {
   "cell_type": "markdown",
   "metadata": {},
   "source": [
    " ## Step P4: create pairings\n",
    "\n",
    "We must now pair entries from the same notebook, and add all possible combinations\n",
    "\n",
    "We also add final set of features that comes out of comparison of any two entries\n",
    "\n",
    "Ancestry of python variables are now determined solely by comparing L- and R- values\n",
    "\n",
    "This is both memory and CPU intensive. At current rate, we need 1TB of space if we \n",
    "\n",
    "were to process the entire dataset. Ideally we want to optimize this further \n"
   ]
  },
  {
   "cell_type": "code",
   "execution_count": null,
   "metadata": {},
   "outputs": [],
   "source": [
    "def ancestry(x):\n",
    "    ## determine ancestry\n",
    "    # a variable must first appear as an L value before R value\n",
    "    # therefore L value should have precedence\n",
    "    # so if the L value in A appears in B, it suggests A is first \n",
    "    # (although there is a chance that this is a typo)\n",
    "    # This implementation counts the number of times this occur\n",
    "    x[\"A_first\"] = sum([tok in x[\"R-codeB\"] for tok in x[\"L-codeA\"]])\n",
    "    x[\"B_first\"] = sum([tok in x[\"R-codeA\"] for tok in x[\"L-codeB\"]])\n",
    "    return array('f',[x[\"A_first\"], x[\"B_first\"]])"
   ]
  },
  {
   "cell_type": "code",
   "execution_count": 339,
   "metadata": {},
   "outputs": [],
   "source": [
    "from scipy.sparse import csr_matrix, coo_matrix, hstack, vstack, save_npz\n",
    "from functools import reduce"
   ]
  },
  {
   "cell_type": "code",
   "execution_count": 406,
   "metadata": {},
   "outputs": [
    {
     "name": "stdout",
     "output_type": "stream",
     "text": [
      "CPU times: user 2min 33s, sys: 1.76 s, total: 2min 34s\n",
      "Wall time: 2min 36s\n"
     ]
    }
   ],
   "source": [
    "%%time\n",
    "dataset = {\"x\":[], \"y\": []}\n",
    "#@pipeline(\"data/train_P3_code/\", \"data/train_P4_code/\", breakafterone=False)\n",
    "@pipeline(\"data/train_P3_code/\", None, breakafterone=False)\n",
    "def P4_code(df):\n",
    "    if df.shape[0]==1:\n",
    "        return None\n",
    "        \n",
    "    a, b = map(list, zip(*combinations(df.index, 2)))\n",
    "\n",
    "    a1 = a+b\n",
    "    b1 = b+a\n",
    "    df_new = pd.DataFrame(data={\"encodingA\":df.loc[a1,\"encoding\"].reset_index(drop=True),\n",
    "                                \"encodingB\":df.loc[b1,\"encoding\"].reset_index(drop=True),\n",
    "                                \"L-codeA\":df.loc[a1,\"L-codetokens\"].reset_index(drop=True),\n",
    "                                \"R-codeA\":df.loc[a1,\"R-codetokens\"].reset_index(drop=True),\n",
    "                                \"L-codeB\":df.loc[b1,\"L-codetokens\"].reset_index(drop=True),\n",
    "                                \"R-codeB\":df.loc[b1,\"R-codetokens\"].reset_index(drop=True),\n",
    "                                \"true_order_codeA\":df.loc[a1,\"true_order_code\"].reset_index(drop=True),\n",
    "                                \"true_order_codeB\":df.loc[b1,\"true_order_code\"].reset_index(drop=True),})\n",
    "\n",
    "    df_new.loc[:,\"combined_encoding\"] = df_new.apply(lambda x: np.append(x.encodingA, x.encodingB), axis=1)\n",
    "    dataset[\"x\"].extend( df_new.loc[:,\"combined_encoding\"].tolist() )\n",
    "\n",
    "\n",
    "    ## adding ancestry information\n",
    "    df_new.loc[:,\"combined_encoding\"] = df_new.apply( \\\n",
    "                                        lambda x: np.append(x[\"combined_encoding\"], ancestry(x)),axis=1)\n",
    "    df_new[\"result\"] = df_new[\"true_order_codeA\"]<df_new[\"true_order_codeB\"] # is A smaller than B\n",
    "    dataset[\"y\"].extend(df_new[\"result\"].to_list())\n",
    "\n",
    "    df_new = df_new.drop([   \"encodingA\",    \"encodingB\",\n",
    "                        \"L-codeA\",      \"L-codeB\", \n",
    "                        \"R-codeB\",      \"R-codeA\",\n",
    "                        \"true_order_codeA\",   \"true_order_codeB\"], axis=1)\n",
    "    return df_new\n",
    "\n",
    "# 15 mins/ 0.8GB for 0.1% data\n",
    "# 2mins without writing json\n",
    "_ = P4_code(\"dummy\") \n",
    "\n",
    "dataset[\"x\"] = csr_matrix(dataset[\"x\"])\n",
    "dataset[\"y\"] = np.array(dataset[\"y\"])\n",
    "np.save(\"data/train_P4_code.npy\",  dataset[\"y\"])\n",
    "#yy = np.load(\"data/train_P4_code.npy\")\n",
    "save_npz(\"data/train_P4_code_X.npz\", dataset[\"x\"])"
   ]
  },
  {
   "cell_type": "code",
   "execution_count": 403,
   "metadata": {},
   "outputs": [
    {
     "data": {
      "text/plain": [
       "<2x3 sparse matrix of type '<class 'numpy.int64'>'\n",
       "\twith 6 stored elements in Compressed Sparse Row format>"
      ]
     },
     "execution_count": 403,
     "metadata": {},
     "output_type": "execute_result"
    }
   ],
   "source": [
    "\n",
    "\n",
    "\n",
    "A = csr_matrix([[1, 2], [3, 4]])\n",
    "B = csr_matrix([[5], [6]])\n",
    "hstack([A,B])"
   ]
  },
  {
   "cell_type": "code",
   "execution_count": 405,
   "metadata": {},
   "outputs": [
    {
     "name": "stdout",
     "output_type": "stream",
     "text": [
      "CPU times: user 5.15 s, sys: 317 ms, total: 5.46 s\n",
      "Wall time: 5.9 s\n"
     ]
    }
   ],
   "source": [
    "%%time\n",
    "\n",
    "\n",
    "df = pd.read_json(\"data/train_P3_md/ed44e2d85b6003.json\")\n",
    "dataset = {\"x\":[], \"y\": []}\n",
    "#@pipeline(\"data/train_P3_md/\", \"data/train_P4_md/\", breakafterone=True)\n",
    "@pipeline(\"data/train_P3_md/\",  None, breakafterone=False) \n",
    "def P4_md(df, dataset):\n",
    "\n",
    "    if df.shape[0]==1:\n",
    "        return None\n",
    "\n",
    "    a, b = map(list, zip(*combinations(df.index, 2)))\n",
    "\n",
    "    a1 = a+b\n",
    "    b1 = b+a\n",
    "    df_new = pd.DataFrame( data={\"encodingA\":df.loc[a1,\"encoding\"].reset_index(drop=True),\n",
    "                                \"encodingB\":df.loc[b1,\"encoding\"].reset_index(drop=True),\n",
    "                                \"true_order_mdA\":df.loc[a1,\"true_order_md\"].reset_index(drop=True),\n",
    "                                \"true_order_mdB\":df.loc[b1,\"true_order_md\"].reset_index(drop=True),} )\n",
    "\n",
    "    df_new.loc[:,\"combined_encoding\"] = df_new.apply(lambda x: np.append(x.encodingA, x.encodingB), axis=1)\n",
    "\n",
    "    dataset[\"x\"].extend( df_new.loc[:,\"combined_encoding\"].tolist() )\n",
    "\n",
    "\n",
    "\n",
    "    df_new[\"result\"] = df_new[\"true_order_mdA\"]<df_new[\"true_order_mdB\"] # is A smaller than B\n",
    "    dataset[\"y\"].extend(df_new[\"result\"].to_list())\n",
    "\n",
    "    df_new = df_new.drop([  \"encodingA\",    \"encodingB\",\n",
    "                            \"true_order_mdA\",   \"true_order_mdB\"], axis=1)\n",
    "    return df_new\n",
    "\n",
    "# 8 mins/ 500MB for 0.1% data\n",
    "# 6 sec if no writing to disk\n",
    "_ = P4_md(\"dummy\", dataset) \n",
    "\n",
    "dataset[\"x\"] = csr_matrix(dataset[\"x\"])\n",
    "dataset[\"y\"] = np.array(dataset[\"y\"])\n",
    "np.save(\"data/train_P4_md.npy\",  dataset[\"y\"])\n",
    "#yy = np.load(\"data/train_P4_md.npy\")\n",
    "save_npz(\"data/train_P4_md_X.npz\", dataset[\"x\"])"
   ]
  },
  {
   "cell_type": "markdown",
   "metadata": {},
   "source": [
    "## References\n",
    "\n",
    "Berkeley Stat 157: Word2vec demonstration\n",
    "\n",
    "https://nbviewer.org/url/courses.d2l.ai/berkeley-stat-157/slides/4_18/word2vec-gluon.ipynb\n",
    "\n",
    "Applied Text Analysis with Python by Benjamin Bengfort, Rebecca Bilbro, Tony Ojeda\n",
    "\n",
    "Chapter 4. Text Vectorization and Transformation Pipelines\n",
    "\n",
    "https://www.oreilly.com/library/view/applied-text-analysis/9781491963036/ch04.html\n",
    "\n",
    "apply(), applymap(), map() in Pandas\n",
    "\n",
    "https://towardsdatascience.com/introduction-to-pandas-apply-applymap-and-map-5d3e044e93ff"
   ]
  },
  {
   "cell_type": "code",
   "execution_count": null,
   "metadata": {},
   "outputs": [
    {
     "name": "stdout",
     "output_type": "stream",
     "text": [
      "(500,)\n",
      "(502,)\n",
      "CPU times: user 7.86 s, sys: 233 ms, total: 8.09 s\n",
      "Wall time: 8.95 s\n"
     ]
    },
    {
     "data": {
      "text/html": [
       "<div>\n",
       "<style scoped>\n",
       "    .dataframe tbody tr th:only-of-type {\n",
       "        vertical-align: middle;\n",
       "    }\n",
       "\n",
       "    .dataframe tbody tr th {\n",
       "        vertical-align: top;\n",
       "    }\n",
       "\n",
       "    .dataframe thead th {\n",
       "        text-align: right;\n",
       "    }\n",
       "</style>\n",
       "<table border=\"1\" class=\"dataframe\">\n",
       "  <thead>\n",
       "    <tr style=\"text-align: right;\">\n",
       "      <th></th>\n",
       "      <th>encodingA</th>\n",
       "      <th>encodingB</th>\n",
       "      <th>L-codeA</th>\n",
       "      <th>R-codeA</th>\n",
       "      <th>L-codeB</th>\n",
       "      <th>R-codeB</th>\n",
       "      <th>true_order_codeA</th>\n",
       "      <th>true_order_codeB</th>\n",
       "      <th>combined_encoding</th>\n",
       "      <th>result</th>\n",
       "    </tr>\n",
       "  </thead>\n",
       "  <tbody>\n",
       "    <tr>\n",
       "      <th>0</th>\n",
       "      <td>[0, 0, 0, 0, 0, 0, 0, 0, 0, 2, 0, 0, 0, 0, 0, ...</td>\n",
       "      <td>[0, 0, 0, 0, 0, 0, 0, 0, 0, 0, 0, 0, 0, 0, 0, ...</td>\n",
       "      <td>[model, preds, grid_search_params]</td>\n",
       "      <td>[lgb, train_features, roc_auc_score, print, te...</td>\n",
       "      <td>[train_labels_last]</td>\n",
       "      <td>[app_train]</td>\n",
       "      <td>21</td>\n",
       "      <td>43</td>\n",
       "      <td>[0.0, 0.0, 0.0, 0.0, 0.0, 0.0, 0.0, 0.0, 0.0, ...</td>\n",
       "      <td>True</td>\n",
       "    </tr>\n",
       "    <tr>\n",
       "      <th>1</th>\n",
       "      <td>[0, 0, 0, 0, 0, 0, 0, 0, 0, 2, 0, 0, 0, 0, 0, ...</td>\n",
       "      <td>[0, 0, 0, 0, 0, 0, 0, 0, 0, 1, 0, 0, 0, 0, 0, ...</td>\n",
       "      <td>[model, preds, grid_search_params]</td>\n",
       "      <td>[lgb, train_features, roc_auc_score, print, te...</td>\n",
       "      <td>[]</td>\n",
       "      <td>[objective, params, iteration, print, default_...</td>\n",
       "      <td>21</td>\n",
       "      <td>88</td>\n",
       "      <td>[0.0, 0.0, 0.0, 0.0, 0.0, 0.0, 0.0, 0.0, 0.0, ...</td>\n",
       "      <td>True</td>\n",
       "    </tr>\n",
       "    <tr>\n",
       "      <th>2</th>\n",
       "      <td>[0, 0, 0, 0, 0, 0, 0, 0, 0, 2, 0, 0, 0, 0, 0, ...</td>\n",
       "      <td>[0, 0, 0, 0, 0, 0, 0, 0, 0, 0, 0, 0, 0, 0, 0, ...</td>\n",
       "      <td>[model, preds, grid_search_params]</td>\n",
       "      <td>[lgb, train_features, roc_auc_score, print, te...</td>\n",
       "      <td>[]</td>\n",
       "      <td>[manual_features_test]</td>\n",
       "      <td>21</td>\n",
       "      <td>59</td>\n",
       "      <td>[0.0, 0.0, 0.0, 0.0, 0.0, 0.0, 0.0, 0.0, 0.0, ...</td>\n",
       "      <td>True</td>\n",
       "    </tr>\n",
       "    <tr>\n",
       "      <th>3</th>\n",
       "      <td>[0, 0, 0, 0, 0, 0, 0, 0, 0, 2, 0, 0, 0, 0, 0, ...</td>\n",
       "      <td>[0, 0, 0, 0, 0, 0, 0, 0, 0, 0, 0, 0, 0, 0, 0, ...</td>\n",
       "      <td>[model, preds, grid_search_params]</td>\n",
       "      <td>[lgb, train_features, roc_auc_score, print, te...</td>\n",
       "      <td>[submission]</td>\n",
       "      <td>[test_ids, preds, false, pd]</td>\n",
       "      <td>21</td>\n",
       "      <td>32</td>\n",
       "      <td>[0.0, 0.0, 0.0, 0.0, 0.0, 0.0, 0.0, 0.0, 0.0, ...</td>\n",
       "      <td>True</td>\n",
       "    </tr>\n",
       "    <tr>\n",
       "      <th>4</th>\n",
       "      <td>[0, 0, 0, 0, 0, 0, 0, 0, 0, 2, 0, 0, 0, 0, 0, ...</td>\n",
       "      <td>[0, 0, 0, 0, 0, 0, 0, 0, 0, 0, 0, 0, 0, 0, 0, ...</td>\n",
       "      <td>[model, preds, grid_search_params]</td>\n",
       "      <td>[lgb, train_features, roc_auc_score, print, te...</td>\n",
       "      <td>[app_train, app_test]</td>\n",
       "      <td>[print, pd]</td>\n",
       "      <td>21</td>\n",
       "      <td>42</td>\n",
       "      <td>[0.0, 0.0, 0.0, 0.0, 0.0, 0.0, 0.0, 0.0, 0.0, ...</td>\n",
       "      <td>True</td>\n",
       "    </tr>\n",
       "    <tr>\n",
       "      <th>...</th>\n",
       "      <td>...</td>\n",
       "      <td>...</td>\n",
       "      <td>...</td>\n",
       "      <td>...</td>\n",
       "      <td>...</td>\n",
       "      <td>...</td>\n",
       "      <td>...</td>\n",
       "      <td>...</td>\n",
       "      <td>...</td>\n",
       "      <td>...</td>\n",
       "    </tr>\n",
       "    <tr>\n",
       "      <th>12205</th>\n",
       "      <td>[0, 0, 0, 0, 0, 0, 0, 0, 0, 0, 0, 0, 0, 0, 0, ...</td>\n",
       "      <td>[0, 0, 0, 0, 0, 0, 0, 0, 0, 0, 0, 0, 0, 0, 0, ...</td>\n",
       "      <td>[os, np, plt, labelencoder, warnings, sns, pd]</td>\n",
       "      <td>[]</td>\n",
       "      <td>[test_set, train_set]</td>\n",
       "      <td>[lgb, train_features, train_labels, test_featu...</td>\n",
       "      <td>1</td>\n",
       "      <td>8</td>\n",
       "      <td>[0.0, 0.0, 0.0, 0.0, 0.0, 0.0, 0.0, 0.0, 0.0, ...</td>\n",
       "      <td>True</td>\n",
       "    </tr>\n",
       "    <tr>\n",
       "      <th>12206</th>\n",
       "      <td>[0, 0, 0, 0, 0, 0, 0, 0, 0, 0, 0, 0, 0, 0, 0, ...</td>\n",
       "      <td>[0, 0, 0, 0, 0, 0, 0, 0, 0, 0, 0, 0, 0, 0, 0, ...</td>\n",
       "      <td>[]</td>\n",
       "      <td>[]</td>\n",
       "      <td>[test_set, train_set]</td>\n",
       "      <td>[lgb, train_features, train_labels, test_featu...</td>\n",
       "      <td>102</td>\n",
       "      <td>8</td>\n",
       "      <td>[0.0, 0.0, 0.0, 0.0, 0.0, 0.0, 0.0, 0.0, 0.0, ...</td>\n",
       "      <td>False</td>\n",
       "    </tr>\n",
       "    <tr>\n",
       "      <th>12207</th>\n",
       "      <td>[0, 0, 0, 0, 0, 0, 0, 0, 0, 0, 0, 0, 0, 0, 0, ...</td>\n",
       "      <td>[0, 0, 0, 0, 0, 0, 0, 0, 0, 0, 0, 0, 0, 0, 0, ...</td>\n",
       "      <td>[os, np, plt, labelencoder, warnings, sns, pd]</td>\n",
       "      <td>[]</td>\n",
       "      <td>[eval_results, hyperparameters, itertools, res...</td>\n",
       "      <td>[objective, list, dict, v, values, zip, range,...</td>\n",
       "      <td>1</td>\n",
       "      <td>19</td>\n",
       "      <td>[0.0, 0.0, 0.0, 0.0, 0.0, 0.0, 0.0, 0.0, 0.0, ...</td>\n",
       "      <td>True</td>\n",
       "    </tr>\n",
       "    <tr>\n",
       "      <th>12208</th>\n",
       "      <td>[0, 0, 0, 0, 0, 0, 0, 0, 0, 0, 0, 0, 0, 0, 0, ...</td>\n",
       "      <td>[0, 0, 0, 0, 0, 0, 0, 0, 0, 0, 0, 0, 0, 0, 0, ...</td>\n",
       "      <td>[]</td>\n",
       "      <td>[]</td>\n",
       "      <td>[eval_results, hyperparameters, itertools, res...</td>\n",
       "      <td>[objective, list, dict, v, values, zip, range,...</td>\n",
       "      <td>102</td>\n",
       "      <td>19</td>\n",
       "      <td>[0.0, 0.0, 0.0, 0.0, 0.0, 0.0, 0.0, 0.0, 0.0, ...</td>\n",
       "      <td>False</td>\n",
       "    </tr>\n",
       "    <tr>\n",
       "      <th>12209</th>\n",
       "      <td>[0, 0, 0, 0, 0, 0, 0, 0, 0, 0, 0, 0, 0, 0, 0, ...</td>\n",
       "      <td>[0, 0, 0, 0, 0, 0, 0, 0, 0, 0, 0, 0, 0, 0, 0, ...</td>\n",
       "      <td>[]</td>\n",
       "      <td>[]</td>\n",
       "      <td>[os, np, plt, labelencoder, warnings, sns, pd]</td>\n",
       "      <td>[]</td>\n",
       "      <td>102</td>\n",
       "      <td>1</td>\n",
       "      <td>[0.0, 0.0, 0.0, 0.0, 0.0, 0.0, 0.0, 0.0, 0.0, ...</td>\n",
       "      <td>False</td>\n",
       "    </tr>\n",
       "  </tbody>\n",
       "</table>\n",
       "<p>12210 rows × 10 columns</p>\n",
       "</div>"
      ],
      "text/plain": [
       "                                               encodingA  \\\n",
       "0      [0, 0, 0, 0, 0, 0, 0, 0, 0, 2, 0, 0, 0, 0, 0, ...   \n",
       "1      [0, 0, 0, 0, 0, 0, 0, 0, 0, 2, 0, 0, 0, 0, 0, ...   \n",
       "2      [0, 0, 0, 0, 0, 0, 0, 0, 0, 2, 0, 0, 0, 0, 0, ...   \n",
       "3      [0, 0, 0, 0, 0, 0, 0, 0, 0, 2, 0, 0, 0, 0, 0, ...   \n",
       "4      [0, 0, 0, 0, 0, 0, 0, 0, 0, 2, 0, 0, 0, 0, 0, ...   \n",
       "...                                                  ...   \n",
       "12205  [0, 0, 0, 0, 0, 0, 0, 0, 0, 0, 0, 0, 0, 0, 0, ...   \n",
       "12206  [0, 0, 0, 0, 0, 0, 0, 0, 0, 0, 0, 0, 0, 0, 0, ...   \n",
       "12207  [0, 0, 0, 0, 0, 0, 0, 0, 0, 0, 0, 0, 0, 0, 0, ...   \n",
       "12208  [0, 0, 0, 0, 0, 0, 0, 0, 0, 0, 0, 0, 0, 0, 0, ...   \n",
       "12209  [0, 0, 0, 0, 0, 0, 0, 0, 0, 0, 0, 0, 0, 0, 0, ...   \n",
       "\n",
       "                                               encodingB  \\\n",
       "0      [0, 0, 0, 0, 0, 0, 0, 0, 0, 0, 0, 0, 0, 0, 0, ...   \n",
       "1      [0, 0, 0, 0, 0, 0, 0, 0, 0, 1, 0, 0, 0, 0, 0, ...   \n",
       "2      [0, 0, 0, 0, 0, 0, 0, 0, 0, 0, 0, 0, 0, 0, 0, ...   \n",
       "3      [0, 0, 0, 0, 0, 0, 0, 0, 0, 0, 0, 0, 0, 0, 0, ...   \n",
       "4      [0, 0, 0, 0, 0, 0, 0, 0, 0, 0, 0, 0, 0, 0, 0, ...   \n",
       "...                                                  ...   \n",
       "12205  [0, 0, 0, 0, 0, 0, 0, 0, 0, 0, 0, 0, 0, 0, 0, ...   \n",
       "12206  [0, 0, 0, 0, 0, 0, 0, 0, 0, 0, 0, 0, 0, 0, 0, ...   \n",
       "12207  [0, 0, 0, 0, 0, 0, 0, 0, 0, 0, 0, 0, 0, 0, 0, ...   \n",
       "12208  [0, 0, 0, 0, 0, 0, 0, 0, 0, 0, 0, 0, 0, 0, 0, ...   \n",
       "12209  [0, 0, 0, 0, 0, 0, 0, 0, 0, 0, 0, 0, 0, 0, 0, ...   \n",
       "\n",
       "                                              L-codeA  \\\n",
       "0                  [model, preds, grid_search_params]   \n",
       "1                  [model, preds, grid_search_params]   \n",
       "2                  [model, preds, grid_search_params]   \n",
       "3                  [model, preds, grid_search_params]   \n",
       "4                  [model, preds, grid_search_params]   \n",
       "...                                               ...   \n",
       "12205  [os, np, plt, labelencoder, warnings, sns, pd]   \n",
       "12206                                              []   \n",
       "12207  [os, np, plt, labelencoder, warnings, sns, pd]   \n",
       "12208                                              []   \n",
       "12209                                              []   \n",
       "\n",
       "                                                 R-codeA  \\\n",
       "0      [lgb, train_features, roc_auc_score, print, te...   \n",
       "1      [lgb, train_features, roc_auc_score, print, te...   \n",
       "2      [lgb, train_features, roc_auc_score, print, te...   \n",
       "3      [lgb, train_features, roc_auc_score, print, te...   \n",
       "4      [lgb, train_features, roc_auc_score, print, te...   \n",
       "...                                                  ...   \n",
       "12205                                                 []   \n",
       "12206                                                 []   \n",
       "12207                                                 []   \n",
       "12208                                                 []   \n",
       "12209                                                 []   \n",
       "\n",
       "                                                 L-codeB  \\\n",
       "0                                    [train_labels_last]   \n",
       "1                                                     []   \n",
       "2                                                     []   \n",
       "3                                           [submission]   \n",
       "4                                  [app_train, app_test]   \n",
       "...                                                  ...   \n",
       "12205                              [test_set, train_set]   \n",
       "12206                              [test_set, train_set]   \n",
       "12207  [eval_results, hyperparameters, itertools, res...   \n",
       "12208  [eval_results, hyperparameters, itertools, res...   \n",
       "12209     [os, np, plt, labelencoder, warnings, sns, pd]   \n",
       "\n",
       "                                                 R-codeB  true_order_codeA  \\\n",
       "0                                            [app_train]                21   \n",
       "1      [objective, params, iteration, print, default_...                21   \n",
       "2                                 [manual_features_test]                21   \n",
       "3                           [test_ids, preds, false, pd]                21   \n",
       "4                                            [print, pd]                21   \n",
       "...                                                  ...               ...   \n",
       "12205  [lgb, train_features, train_labels, test_featu...                 1   \n",
       "12206  [lgb, train_features, train_labels, test_featu...               102   \n",
       "12207  [objective, list, dict, v, values, zip, range,...                 1   \n",
       "12208  [objective, list, dict, v, values, zip, range,...               102   \n",
       "12209                                                 []               102   \n",
       "\n",
       "       true_order_codeB                                  combined_encoding  \\\n",
       "0                    43  [0.0, 0.0, 0.0, 0.0, 0.0, 0.0, 0.0, 0.0, 0.0, ...   \n",
       "1                    88  [0.0, 0.0, 0.0, 0.0, 0.0, 0.0, 0.0, 0.0, 0.0, ...   \n",
       "2                    59  [0.0, 0.0, 0.0, 0.0, 0.0, 0.0, 0.0, 0.0, 0.0, ...   \n",
       "3                    32  [0.0, 0.0, 0.0, 0.0, 0.0, 0.0, 0.0, 0.0, 0.0, ...   \n",
       "4                    42  [0.0, 0.0, 0.0, 0.0, 0.0, 0.0, 0.0, 0.0, 0.0, ...   \n",
       "...                 ...                                                ...   \n",
       "12205                 8  [0.0, 0.0, 0.0, 0.0, 0.0, 0.0, 0.0, 0.0, 0.0, ...   \n",
       "12206                 8  [0.0, 0.0, 0.0, 0.0, 0.0, 0.0, 0.0, 0.0, 0.0, ...   \n",
       "12207                19  [0.0, 0.0, 0.0, 0.0, 0.0, 0.0, 0.0, 0.0, 0.0, ...   \n",
       "12208                19  [0.0, 0.0, 0.0, 0.0, 0.0, 0.0, 0.0, 0.0, 0.0, ...   \n",
       "12209                 1  [0.0, 0.0, 0.0, 0.0, 0.0, 0.0, 0.0, 0.0, 0.0, ...   \n",
       "\n",
       "       result  \n",
       "0        True  \n",
       "1        True  \n",
       "2        True  \n",
       "3        True  \n",
       "4        True  \n",
       "...       ...  \n",
       "12205    True  \n",
       "12206   False  \n",
       "12207    True  \n",
       "12208   False  \n",
       "12209   False  \n",
       "\n",
       "[12210 rows x 10 columns]"
      ]
     },
     "metadata": {},
     "output_type": "display_data"
    }
   ],
   "source": [
    "%%time\n",
    "df = pd.read_json(\"data/train_P3_code/0b1de3720f4773.json\")\n",
    "#print(df.index.shape)\n",
    "\n",
    "from itertools import combinations, combinations_with_replacement\n",
    "from array import array\n",
    "\n",
    "a, b = map(list, zip(*combinations(df.index, 2)))\n",
    "#print(len(a))\n",
    "\n",
    "a1 =a+b\n",
    "b1 = b+a\n",
    "df_new = pd.DataFrame(data={\"encodingA\":df.loc[a1,\"encoding\"].reset_index(drop=True),\n",
    " \"encodingB\":df.loc[b1,\"encoding\"].reset_index(drop=True),\n",
    " \"L-codeA\":df.loc[a1,\"L-codetokens\"].reset_index(drop=True),\n",
    " \"R-codeA\":df.loc[a1,\"R-codetokens\"].reset_index(drop=True),\n",
    " \"L-codeB\":df.loc[b1,\"L-codetokens\"].reset_index(drop=True),\n",
    " \"R-codeB\":df.loc[b1,\"R-codetokens\"].reset_index(drop=True),\n",
    " \"true_order_codeA\":df.loc[a1,\"true_order_code\"].reset_index(drop=True),\n",
    " \"true_order_codeB\":df.loc[b1,\"true_order_code\"].reset_index(drop=True),})\n",
    "\n",
    "df_new.loc[:,\"combined_encoding\"] = df_new.apply(lambda x: np.append(x.encodingA, x.encodingB), axis=1)\n",
    "print(df_new.loc[1,\"combined_encoding\"].shape)\n",
    "\n",
    "## adding ancestry information\n",
    "df_new.loc[:,\"combined_encoding\"] = df_new.apply( \\\n",
    "                                    lambda x: np.append(x[\"combined_encoding\"], ancestry(x)),axis=1)\n",
    "\n",
    "# generate ground truth value to be fitted on\n",
    "df_new[\"result\"] = df_new[\"true_order_codeA\"]<df_new[\"true_order_codeB\"] # is A smaller than B\n",
    "df_new = df_new.drop([   \"encodingA\",    \"encodingB\",\n",
    "                \"L-codeA\",      \"L-codeB\", \n",
    "                \"R-codeB\",      \"R-codeA\",\n",
    "                \"source\",       \"cell_type\",\n",
    "                \"true_order\",   \"true_order_code\"], axis=1)\n",
    "                \n",
    "# should be 502 = (250)*2 + 2\n",
    "print(df_new.loc[1,\"combined_encoding\"].shape)\n",
    "\n",
    "df_new"
   ]
  }
 ],
 "metadata": {
  "interpreter": {
   "hash": "4976e0179d97dd6d59b1329a76e601e17b789c2571b41c8b57f5fd69821c0dd3"
  },
  "kernelspec": {
   "display_name": "Python 3.8.13 ('mlp')",
   "language": "python",
   "name": "python3"
  },
  "language_info": {
   "codemirror_mode": {
    "name": "ipython",
    "version": 3
   },
   "file_extension": ".py",
   "mimetype": "text/x-python",
   "name": "python",
   "nbconvert_exporter": "python",
   "pygments_lexer": "ipython3",
   "version": "3.8.13"
  }
 },
 "nbformat": 4,
 "nbformat_minor": 2
}
