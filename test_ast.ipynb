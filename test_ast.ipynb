{
 "cells": [
  {
   "cell_type": "markdown",
   "metadata": {},
   "source": [
    "#### test AST python parser\n",
    "### test AST python parser\n",
    "## test AST python parser\n",
    "# test AST python parser"
   ]
  },
  {
   "cell_type": "markdown",
   "metadata": {},
   "source": [
    "The code below finds the assign element in the python syntax tree"
   ]
  },
  {
   "cell_type": "code",
   "execution_count": 12,
   "metadata": {},
   "outputs": [
    {
     "data": {
      "text/plain": [
       "[<ast.Assign at 0x7fd9e8dbdac0>]"
      ]
     },
     "execution_count": 12,
     "metadata": {},
     "output_type": "execute_result"
    }
   ],
   "source": [
    "import ast\n",
    "source = \"x = train_df.drop(columns = \\\"target\\\")\"\n",
    "root = ast.parse(source)\n",
    "names = sorted({node for node in ast.walk(root) if isinstance(node, ast.Assign)})\n",
    "names"
   ]
  },
  {
   "cell_type": "markdown",
   "metadata": {},
   "source": [
    "`targets` of the assign is the left-value. This is a list as multiple objects can be assigned"
   ]
  },
  {
   "cell_type": "code",
   "execution_count": 19,
   "metadata": {},
   "outputs": [
    {
     "data": {
      "text/plain": [
       "'x'"
      ]
     },
     "execution_count": 19,
     "metadata": {},
     "output_type": "execute_result"
    }
   ],
   "source": [
    "names[0].targets[0].id"
   ]
  },
  {
   "cell_type": "markdown",
   "metadata": {},
   "source": [
    "The right value is stored in `value` attribute"
   ]
  },
  {
   "cell_type": "code",
   "execution_count": 26,
   "metadata": {},
   "outputs": [
    {
     "data": {
      "text/plain": [
       "{'func': <ast.Attribute at 0x7fd9c86f75b0>,\n",
       " 'args': [],\n",
       " 'keywords': [<ast.keyword at 0x7fd9c86f7a30>],\n",
       " 'lineno': 1,\n",
       " 'col_offset': 4,\n",
       " 'end_lineno': 1,\n",
       " 'end_col_offset': 37}"
      ]
     },
     "execution_count": 26,
     "metadata": {},
     "output_type": "execute_result"
    }
   ],
   "source": [
    "names[0].value.__dict__"
   ]
  },
  {
   "cell_type": "code",
   "execution_count": 13,
   "metadata": {},
   "outputs": [
    {
     "data": {
      "text/plain": [
       "\"Module(body=[Assign(targets=[Name(id='x', ctx=Store())], value=Call(func=Attribute(value=Name(id='train_df', ctx=Load()), attr='drop', ctx=Load()), args=[], keywords=[keyword(arg='columns', value=Constant(value='target'))]))], type_ignores=[])\""
      ]
     },
     "execution_count": 13,
     "metadata": {},
     "output_type": "execute_result"
    }
   ],
   "source": [
    "ast.dump(root)"
   ]
  },
  {
   "cell_type": "code",
   "execution_count": 8,
   "metadata": {},
   "outputs": [
    {
     "name": "stdout",
     "output_type": "stream",
     "text": [
      "<class 'ast.Module'>\n",
      "<class 'ast.Assign'>\n",
      "<class 'ast.Name'>\n",
      "<class 'ast.Call'>\n",
      "<class 'ast.Store'>\n",
      "<class 'ast.Attribute'>\n",
      "<class 'ast.keyword'>\n",
      "<class 'ast.Name'>\n",
      "<class 'ast.Load'>\n",
      "<class 'ast.Constant'>\n",
      "<class 'ast.Load'>\n"
     ]
    }
   ],
   "source": [
    "for node in ast.walk(root):\n",
    "    print(type(node))"
   ]
  },
  {
   "cell_type": "code",
   "execution_count": null,
   "metadata": {},
   "outputs": [],
   "source": []
  }
 ],
 "metadata": {
  "interpreter": {
   "hash": "3f9d4a2cd28c798ce7c4b0f414ef1aea287f110fe05f6b27e1d411f0c4025893"
  },
  "kernelspec": {
   "display_name": "Python 3.9.12 ('base')",
   "language": "python",
   "name": "python3"
  },
  "language_info": {
   "codemirror_mode": {
    "name": "ipython",
    "version": 3
   },
   "file_extension": ".py",
   "mimetype": "text/x-python",
   "name": "python",
   "nbconvert_exporter": "python",
   "pygments_lexer": "ipython3",
   "version": "3.9.12"
  },
  "orig_nbformat": 4
 },
 "nbformat": 4,
 "nbformat_minor": 2
}
